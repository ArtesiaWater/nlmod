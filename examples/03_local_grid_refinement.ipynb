{
 "cells": [
  {
   "cell_type": "markdown",
   "metadata": {},
   "source": [
    "\n",
    "\n",
    "<figure>\n",
    "   <IMG SRC=\"https://avatars2.githubusercontent.com/u/31697400?s=400&u=a5a6fc31ec93c07853dd53835936fd90c44f7483&v=4\" WIDTH=125 ALIGN=\"right\">\n",
    "</figure>\n",
    "    \n",
    "# NLmod examples    \n",
    "\n",
    "This example notebook shows some examples of the `nlmod` package. This package contains functions to create modflow models anywhere in the Netherlands."
   ]
  },
  {
   "cell_type": "markdown",
   "metadata": {},
   "source": [
    "### Table of contents\n",
    "1. [Create model](#create)\n",
    "2. [Run model](#run)\n",
    "3. [Visualise](#Visualise)\n",
    "4. [Local grid refinement](#local)"
   ]
  },
  {
   "cell_type": "code",
   "execution_count": 1,
   "metadata": {},
   "outputs": [
    {
     "name": "stdout",
     "output_type": "stream",
     "text": [
      "nlmod version: 0.0.1b\n"
     ]
    }
   ],
   "source": [
    "import matplotlib.pyplot as plt\n",
    "import flopy\n",
    "import os\n",
    "import geopandas as gpd\n",
    "\n",
    "import nlmod\n",
    "\n",
    "print(f'nlmod version: {nlmod.__version__}')"
   ]
  },
  {
   "cell_type": "markdown",
   "metadata": {},
   "source": [
    "### 4. Local grid refinement<a name=\"local\"></a>\n",
    "\n",
    "Modflow 6 makes it possible to use locally refined grids. In NLmod you can use a shapefile and a number of levels to specify where and how much you want to use local grid refinement. Below we use a shapefile of the Planetenweg in IJmuiden and set the refinement levels at 2. This well create a grid with cells of 100x100m except at the Planetenweg where the cells will be refined to 25x25m. See also figures below.\n",
    "\n",
    "Note: the `gen_model_unstructured` function also returns the `gridprops` dictionary. This contains data that is necesary to create some packages. It can be time consuming to generate this data."
   ]
  },
  {
   "cell_type": "code",
   "execution_count": 2,
   "metadata": {},
   "outputs": [],
   "source": [
    "# model settings unstructured\n",
    "model_ws = 'model2'\n",
    "model_name = 'IJm_planeten'\n",
    "refine_shp_fname = os.path.join(nlmod.nlmod_datadir, 'shapes', 'planetenweg_ijmuiden')\n",
    "levels=2\n",
    "use_cache=False\n",
    "extent=[95000., 105000., 494000., 500000.]\n",
    "delr=100.\n",
    "delc=100.\n",
    "steady_state=False\n",
    "steady_start=True\n",
    "transient_timesteps=5\n",
    "perlen=1.\n",
    "verbose=True\n",
    "start_time='2015-1-1'\n",
    "gridtype = 'unstructured'\n",
    "use_regis=True\n",
    "regis_botm_layer=b'MSz1'\n",
    "use_geotop=True\n",
    "add_northsea=True\n",
    "starting_head=1.0"
   ]
  },
  {
   "cell_type": "code",
   "execution_count": 3,
   "metadata": {},
   "outputs": [
    {
     "name": "stdout",
     "output_type": "stream",
     "text": [
      "creating modflow SIM, TDIS, GWF and IMS\n",
      "redefining current extent: [95000.0, 105000.0, 494000.0, 500000.0], fit to regis raster\n",
      "new extent is [94950.0, 105050.0, 493950.0, 500050.0] model has 61 rows and 101 columns\n",
      "creating and caching dataset combined_layer_ds.nc\n",
      "\n"
     ]
    }
   ],
   "source": [
    "# Model directories\n",
    "figdir2, cachedir2, gridgen_ws = nlmod.util.get_model_dirs(model_ws, gridtype=gridtype)\n",
    "\n",
    "\n",
    "# create model time dataset\n",
    "model_ds2 = nlmod.mtime.get_model_ds_time(model_name, model_ws, start_time,\n",
    "                                         steady_state, steady_start=steady_start,\n",
    "                                         transient_timesteps=transient_timesteps,\n",
    "                                         perlen=perlen)\n",
    "\n",
    "# create modflow packages\n",
    "sim, gwf2 = nlmod.mfpackages.sim_tdis_gwf_ims_from_model_ds(model_ds2,\n",
    "                                                           verbose=verbose)\n",
    "\n",
    "extent, nrow, ncol = nlmod.read.regis.fit_extent_to_regis(extent,\n",
    "                                                          delr,\n",
    "                                                          delc, verbose=verbose)\n",
    "\n",
    "# layer model\n",
    "layer_model = nlmod.read.regis.get_layer_models(extent, delr, delc,\n",
    "                                                use_regis=use_regis,\n",
    "                                                regis_botm_layer=regis_botm_layer,\n",
    "                                                use_geotop=use_geotop,\n",
    "                                                cachedir=cachedir2,\n",
    "                                                fname_netcdf='combined_layer_ds.nc',\n",
    "                                                use_cache=use_cache,\n",
    "                                                verbose=verbose)\n"
   ]
  },
  {
   "cell_type": "code",
   "execution_count": 4,
   "metadata": {},
   "outputs": [
    {
     "name": "stdout",
     "output_type": "stream",
     "text": [
      "Automatic pdb calling has been turned ON\n"
     ]
    }
   ],
   "source": [
    "%pdb"
   ]
  },
  {
   "cell_type": "code",
   "execution_count": 5,
   "metadata": {},
   "outputs": [
    {
     "name": "stdout",
     "output_type": "stream",
     "text": [
      "create unstructured grid using gridgen\n"
     ]
    },
    {
     "ename": "Exception",
     "evalue": "Cannot find gridgen binary executable",
     "output_type": "error",
     "traceback": [
      "\u001b[1;31m---------------------------------------------------------------------------\u001b[0m",
      "\u001b[1;31mException\u001b[0m                                 Traceback (most recent call last)",
      "\u001b[1;32m<ipython-input-5-114e40dbb56d>\u001b[0m in \u001b[0;36m<module>\u001b[1;34m\u001b[0m\n\u001b[0;32m      6\u001b[0m                                                  \u001b[0mdelr\u001b[0m\u001b[1;33m,\u001b[0m \u001b[0mdelc\u001b[0m\u001b[1;33m,\u001b[0m\u001b[1;33m\u001b[0m\u001b[1;33m\u001b[0m\u001b[0m\n\u001b[0;32m      7\u001b[0m                                                  \u001b[0mcachedir\u001b[0m\u001b[1;33m=\u001b[0m\u001b[0mcachedir2\u001b[0m\u001b[1;33m,\u001b[0m \u001b[0muse_cache\u001b[0m\u001b[1;33m=\u001b[0m\u001b[0muse_cache\u001b[0m\u001b[1;33m,\u001b[0m\u001b[1;33m\u001b[0m\u001b[1;33m\u001b[0m\u001b[0m\n\u001b[1;32m----> 8\u001b[1;33m                                                  verbose=verbose)\n\u001b[0m\u001b[0;32m      9\u001b[0m \u001b[1;33m\u001b[0m\u001b[0m\n\u001b[0;32m     10\u001b[0m \u001b[1;31m# add layer model to unstructured grid\u001b[0m\u001b[1;33m\u001b[0m\u001b[1;33m\u001b[0m\u001b[1;33m\u001b[0m\u001b[0m\n",
      "\u001b[1;32mc:\\users\\oebbe\\02_python\\nlmod\\nlmod\\mgrid\\mgrid.py\u001b[0m in \u001b[0;36mcreate_unstructured_grid\u001b[1;34m(gridgen_ws, model_name, gwf, shp_fname, levels, extent, nlay, nrow, ncol, delr, delc, shp_type, cachedir, use_cache, verbose)\u001b[0m\n\u001b[0;32m    671\u001b[0m         exe_name = os.path.join(os.path.dirname(__file__),\n\u001b[0;32m    672\u001b[0m                                 '.', ' .', 'executables', 'gridgen.exe')\n\u001b[1;32m--> 673\u001b[1;33m     \u001b[0mg\u001b[0m \u001b[1;33m=\u001b[0m \u001b[0mGridgen\u001b[0m\u001b[1;33m(\u001b[0m\u001b[0m_dis_temp\u001b[0m\u001b[1;33m,\u001b[0m \u001b[0mmodel_ws\u001b[0m\u001b[1;33m=\u001b[0m\u001b[0mgridgen_ws\u001b[0m\u001b[1;33m,\u001b[0m \u001b[0mexe_name\u001b[0m\u001b[1;33m=\u001b[0m\u001b[0mexe_name\u001b[0m\u001b[1;33m)\u001b[0m\u001b[1;33m\u001b[0m\u001b[1;33m\u001b[0m\u001b[0m\n\u001b[0m\u001b[0;32m    674\u001b[0m \u001b[1;33m\u001b[0m\u001b[0m\n\u001b[0;32m    675\u001b[0m     \u001b[0mg\u001b[0m\u001b[1;33m.\u001b[0m\u001b[0madd_refinement_features\u001b[0m\u001b[1;33m(\u001b[0m\u001b[0mshp_fname\u001b[0m\u001b[1;33m,\u001b[0m \u001b[0mshp_type\u001b[0m\u001b[1;33m,\u001b[0m \u001b[0mlevels\u001b[0m\u001b[1;33m,\u001b[0m \u001b[0mrange\u001b[0m\u001b[1;33m(\u001b[0m\u001b[0mnlay\u001b[0m\u001b[1;33m)\u001b[0m\u001b[1;33m)\u001b[0m\u001b[1;33m\u001b[0m\u001b[1;33m\u001b[0m\u001b[0m\n",
      "\u001b[1;32mC:\\Anaconda3\\envs\\nhflopy\\lib\\site-packages\\flopy\\utils\\gridgen.py\u001b[0m in \u001b[0;36m__init__\u001b[1;34m(self, dis, model_ws, exe_name, surface_interpolation, vertical_pass_through)\u001b[0m\n\u001b[0;32m    222\u001b[0m         \u001b[0mexe_name\u001b[0m \u001b[1;33m=\u001b[0m \u001b[0mwhich\u001b[0m\u001b[1;33m(\u001b[0m\u001b[0mexe_name\u001b[0m\u001b[1;33m)\u001b[0m\u001b[1;33m\u001b[0m\u001b[1;33m\u001b[0m\u001b[0m\n\u001b[0;32m    223\u001b[0m         \u001b[1;32mif\u001b[0m \u001b[0mexe_name\u001b[0m \u001b[1;32mis\u001b[0m \u001b[1;32mNone\u001b[0m\u001b[1;33m:\u001b[0m\u001b[1;33m\u001b[0m\u001b[1;33m\u001b[0m\u001b[0m\n\u001b[1;32m--> 224\u001b[1;33m             \u001b[1;32mraise\u001b[0m \u001b[0mException\u001b[0m\u001b[1;33m(\u001b[0m\u001b[1;34m\"Cannot find gridgen binary executable\"\u001b[0m\u001b[1;33m)\u001b[0m\u001b[1;33m\u001b[0m\u001b[1;33m\u001b[0m\u001b[0m\n\u001b[0m\u001b[0;32m    225\u001b[0m         \u001b[0mself\u001b[0m\u001b[1;33m.\u001b[0m\u001b[0mexe_name\u001b[0m \u001b[1;33m=\u001b[0m \u001b[0mos\u001b[0m\u001b[1;33m.\u001b[0m\u001b[0mpath\u001b[0m\u001b[1;33m.\u001b[0m\u001b[0mabspath\u001b[0m\u001b[1;33m(\u001b[0m\u001b[0mexe_name\u001b[0m\u001b[1;33m)\u001b[0m\u001b[1;33m\u001b[0m\u001b[1;33m\u001b[0m\u001b[0m\n\u001b[0;32m    226\u001b[0m \u001b[1;33m\u001b[0m\u001b[0m\n",
      "\u001b[1;31mException\u001b[0m: Cannot find gridgen binary executable"
     ]
    },
    {
     "name": "stdout",
     "output_type": "stream",
     "text": [
      "> \u001b[1;32mc:\\anaconda3\\envs\\nhflopy\\lib\\site-packages\\flopy\\utils\\gridgen.py\u001b[0m(224)\u001b[0;36m__init__\u001b[1;34m()\u001b[0m\n",
      "\u001b[1;32m    222 \u001b[1;33m        \u001b[0mexe_name\u001b[0m \u001b[1;33m=\u001b[0m \u001b[0mwhich\u001b[0m\u001b[1;33m(\u001b[0m\u001b[0mexe_name\u001b[0m\u001b[1;33m)\u001b[0m\u001b[1;33m\u001b[0m\u001b[1;33m\u001b[0m\u001b[0m\n",
      "\u001b[0m\u001b[1;32m    223 \u001b[1;33m        \u001b[1;32mif\u001b[0m \u001b[0mexe_name\u001b[0m \u001b[1;32mis\u001b[0m \u001b[1;32mNone\u001b[0m\u001b[1;33m:\u001b[0m\u001b[1;33m\u001b[0m\u001b[1;33m\u001b[0m\u001b[0m\n",
      "\u001b[0m\u001b[1;32m--> 224 \u001b[1;33m            \u001b[1;32mraise\u001b[0m \u001b[0mException\u001b[0m\u001b[1;33m(\u001b[0m\u001b[1;34m\"Cannot find gridgen binary executable\"\u001b[0m\u001b[1;33m)\u001b[0m\u001b[1;33m\u001b[0m\u001b[1;33m\u001b[0m\u001b[0m\n",
      "\u001b[0m\u001b[1;32m    225 \u001b[1;33m        \u001b[0mself\u001b[0m\u001b[1;33m.\u001b[0m\u001b[0mexe_name\u001b[0m \u001b[1;33m=\u001b[0m \u001b[0mos\u001b[0m\u001b[1;33m.\u001b[0m\u001b[0mpath\u001b[0m\u001b[1;33m.\u001b[0m\u001b[0mabspath\u001b[0m\u001b[1;33m(\u001b[0m\u001b[0mexe_name\u001b[0m\u001b[1;33m)\u001b[0m\u001b[1;33m\u001b[0m\u001b[1;33m\u001b[0m\u001b[0m\n",
      "\u001b[0m\u001b[1;32m    226 \u001b[1;33m\u001b[1;33m\u001b[0m\u001b[0m\n",
      "\u001b[0m\n",
      "ipdb> u\n",
      "> \u001b[1;32mc:\\users\\oebbe\\02_python\\nlmod\\nlmod\\mgrid\\mgrid.py\u001b[0m(673)\u001b[0;36mcreate_unstructured_grid\u001b[1;34m()\u001b[0m\n",
      "\u001b[1;32m    671 \u001b[1;33m        exe_name = os.path.join(os.path.dirname(__file__),\n",
      "\u001b[0m\u001b[1;32m    672 \u001b[1;33m                                '.', ' .', 'executables', 'gridgen.exe')\n",
      "\u001b[0m\u001b[1;32m--> 673 \u001b[1;33m    \u001b[0mg\u001b[0m \u001b[1;33m=\u001b[0m \u001b[0mGridgen\u001b[0m\u001b[1;33m(\u001b[0m\u001b[0m_dis_temp\u001b[0m\u001b[1;33m,\u001b[0m \u001b[0mmodel_ws\u001b[0m\u001b[1;33m=\u001b[0m\u001b[0mgridgen_ws\u001b[0m\u001b[1;33m,\u001b[0m \u001b[0mexe_name\u001b[0m\u001b[1;33m=\u001b[0m\u001b[0mexe_name\u001b[0m\u001b[1;33m)\u001b[0m\u001b[1;33m\u001b[0m\u001b[1;33m\u001b[0m\u001b[0m\n",
      "\u001b[0m\u001b[1;32m    674 \u001b[1;33m\u001b[1;33m\u001b[0m\u001b[0m\n",
      "\u001b[0m\u001b[1;32m    675 \u001b[1;33m    \u001b[0mg\u001b[0m\u001b[1;33m.\u001b[0m\u001b[0madd_refinement_features\u001b[0m\u001b[1;33m(\u001b[0m\u001b[0mshp_fname\u001b[0m\u001b[1;33m,\u001b[0m \u001b[0mshp_type\u001b[0m\u001b[1;33m,\u001b[0m \u001b[0mlevels\u001b[0m\u001b[1;33m,\u001b[0m \u001b[0mrange\u001b[0m\u001b[1;33m(\u001b[0m\u001b[0mnlay\u001b[0m\u001b[1;33m)\u001b[0m\u001b[1;33m)\u001b[0m\u001b[1;33m\u001b[0m\u001b[1;33m\u001b[0m\u001b[0m\n",
      "\u001b[0m\n",
      "ipdb> exe_name\n",
      "'c:\\\\users\\\\oebbe\\\\02_python\\\\nlmod\\\\nlmod\\\\mgrid\\\\.\\\\ .\\\\executables\\\\gridgen.exe'\n",
      "ipdb> os.path.exists(exe_name)\n",
      "False\n",
      "ipdb> os.path.isfile(exe_name)\n",
      "False\n",
      "ipdb> q\n"
     ]
    }
   ],
   "source": [
    "# use gridgen to create unstructured grid\n",
    "gridprops = nlmod.mgrid.create_unstructured_grid(gridgen_ws, model_name, gwf2,\n",
    "                                                 refine_shp_fname, levels, extent,\n",
    "                                                 layer_model.dims['layer'],\n",
    "                                                 nrow, ncol,\n",
    "                                                 delr, delc,\n",
    "                                                 cachedir=cachedir2, use_cache=use_cache,\n",
    "                                                 verbose=verbose)\n",
    "\n",
    "# add layer model to unstructured grid\n",
    "layer_model_unstr = nlmod.mgrid.get_ml_layer_dataset_unstruc(raw_ds=layer_model,\n",
    "                                                            extent=extent,\n",
    "                                                            gridprops=gridprops,\n",
    "                                                            cachedir=cachedir2,\n",
    "                                                            fname_netcdf='layer_model_unstr.nc',\n",
    "                                                            use_cache=use_cache,\n",
    "                                                            verbose=verbose)\n",
    "\n",
    "# combine model time dataset with layer model dataset\n",
    "model_ds2 = nlmod.mgrid.update_model_ds_from_ml_layer_ds(model_ds2,\n",
    "                                                          layer_model_unstr,\n",
    "                                                          gridtype,\n",
    "                                                          keep_vars=['x', 'y'],\n",
    "                                                          gridprops=gridprops,\n",
    "                                                          add_northsea=add_northsea,\n",
    "                                                          verbose=verbose)\n",
    "\n",
    "# Create discretization\n",
    "disv = nlmod.mfpackages.disv_from_model_ds(model_ds2, gwf, gridprops,\n",
    "                                        angrot=angrot,\n",
    "                                        length_units=length_units)"
   ]
  },
  {
   "cell_type": "code",
   "execution_count": null,
   "metadata": {},
   "outputs": [],
   "source": []
  },
  {
   "cell_type": "code",
   "execution_count": null,
   "metadata": {},
   "outputs": [],
   "source": [
    "# create node property flow\n",
    "nlmod.mfpackages.npf_from_model_ds(model_ds2, gwf2)\n",
    "\n",
    "# Create the initial conditions package\n",
    "nlmod.mfpackages.ic_from_model_ds(model_ds2, gwf2, starting_head=starting_head)\n",
    "\n",
    "# Create the output control package\n",
    "nlmod.mfpackages.oc_from_model_ds(model_ds2, gwf2)"
   ]
  },
  {
   "cell_type": "code",
   "execution_count": null,
   "metadata": {},
   "outputs": [],
   "source": [
    "# voeg grote oppervlaktewaterlichamen toe\n",
    "da_name = 'surface_water'\n",
    "model_ds2 = nlmod.mfpackages.surface_water.get_general_head_boundary(model_ds2,\n",
    "                                                                     gwf2.modelgrid,\n",
    "                                                                     da_name,\n",
    "                                                                     cachedir=cachedir2,\n",
    "                                                                     use_cache=use_cache,\n",
    "                                                                     verbose=verbose)\n",
    "ghb = nlmod.mfpackages.ghb_from_model_ds(model_ds2, gwf2, da_name)\n",
    "\n",
    "# surface level drain\n",
    "model_ds2 = nlmod.read.ahn.get_ahn_dataset(model_ds2, use_cache=use_cache,\n",
    "                                           cachedir=cachedir2, verbose=verbose)\n",
    "\n",
    "drn = nlmod.mfpackages.surface_drain_from_model_ds(model_ds2, gwf2)\n",
    "\n",
    "\n",
    "\n",
    "# add constant head cells at model boundaries\n",
    "chd = nlmod.mfpackages.chd_at_model_edge_from_model_ds(model_ds2, gwf2, head='starting_head')"
   ]
  },
  {
   "cell_type": "code",
   "execution_count": null,
   "metadata": {},
   "outputs": [],
   "source": [
    "# save model_ds\n",
    "model_ds2.to_netcdf(os.path.join(cachedir2, 'full_model_ds.nc'))"
   ]
  },
  {
   "cell_type": "code",
   "execution_count": null,
   "metadata": {},
   "outputs": [],
   "source": [
    "# plot modelgrid\n",
    "ax = nlmod.plots.plot_modelgrid(model_ds2, gwf2)\n",
    "gpd.read_file(refine_shp+'.shp').plot(ax=ax, color='r', label='Planetenweg')\n",
    "ax.legend()\n",
    "ax.get_figure().savefig(os.path.join(figdir2, 'mgrid_swater.png'), bbox_inches='tight')\n",
    "\n",
    "# plot zoomed modelgrid\n",
    "ax = nlmod.plots.plot_modelgrid(model_ds2, gwf2)\n",
    "ax.set_title('Planetenweg')\n",
    "gpd.read_file(refine_shp+'.shp').plot(ax=ax, color='r', label='Planetenweg')\n",
    "ax.set_xlim(100000, 103000)\n",
    "ax.set_ylim(495000,497500)\n",
    "ax.legend()\n",
    "ax.get_figure().savefig(os.path.join(figdir2, 'Planetenweg.png'), bbox_inches='tight')"
   ]
  },
  {
   "cell_type": "markdown",
   "metadata": {},
   "source": [
    "The model dataset of an unstructured model differs from a structured model dataset. The data is stored relative to the cell-id instead of the row and column number. Therefore the model dataset has the dimension cid instead of the dimensions x and y. "
   ]
  },
  {
   "cell_type": "code",
   "execution_count": null,
   "metadata": {},
   "outputs": [],
   "source": [
    "model_ds2"
   ]
  },
  {
   "cell_type": "markdown",
   "metadata": {},
   "source": [
    "To plot the same rasters as for the previous model we can use the `nlmod.plots.plot_array()` function."
   ]
  },
  {
   "cell_type": "code",
   "execution_count": null,
   "metadata": {},
   "outputs": [],
   "source": [
    "fig, axes = plt.subplots(nrows=2, ncols=2, figsize=(14,11))\n",
    "model_ds['ahn'].plot(ax=axes[0][0])\n",
    "model_ds['bot'][0].plot(ax=axes[0][1])\n",
    "model_ds['idomain'][0].plot(ax=axes[1][0])\n",
    "model_ds['chd'][0].plot(ax=axes[1][1])\n",
    "for axes1 in axes:\n",
    "    for ax in axes1:\n",
    "        ax.axis('scaled')\n",
    "\n",
    "fig.savefig(os.path.join(figdir, 'ahn_bot_idom_chd.png'), bbox_inches='tight')        \n",
    "        \n",
    "fig, axes = plt.subplots(nrows=2, ncols=2, figsize=(14,11))\n",
    "model_ds['bathymetry'].plot(ax=axes[0][0])\n",
    "model_ds['northsea'].plot(ax=axes[0][1])\n",
    "model_ds['kh'][1].plot(ax=axes[1][0])\n",
    "model_ds['top'].plot(ax=axes[1][1])\n",
    "\n",
    "for axes1 in axes:\n",
    "    for ax in axes1:\n",
    "        ax.axis('scaled')\n",
    "fig.savefig(os.path.join(figdir, 'bath_nsea_kh_rch.png'), bbox_inches='tight')        "
   ]
  },
  {
   "cell_type": "markdown",
   "metadata": {},
   "source": [
    "### 4. Local grid refinement<a name=\"local\"></a>\n",
    "\n",
    "Modflow 6 makes it possible to use locally refined grids. In NLmod you can use a shapefile and a number of levels to specify where and how much you want to use local grid refinement. Below we use a shapefile of the Planetenweg in IJmuiden and set the refinement levels at 2. This well create a grid with cells of 100x100m except at the Planetenweg where the cells will be refined to 25x25m. See also figures below.\n",
    "\n",
    "Note: the `gen_model_unstructured` function also returns the `gridprops` dictionary. This contains data that is necesary to create some packages. It can be time consuming to generate this data."
   ]
  },
  {
   "cell_type": "code",
   "execution_count": null,
   "metadata": {},
   "outputs": [],
   "source": [
    "refine_shp = os.path.join(nlmod.nlmod_datadir, 'shapes', 'planetenweg_ijmuiden')\n",
    "\n",
    "model_ds2, gwf2, gridprops2 = nlmod.create_model.gen_model_unstructured('model2', 'IJm_planeten',\n",
    "                                                                         use_cache=False,\n",
    "                                                                         refine_shp_fname=refine_shp,\n",
    "                                                                         levels=2,\n",
    "                                                                         delr=100., delc=100.,\n",
    "                                                                         extent=[95000., 105000., 494000., 500000.],\n",
    "                                                                         run_sim=True, write_sim=True)"
   ]
  },
  {
   "cell_type": "code",
   "execution_count": null,
   "metadata": {},
   "outputs": [],
   "source": [
    "# get figdir to save figures\n",
    "figdir2, _, _=nlmod.util.get_model_dirs(model_ds2.model_ws,gridtype=model_ds2.gridtype)"
   ]
  },
  {
   "cell_type": "code",
   "execution_count": null,
   "metadata": {},
   "outputs": [],
   "source": [
    "# plot modelgrid\n",
    "ax = nlmod.plots.plot_modelgrid(model_ds2, gwf2)\n",
    "gpd.read_file(refine_shp+'.shp').plot(ax=ax, color='r', label='Planetenweg')\n",
    "ax.legend()\n",
    "ax.get_figure().savefig(os.path.join(figdir2, 'mgrid_swater.png'), bbox_inches='tight')\n",
    "\n",
    "# plot zoomed modelgrid\n",
    "ax = nlmod.plots.plot_modelgrid(model_ds2, gwf2)\n",
    "ax.set_title('Planetenweg')\n",
    "gpd.read_file(refine_shp+'.shp').plot(ax=ax, color='r', label='Planetenweg')\n",
    "ax.set_xlim(100000, 103000)\n",
    "ax.set_ylim(495000,497500)\n",
    "ax.legend()\n",
    "ax.get_figure().savefig(os.path.join(figdir2, 'Planetenweg.png'), bbox_inches='tight')"
   ]
  },
  {
   "cell_type": "markdown",
   "metadata": {},
   "source": [
    "The model dataset of an unstructured model differs from a structured model dataset. The data is stored relative to the cell-id instead of the row and column number. Therefore the model dataset has the dimension cid instead of the dimensions x and y. "
   ]
  },
  {
   "cell_type": "code",
   "execution_count": null,
   "metadata": {},
   "outputs": [],
   "source": [
    "model_ds2"
   ]
  },
  {
   "cell_type": "markdown",
   "metadata": {},
   "source": [
    "To plot the same rasters as for the previous model we can use the `nlmod.plots.plot_array()` function."
   ]
  },
  {
   "cell_type": "code",
   "execution_count": null,
   "metadata": {},
   "outputs": [],
   "source": [
    "fig, axes = plt.subplots(nrows=2, ncols=2, figsize=(14,11))\n",
    "nlmod.plots.plot_array(gwf2, model_ds2['ahn'], ax=axes[0][0])\n",
    "nlmod.plots.plot_array(gwf2, model_ds2['bot'][0], ax=axes[0][1])\n",
    "nlmod.plots.plot_array(gwf2, model_ds2['idomain'][0], ax=axes[1][0])\n",
    "nlmod.plots.plot_array(gwf2, model_ds2['chd'][0], ax=axes[1][1])\n",
    "\n",
    "fig.savefig(os.path.join(figdir2, 'ahn_bot_idom_chd.png'), bbox_inches='tight')        \n",
    "        \n",
    "fig, axes = plt.subplots(nrows=2, ncols=2, figsize=(14,11))\n",
    "nlmod.plots.plot_array(gwf2, model_ds2['bathymetry'],ax=axes[0][0])\n",
    "nlmod.plots.plot_array(gwf2, model_ds2['northsea'],ax=axes[0][1])\n",
    "nlmod.plots.plot_array(gwf2, model_ds2['kh'][1],ax=axes[1][0])\n",
    "nlmod.plots.plot_array(gwf2, model_ds2['top'],ax=axes[1][0])\n",
    "\n",
    "fig.savefig(os.path.join(figdir2, 'bath_nsea_kh_top.png'), bbox_inches='tight')        "
   ]
  }
 ],
 "metadata": {
  "CodeCell": {
   "cm_config": {
    "lineWrapping": true
   }
  },
  "MarkdownCell": {
   "cm_config": {
    "lineWrapping": true
   }
  },
  "anaconda-cloud": {},
  "kernelspec": {
   "display_name": "nhflopy",
   "language": "python",
   "name": "nhflopy"
  },
  "language_info": {
   "codemirror_mode": {
    "name": "ipython",
    "version": 3
   },
   "file_extension": ".py",
   "mimetype": "text/x-python",
   "name": "python",
   "nbconvert_exporter": "python",
   "pygments_lexer": "ipython3",
   "version": "3.7.7"
  },
  "widgets": {
   "state": {},
   "version": "1.1.2"
  }
 },
 "nbformat": 4,
 "nbformat_minor": 4
}
