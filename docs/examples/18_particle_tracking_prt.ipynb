{
 "cells": [
  {
   "cell_type": "markdown",
   "metadata": {},
   "source": [
    "# Particle Tracking with PRT"
   ]
  },
  {
   "cell_type": "code",
   "execution_count": null,
   "metadata": {},
   "outputs": [],
   "source": [
    "from pathlib import Path\n",
    "\n",
    "import flopy as fp\n",
    "import numpy as np\n",
    "import xarray as xr\n",
    "\n",
    "import nlmod"
   ]
  },
  {
   "cell_type": "code",
   "execution_count": null,
   "metadata": {},
   "outputs": [],
   "source": [
    "nlmod.util.get_color_logger(\"INFO\")\n",
    "nlmod.show_versions()"
   ]
  },
  {
   "cell_type": "code",
   "execution_count": null,
   "metadata": {},
   "outputs": [],
   "source": [
    "model_ws = Path(\"./scratch_model\")\n",
    "model_name = \"from_scratch\"\n",
    "\n",
    "# create new subdir for PRT model\n",
    "prt_ws = Path(model_ws) / \"prt\""
   ]
  },
  {
   "cell_type": "code",
   "execution_count": null,
   "metadata": {},
   "outputs": [],
   "source": [
    "ds = xr.open_dataset(model_ws / f\"{model_name}.nc\")"
   ]
  },
  {
   "cell_type": "code",
   "execution_count": null,
   "metadata": {},
   "outputs": [],
   "source": [
    "# Create a new Simulation object\n",
    "simprt = nlmod.sim.sim(ds, sim_ws=prt_ws)\n",
    "tdis = nlmod.sim.tdis(ds, simprt)\n",
    "\n",
    "# Add PRT model\n",
    "prt = nlmod.prt.prt(ds, simprt)\n",
    "\n",
    "# DIS: discretization package\n",
    "dis = nlmod.prt.dis(ds, prt)\n",
    "\n",
    "# MIP: matrix input package(?)\n",
    "mip = nlmod.prt.mip(ds, prt, porosity=0.3)\n",
    "\n",
    "# PRP: particle release package\n",
    "pd = fp.modpath.ParticleData(\n",
    "    [\n",
    "        (k, i, j)\n",
    "        for i in np.arange(0, ds.sizes[\"y\"], 11)\n",
    "        for j in np.arange(0, ds.sizes[\"x\"], 11)\n",
    "        for k in [0, 1, 2]\n",
    "    ],\n",
    "    structured=True,\n",
    ")\n",
    "releasepts = list(pd.to_prp(prt.modelgrid, global_xy=False))\n",
    "prp = nlmod.prt.prp(ds, prt, packagedata=releasepts, perioddata={0: [\"FIRST\"]})\n",
    "\n",
    "# FMI: flow model interface\n",
    "gwf_budget_file = Path(ds.model_ws) / f\"{model_name}.cbc\"\n",
    "gwf_head_file = Path(ds.model_ws) / f\"{model_name}.hds\"\n",
    "fmi = fp.mf6.ModflowPrtfmi(\n",
    "    prt,\n",
    "    packagedata=[\n",
    "        (\"GWFHEAD\", gwf_head_file.absolute().resolve()),\n",
    "        (\"GWFBUDGET\", gwf_budget_file.absolute().resolve()),\n",
    "    ],\n",
    ")\n",
    "\n",
    "# OC: output control\n",
    "oc = nlmod.prt.oc(ds, prt)\n",
    "\n",
    "# EMS: explicit model solution\n",
    "ems = nlmod.sim.ems(simprt, model=prt)"
   ]
  },
  {
   "cell_type": "code",
   "execution_count": null,
   "metadata": {},
   "outputs": [],
   "source": [
    "simprt.write_simulation()\n",
    "simprt.run_simulation()"
   ]
  },
  {
   "cell_type": "markdown",
   "metadata": {},
   "source": [
    "Load pathline data"
   ]
  },
  {
   "cell_type": "code",
   "execution_count": null,
   "metadata": {},
   "outputs": [],
   "source": [
    "from flopy.utils.prtfile import PathlineFile\n",
    "\n",
    "trkfile = PathlineFile(\n",
    "    Path(prt.model_ws) / f\"{prt.name}.trk\",\n",
    "    header_filename=Path(prt.model_ws) / f\"{prt.name}.trk.hdr\",\n",
    ")\n",
    "trk = trkfile.get_alldata()\n",
    "trk_df = trkfile.get_dataframe()"
   ]
  },
  {
   "cell_type": "markdown",
   "metadata": {},
   "source": [
    "Plot results"
   ]
  },
  {
   "cell_type": "code",
   "execution_count": null,
   "metadata": {},
   "outputs": [],
   "source": [
    "pmv = fp.plot.PlotMapView(prt)\n",
    "# loop to avoid different tracks get connected in plot\n",
    "for i in range(len(trk)):\n",
    "    pmv.plot_pathline(trk[i:i+1], layer=\"all\", colors=\"k\", lw=1.0)\n",
    "pmv.plot_endpoint(trk_df, color=\"r\", marker=\".\", direction=\"starting\", zorder=10);"
   ]
  }
 ],
 "metadata": {
  "language_info": {
   "name": "python"
  }
 },
 "nbformat": 4,
 "nbformat_minor": 2
}
