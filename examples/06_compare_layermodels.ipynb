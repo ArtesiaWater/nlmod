{
 "cells": [
  {
   "cell_type": "markdown",
   "metadata": {},
   "source": [
    "# Visually comparing layer models\n",
    "\n",
    "This notebook gives some examples on how to compare two layer models.\n",
    "\n",
    "### Table of contents<a name=\"toc\"></a>\n",
    "1. [Comparing two layers](#1)\n",
    "2. [Comparing models at one point](#2)\n",
    "3. [Comparing models along a face](#3)"
   ]
  },
  {
   "cell_type": "code",
   "execution_count": 2,
   "metadata": {},
   "outputs": [],
   "source": [
    "import numpy as np\n",
    "import matplotlib as mpl\n",
    "import matplotlib.pyplot as plt"
   ]
  },
  {
   "cell_type": "markdown",
   "metadata": {},
   "source": [
    "## [1. Comparing two layers (e.g. from different models)](#toc)<a name=\"1\"></a>\n",
    "\n",
    "This comparison uses a topview to compare how two layers (e.g. two aquifers from different models) compare spatially. "
   ]
  },
  {
   "cell_type": "code",
   "execution_count": 3,
   "metadata": {},
   "outputs": [],
   "source": [
    "top1 = 10 * np.ones((110, 110))\n",
    "bot1= 0 * np.ones((110, 110))\n",
    "\n",
    "top2 = 10 * np.ones((110, 110))\n",
    "bot2 = 0 * np.ones((110, 110))\n",
    "\n",
    "# 1\n",
    "# equal\n",
    "top2[:10] = 10.\n",
    "bot2[:10] = 0.\n",
    "\n",
    "# 2\n",
    "# top within: top2 lower & bot2 equal\n",
    "top2[10:20] = 9.\n",
    "\n",
    "# 3\n",
    "# bottom within: bot2 higher & top2 equal\n",
    "bot2[20:30] = 1.0\n",
    "\n",
    "# 4\n",
    "# within: top2 lower & bot2 higher\n",
    "top2[30:40] = 9.0\n",
    "bot2[30:40] = 1.0 \n",
    "\n",
    "# 5\n",
    "# outside: top2 higher & bot2 lower\n",
    "top2[40:50] = 11.0\n",
    "bot2[40:50] = -1.0\n",
    "\n",
    "# 6\n",
    "# top outside: top2 higher & bot2 equal\n",
    "top2[50:60] = 11.\n",
    "\n",
    "# 7\n",
    "# bot outside: bot2 lower & top2 equal\n",
    "bot2[60:70] = -1.0\n",
    "\n",
    "# 8\n",
    "# under: bot1 >= top2\n",
    "top2[70:80] = 0.0\n",
    "bot2[70:80] = -2.0\n",
    "\n",
    "# 9\n",
    "# shifted down: (top1 > top2 > bot1) & (bot1 > bot2)\n",
    "top2[80:90] = 8.0\n",
    "bot2[80:90] = -2.0\n",
    "\n",
    "# 10\n",
    "# shifted up: (top1 < top2) & (bot1 < bot2 < top1)\n",
    "top2[90:100] = 12.\n",
    "bot2[90:100] = 5.\n",
    "\n",
    "# 11\n",
    "# above: top1 <= bot2\n",
    "top2[100:110] = 12.\n",
    "bot2[100:110] = 10."
   ]
  },
  {
   "cell_type": "markdown",
   "metadata": {},
   "source": [
    "Side view of the different combinations"
   ]
  },
  {
   "cell_type": "code",
   "execution_count": 4,
   "metadata": {},
   "outputs": [
    {
     "data": {
      "text/plain": [
       "[<matplotlib.lines.Line2D at 0x236c20ef9d0>]"
      ]
     },
     "execution_count": 4,
     "metadata": {},
     "output_type": "execute_result"
    },
    {
     "data": {
      "image/png": "[encoded data removed]",
      "text/plain": [
       "<Figure size 432x288 with 1 Axes>"
      ]
     },
     "metadata": {
      "needs_background": "light"
     },
     "output_type": "display_data"
    }
   ],
   "source": [
    "plt.plot(top1[:, 0], label=\"top1\", c=\"k\")\n",
    "plt.plot(bot1[:, 0], label=\"bot1\", c=\"k\")\n",
    "\n",
    "plt.plot(top2[:, 0], label=\"top1\", ls=\"dashed\", c=\"r\")\n",
    "plt.plot(bot2[:, 0], label=\"bot1\", ls=\"dashed\", c=\"r\")"
   ]
  },
  {
   "cell_type": "code",
   "execution_count": 5,
   "metadata": {},
   "outputs": [],
   "source": [
    "compare = np.zeros_like(top1)\n",
    "\n",
    "# 1: equal\n",
    "mask_eq = (top1 == top2) & (bot1 == bot2)\n",
    "\n",
    "# 2: top within: top2 lower & bot2 equal\n",
    "mask_top_within = (top1 > top2) & (bot1 == bot2)\n",
    "\n",
    "# 3: bottom within: bot2 higher & top2 equal\n",
    "mask_bot_within = (top1 == top2) & (bot1 < bot2)\n",
    "\n",
    "# 4: within: top2 lower & bot2 higher\n",
    "mask_within = (top1 > top2) & (bot1 < bot2)\n",
    "\n",
    "# 5: outside: top2 higher & bot2 lower\n",
    "mask_outside = (top1 < top2) & (bot1 > bot2)\n",
    "\n",
    "# 6: top outside: top2 higher & bot2 equal\n",
    "mask_top_oustide = (top1 < top2) & (bot1 == bot2)\n",
    "\n",
    "# 7: bot outside: bot2 lower & top2 equal\n",
    "mask_bot_outside = (top1 == top2) & (bot1 > bot2)\n",
    "\n",
    "# 8: under: bot1 >= top2\n",
    "mask_under = (bot1 >= top2)\n",
    "\n",
    "# 9: shifted down: (top1 > top2 > bot1) & (bot1 > bot2)\n",
    "mask_shift_down = ((top1 > top2) & (top2 > bot1)) & (bot1 > bot2)\n",
    "\n",
    "# 10: shifted up: (top1 < top2) & (bot1 < bot2 < top1)\n",
    "mask_shift_up = (top1 < top2) & ((bot1 < bot2) & (bot2 < top1))\n",
    "\n",
    "# 11: above: top1 <= bot2\n",
    "mask_above = (top1 <= bot2)"
   ]
  },
  {
   "cell_type": "code",
   "execution_count": 6,
   "metadata": {},
   "outputs": [],
   "source": [
    "compare[mask_eq] = 1\n",
    "compare[mask_top_within] = 2\n",
    "compare[mask_bot_within] = 3\n",
    "compare[mask_within] = 4\n",
    "compare[mask_outside] = 5\n",
    "compare[mask_top_oustide] = 6\n",
    "compare[mask_bot_outside] = 7\n",
    "compare[mask_under] = 8\n",
    "compare[mask_shift_down] = 9\n",
    "compare[mask_shift_up] = 10\n",
    "compare[mask_above] = 11"
   ]
  },
  {
   "cell_type": "code",
   "execution_count": 9,
   "metadata": {},
   "outputs": [
    {
     "data": {
      "text/plain": [
       "array([ 1.,  2.,  3.,  4.,  5.,  6.,  7.,  8.,  9., 10., 11.])"
      ]
     },
     "execution_count": 9,
     "metadata": {},
     "output_type": "execute_result"
    }
   ],
   "source": [
    "np.unique(compare)"
   ]
  },
  {
   "cell_type": "code",
   "execution_count": 7,
   "metadata": {},
   "outputs": [
    {
     "ename": "ValueError",
     "evalue": "The number of FixedLocator locations (11), usually from a call to set_ticks, does not match the number of ticklabels (12).",
     "output_type": "error",
     "traceback": [
      "\u001b[1;31m---------------------------------------------------------------------------\u001b[0m",
      "\u001b[1;31mValueError\u001b[0m                                Traceback (most recent call last)",
      "\u001b[1;32m<ipython-input-7-72039bb02010>\u001b[0m in \u001b[0;36m<module>\u001b[1;34m\u001b[0m\n\u001b[0;32m     20\u001b[0m ]\n\u001b[0;32m     21\u001b[0m \u001b[0mcbar\u001b[0m\u001b[1;33m.\u001b[0m\u001b[0mset_ticks\u001b[0m\u001b[1;33m(\u001b[0m\u001b[0mrange\u001b[0m\u001b[1;33m(\u001b[0m\u001b[1;36m1\u001b[0m\u001b[1;33m,\u001b[0m \u001b[1;36m12\u001b[0m\u001b[1;33m)\u001b[0m\u001b[1;33m)\u001b[0m\u001b[1;33m\u001b[0m\u001b[1;33m\u001b[0m\u001b[0m\n\u001b[1;32m---> 22\u001b[1;33m \u001b[0mcbar\u001b[0m\u001b[1;33m.\u001b[0m\u001b[0max\u001b[0m\u001b[1;33m.\u001b[0m\u001b[0mset_yticklabels\u001b[0m\u001b[1;33m(\u001b[0m\u001b[0mnames\u001b[0m\u001b[1;33m)\u001b[0m\u001b[1;33m;\u001b[0m\u001b[1;33m\u001b[0m\u001b[1;33m\u001b[0m\u001b[0m\n\u001b[0m",
      "\u001b[1;32m~\\anaconda3\\envs\\nlmod\\lib\\site-packages\\matplotlib\\axes\\_base.py\u001b[0m in \u001b[0;36mwrapper\u001b[1;34m(self, *args, **kwargs)\u001b[0m\n\u001b[0;32m     61\u001b[0m \u001b[1;33m\u001b[0m\u001b[0m\n\u001b[0;32m     62\u001b[0m         \u001b[1;32mdef\u001b[0m \u001b[0mwrapper\u001b[0m\u001b[1;33m(\u001b[0m\u001b[0mself\u001b[0m\u001b[1;33m,\u001b[0m \u001b[1;33m*\u001b[0m\u001b[0margs\u001b[0m\u001b[1;33m,\u001b[0m \u001b[1;33m**\u001b[0m\u001b[0mkwargs\u001b[0m\u001b[1;33m)\u001b[0m\u001b[1;33m:\u001b[0m\u001b[1;33m\u001b[0m\u001b[1;33m\u001b[0m\u001b[0m\n\u001b[1;32m---> 63\u001b[1;33m             \u001b[1;32mreturn\u001b[0m \u001b[0mget_method\u001b[0m\u001b[1;33m(\u001b[0m\u001b[0mself\u001b[0m\u001b[1;33m)\u001b[0m\u001b[1;33m(\u001b[0m\u001b[1;33m*\u001b[0m\u001b[0margs\u001b[0m\u001b[1;33m,\u001b[0m \u001b[1;33m**\u001b[0m\u001b[0mkwargs\u001b[0m\u001b[1;33m)\u001b[0m\u001b[1;33m\u001b[0m\u001b[1;33m\u001b[0m\u001b[0m\n\u001b[0m\u001b[0;32m     64\u001b[0m \u001b[1;33m\u001b[0m\u001b[0m\n\u001b[0;32m     65\u001b[0m         \u001b[0mwrapper\u001b[0m\u001b[1;33m.\u001b[0m\u001b[0m__module__\u001b[0m \u001b[1;33m=\u001b[0m \u001b[0mowner\u001b[0m\u001b[1;33m.\u001b[0m\u001b[0m__module__\u001b[0m\u001b[1;33m\u001b[0m\u001b[1;33m\u001b[0m\u001b[0m\n",
      "\u001b[1;32m~\\anaconda3\\envs\\nlmod\\lib\\site-packages\\matplotlib\\cbook\\deprecation.py\u001b[0m in \u001b[0;36mwrapper\u001b[1;34m(*args, **kwargs)\u001b[0m\n\u001b[0;32m    449\u001b[0m                 \u001b[1;34m\"parameter will become keyword-only %(removal)s.\"\u001b[0m\u001b[1;33m,\u001b[0m\u001b[1;33m\u001b[0m\u001b[1;33m\u001b[0m\u001b[0m\n\u001b[0;32m    450\u001b[0m                 name=name, obj_type=f\"parameter of {func.__name__}()\")\n\u001b[1;32m--> 451\u001b[1;33m         \u001b[1;32mreturn\u001b[0m \u001b[0mfunc\u001b[0m\u001b[1;33m(\u001b[0m\u001b[1;33m*\u001b[0m\u001b[0margs\u001b[0m\u001b[1;33m,\u001b[0m \u001b[1;33m**\u001b[0m\u001b[0mkwargs\u001b[0m\u001b[1;33m)\u001b[0m\u001b[1;33m\u001b[0m\u001b[1;33m\u001b[0m\u001b[0m\n\u001b[0m\u001b[0;32m    452\u001b[0m \u001b[1;33m\u001b[0m\u001b[0m\n\u001b[0;32m    453\u001b[0m     \u001b[1;32mreturn\u001b[0m \u001b[0mwrapper\u001b[0m\u001b[1;33m\u001b[0m\u001b[1;33m\u001b[0m\u001b[0m\n",
      "\u001b[1;32m~\\anaconda3\\envs\\nlmod\\lib\\site-packages\\matplotlib\\axis.py\u001b[0m in \u001b[0;36m_set_ticklabels\u001b[1;34m(self, labels, fontdict, minor, **kwargs)\u001b[0m\n\u001b[0;32m   1794\u001b[0m         \u001b[1;32mif\u001b[0m \u001b[0mfontdict\u001b[0m \u001b[1;32mis\u001b[0m \u001b[1;32mnot\u001b[0m \u001b[1;32mNone\u001b[0m\u001b[1;33m:\u001b[0m\u001b[1;33m\u001b[0m\u001b[1;33m\u001b[0m\u001b[0m\n\u001b[0;32m   1795\u001b[0m             \u001b[0mkwargs\u001b[0m\u001b[1;33m.\u001b[0m\u001b[0mupdate\u001b[0m\u001b[1;33m(\u001b[0m\u001b[0mfontdict\u001b[0m\u001b[1;33m)\u001b[0m\u001b[1;33m\u001b[0m\u001b[1;33m\u001b[0m\u001b[0m\n\u001b[1;32m-> 1796\u001b[1;33m         \u001b[1;32mreturn\u001b[0m \u001b[0mself\u001b[0m\u001b[1;33m.\u001b[0m\u001b[0mset_ticklabels\u001b[0m\u001b[1;33m(\u001b[0m\u001b[0mlabels\u001b[0m\u001b[1;33m,\u001b[0m \u001b[0mminor\u001b[0m\u001b[1;33m=\u001b[0m\u001b[0mminor\u001b[0m\u001b[1;33m,\u001b[0m \u001b[1;33m**\u001b[0m\u001b[0mkwargs\u001b[0m\u001b[1;33m)\u001b[0m\u001b[1;33m\u001b[0m\u001b[1;33m\u001b[0m\u001b[0m\n\u001b[0m\u001b[0;32m   1797\u001b[0m \u001b[1;33m\u001b[0m\u001b[0m\n\u001b[0;32m   1798\u001b[0m     \u001b[1;33m@\u001b[0m\u001b[0mcbook\u001b[0m\u001b[1;33m.\u001b[0m\u001b[0m_make_keyword_only\u001b[0m\u001b[1;33m(\u001b[0m\u001b[1;34m\"3.2\"\u001b[0m\u001b[1;33m,\u001b[0m \u001b[1;34m\"minor\"\u001b[0m\u001b[1;33m)\u001b[0m\u001b[1;33m\u001b[0m\u001b[1;33m\u001b[0m\u001b[0m\n",
      "\u001b[1;32m~\\anaconda3\\envs\\nlmod\\lib\\site-packages\\matplotlib\\axis.py\u001b[0m in \u001b[0;36mset_ticklabels\u001b[1;34m(self, ticklabels, minor, **kwargs)\u001b[0m\n\u001b[0;32m   1715\u001b[0m             \u001b[1;31m# remove all tick labels, so only error for > 0 ticklabels\u001b[0m\u001b[1;33m\u001b[0m\u001b[1;33m\u001b[0m\u001b[1;33m\u001b[0m\u001b[0m\n\u001b[0;32m   1716\u001b[0m             \u001b[1;32mif\u001b[0m \u001b[0mlen\u001b[0m\u001b[1;33m(\u001b[0m\u001b[0mlocator\u001b[0m\u001b[1;33m.\u001b[0m\u001b[0mlocs\u001b[0m\u001b[1;33m)\u001b[0m \u001b[1;33m!=\u001b[0m \u001b[0mlen\u001b[0m\u001b[1;33m(\u001b[0m\u001b[0mticklabels\u001b[0m\u001b[1;33m)\u001b[0m \u001b[1;32mand\u001b[0m \u001b[0mlen\u001b[0m\u001b[1;33m(\u001b[0m\u001b[0mticklabels\u001b[0m\u001b[1;33m)\u001b[0m \u001b[1;33m!=\u001b[0m \u001b[1;36m0\u001b[0m\u001b[1;33m:\u001b[0m\u001b[1;33m\u001b[0m\u001b[1;33m\u001b[0m\u001b[0m\n\u001b[1;32m-> 1717\u001b[1;33m                 raise ValueError(\n\u001b[0m\u001b[0;32m   1718\u001b[0m                     \u001b[1;34m\"The number of FixedLocator locations\"\u001b[0m\u001b[1;33m\u001b[0m\u001b[1;33m\u001b[0m\u001b[0m\n\u001b[0;32m   1719\u001b[0m                     \u001b[1;34mf\" ({len(locator.locs)}), usually from a call to\"\u001b[0m\u001b[1;33m\u001b[0m\u001b[1;33m\u001b[0m\u001b[0m\n",
      "\u001b[1;31mValueError\u001b[0m: The number of FixedLocator locations (11), usually from a call to set_ticks, does not match the number of ticklabels (12)."
     ]
    },
    {
     "data": {
      "image/png": "[encoded data removed]",
      "text/plain": [
       "<Figure size 1152x720 with 2 Axes>"
      ]
     },
     "metadata": {
      "needs_background": "light"
     },
     "output_type": "display_data"
    }
   ],
   "source": [
    "cmap = mpl.cm.Paired\n",
    "norm = mpl.colors.Normalize(vmin=0.5, vmax=12.5)\n",
    "\n",
    "fig, ax =  plt.subplots(1, 1, figsize=(16, 10))\n",
    "im = ax.matshow(compare, cmap=cmap, norm=norm)\n",
    "cbar = plt.colorbar(im, shrink=0.75)\n",
    "names = [\n",
    "    \"equal\",\n",
    "    \"top inside\",\n",
    "    \"bot inside\",\n",
    "    \"inside\",\n",
    "    \"outside\",\n",
    "    \"top outside\",\n",
    "    \"bot outside\",\n",
    "    \"below\",\n",
    "    \"shifted down\",\n",
    "    \"shifted up\",\n",
    "    \"above\",\n",
    "    \" \",\n",
    "]\n",
    "cbar.set_ticks(range(1, 12))\n",
    "cbar.ax.set_yticklabels(names);"
   ]
  },
  {
   "cell_type": "markdown",
   "metadata": {},
   "source": [
    "Check if there are no overlapping sections in masks"
   ]
  },
  {
   "cell_type": "code",
   "execution_count": null,
   "metadata": {},
   "outputs": [],
   "source": [
    "masksum = (mask_eq + 0.0 + mask_top_within + mask_bot_within + mask_within + mask_outside + \n",
    "           mask_top_oustide + mask_bot_outside + mask_under + mask_shift_down + \n",
    "           mask_shift_up + mask_above)\n",
    "masksum.max()"
   ]
  },
  {
   "cell_type": "markdown",
   "metadata": {},
   "source": [
    "Side view with colorcoding"
   ]
  },
  {
   "cell_type": "code",
   "execution_count": null,
   "metadata": {},
   "outputs": [],
   "source": [
    "plt.figure(figsize=(16, 10))\n",
    "\n",
    "plt.plot(top1[:, 0], label=\"top1\", c=\"k\")\n",
    "plt.plot(bot1[:, 0], label=\"bot1\", c=\"k\")\n",
    "\n",
    "plt.plot(top2[:, 0], label=\"top2\", ls=\"dashed\", c=\"r\")\n",
    "plt.plot(bot2[:, 0], label=\"bot2\", ls=\"dashed\", c=\"r\")\n",
    "\n",
    "plt.fill_between([   0, 10], top2[0, 0:1], bot2[0, 0:1],     color=cmap(norm(1)),  alpha=0.75, label=\"equal\")\n",
    "plt.fill_between([  10, 20], top2[10, 0:1], bot2[10, 0:1],   color=cmap(norm(2)),  alpha=0.75, label=\"top inside\")\n",
    "plt.fill_between([  20, 30], top2[20, 0:1], bot2[20, 0:1],   color=cmap(norm(3)),  alpha=0.75, label=\"bot inside\")\n",
    "plt.fill_between([  30, 40], top2[30, 0:1], bot2[30, 0:1],   color=cmap(norm(4)),  alpha=0.75, label=\"inside\")\n",
    "plt.fill_between([  40, 50], top2[40, 0:1], bot2[40, 0:1],   color=cmap(norm(5)),  alpha=0.75, label=\"outside\")\n",
    "plt.fill_between([  50, 60], top2[50, 0:1], bot2[50, 0:1],   color=cmap(norm(6)),  alpha=0.75, label=\"top outside\")\n",
    "plt.fill_between([  60, 70], top2[60, 0:1], bot2[60, 0:1],   color=cmap(norm(7)),  alpha=0.75, label=\"bot outside\")\n",
    "plt.fill_between([  70, 80], top2[70, 0:1], bot2[70, 0:1],   color=cmap(norm(8)),  alpha=0.75, label=\"below\")\n",
    "plt.fill_between([  80, 90], top2[80, 0:1], bot2[80, 0:1],   color=cmap(norm(9)),  alpha=0.75, label=\"shifted down\")\n",
    "plt.fill_between([ 90, 100], top2[90, 0:1], bot2[90, 0:1],   color=cmap(norm(10)), alpha=0.75, label=\"shifted up\")\n",
    "plt.fill_between([100, 110], top2[100, 0:1], bot2[100, 0:1], color=cmap(norm(11)), alpha=0.75, label=\"above\")\n",
    "\n",
    "plt.legend(loc=\"upper left\", ncol=8)"
   ]
  },
  {
   "cell_type": "markdown",
   "metadata": {},
   "source": [
    "## [2. Comparing models at one point](#toc)<a name=\"2\"></a>\n",
    "\n",
    "The idea behind this comparison is to compare the sequence of layers between two models at the same location."
   ]
  },
  {
   "cell_type": "code",
   "execution_count": null,
   "metadata": {},
   "outputs": [],
   "source": [
    "top1 = np.array([0])\n",
    "bot1 = np.array([-5, -10, -15, -20, -25, -30, -40, -50])\n",
    "                \n",
    "top2 = np.array([1])\n",
    "bot2 = np.array([-5, -7.5, -10, -20, -25, -32.5, -37.5, -50])"
   ]
  },
  {
   "cell_type": "code",
   "execution_count": null,
   "metadata": {},
   "outputs": [],
   "source": [
    "z1 = np.r_[top1, bot1]\n",
    "z2 = np.r_[top2, bot2]"
   ]
  },
  {
   "cell_type": "code",
   "execution_count": null,
   "metadata": {},
   "outputs": [],
   "source": [
    "plt.figure(figsize=(10, 10))\n",
    "for zi in z1:\n",
    "    plt.plot([0, 1], [zi, zi], c=\"k\")\n",
    "for i in range(len(z1)-1):\n",
    "    if i%2 == 0:\n",
    "        c = \"lightgray\"\n",
    "    else:\n",
    "        c = \"darkgray\"\n",
    "    plt.fill_between([0, 1], [z1[i], z1[i]], [z1[i+1], z1[i+1]], alpha=0.5, color=c)\n",
    "    plt.text(0.5, np.mean(z1[i:i+2]), f\"{i}\")\n",
    "    \n",
    "for zi in z2:\n",
    "    plt.plot([1, 2], [zi, zi], c=\"r\", ls=\"dashed\")\n",
    "for i in range(len(z2)-1):\n",
    "    plt.text(1.5, np.mean(z2[i:i+2]), f\"{i}\", c=\"r\")\n",
    "    if i%2 == 0:\n",
    "        c = \"lightcoral\"\n",
    "    else:\n",
    "        c = \"darkred\"\n",
    "    plt.fill_between([1, 2], [z2[i], z2[i]], [z2[i+1], z2[i+1]], alpha=0.5, color=c)\n",
    "\n",
    "plt.ylabel(\"elevation\")\n",
    "plt.xticks([]);"
   ]
  },
  {
   "cell_type": "markdown",
   "metadata": {},
   "source": [
    "## [3. Comparing models along a face](#toc)<a name=\"3\"></a>\n",
    "The idea behind this comparison is to compare two models along a face (instead of only at one point). The elevation of the layers can change in the x-direction."
   ]
  },
  {
   "cell_type": "code",
   "execution_count": null,
   "metadata": {},
   "outputs": [],
   "source": [
    "top1 = np.array([[0, 0, 0]])\n",
    "bot1 = np.array([[-5, -10, -15, -20, -25, -30, -40, -50],\n",
    "                 [-5, -10, -15, -20, -25, -30, -40, -50],\n",
    "                 [-5, -10, -15, -20, -25, -30, -40, -50]])\n",
    "                \n",
    "top2 = np.array([[1, 0.75, 0.5]])\n",
    "bot2 = np.array([[-5, -7.5, -10, -20, -25, -32.5, -37.5, -50], \n",
    "                 [-5.5, -7.5, -10.5, -19, -26, -33.5, -40.5, -50],\n",
    "                 [-4, -7.5, -12, -21, -23, -32.5, -35.5, -50]])"
   ]
  },
  {
   "cell_type": "code",
   "execution_count": null,
   "metadata": {},
   "outputs": [],
   "source": [
    "z1 = np.r_[top1, bot1.T]\n",
    "z2 = np.r_[top2, bot2.T]"
   ]
  },
  {
   "cell_type": "code",
   "execution_count": null,
   "metadata": {},
   "outputs": [],
   "source": [
    "plt.figure(figsize=(10, 10))\n",
    "\n",
    "for zi in z1:\n",
    "    plt.plot(range(z1.shape[1]), zi, c=\"k\")\n",
    "for i in range(len(z1)-1):\n",
    "    if i%2 == 0:\n",
    "        c = \"lightblue\"\n",
    "    else:\n",
    "        c = \"darkblue\"\n",
    "    plt.fill_between(range(z1.shape[1]), z1[i], z1[i+1], alpha=0.5, color=c)\n",
    "    plt.text(0.5, np.mean(z1[i:i+2, 0]), f\"{i}\")\n",
    "    \n",
    "    \n",
    "for zi in z2:\n",
    "    plt.plot(range(z2.shape[1]), zi, c=\"r\", ls=\"dashed\")\n",
    "for i in range(len(z2)-1):\n",
    "    if i%2 == 0:\n",
    "        c = \"lightcoral\"\n",
    "    else:\n",
    "        c = \"darkred\"\n",
    "    plt.fill_between(range(z1.shape[1]), z2[i], z2[i+1], alpha=0.35, color=c)\n",
    "    plt.text(1.5, np.mean(z2[i:i+2, 1]), f\"{i}\", c=\"r\")\n",
    "\n",
    "plt.ylabel(\"elevation\");"
   ]
  }
 ],
 "metadata": {
  "kernelspec": {
   "display_name": "nlmod",
   "language": "python",
   "name": "nlmod"
  },
  "language_info": {
   "codemirror_mode": {
    "name": "ipython",
    "version": 3
   },
   "file_extension": ".py",
   "mimetype": "text/x-python",
   "name": "python",
   "nbconvert_exporter": "python",
   "pygments_lexer": "ipython3",
   "version": "3.9.4"
  }
 },
 "nbformat": 4,
 "nbformat_minor": 4
}
