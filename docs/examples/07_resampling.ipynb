{
 "cells": [
  {
   "cell_type": "markdown",
   "metadata": {},
   "source": [
    "<IMG SRC=\"https://avatars2.githubusercontent.com/u/31697400?s=400&u=a5a6fc31ec93c07853dd53835936fd90c44f7483&v=4\" WIDTH=125 ALIGN=\"right\">\n",
    "\n",
    "\n",
    "# Resampling \n",
    "\n",
    "Resampling data is a very common operation when building a Modflow model. Usually it is used to project data from one grid onto the other. There are many different ways to do this. This notebook shows some examples of resampling methods that are incorporated in the `nlmod` package. These methods rely heavily on resampling methods in other packages such as `scipy.interpolate` and `xarray`."
   ]
  },
  {
   "cell_type": "markdown",
   "metadata": {},
   "source": [
    "### Contents<a name=\"TOC\"></a>\n",
    "1. [Grid types](#gridtypes)\n",
    "2. [Structured grid to fine structured grid](#2)\n",
    "3. [Structured grid to locally refined grid](#3)\n",
    "4. [Locally refined grid to structured grid](#4)\n",
    "5. [Fill nan values](#5)\n",
    "6. [Vector to grid](#6)\n",
    "7. [Real world example](#7)"
   ]
  },
  {
   "cell_type": "code",
   "execution_count": null,
   "metadata": {},
   "outputs": [],
   "source": [
    "import nlmod\n",
    "from nlmod.mdims import resample\n",
    "import numpy as np\n",
    "import xarray as xr\n",
    "import flopy\n",
    "\n",
    "from matplotlib.colors import Normalize\n",
    "from matplotlib.patches import Polygon\n",
    "from matplotlib.collections import PatchCollection\n",
    "import matplotlib.pyplot as plt\n",
    "\n",
    "import geopandas as gpd\n",
    "from shapely.geometry import LineString, Point\n",
    "from shapely.geometry import Polygon as shp_polygon\n",
    "from scipy.interpolate import RectBivariateSpline\n",
    "import logging\n",
    "\n",
    "from IPython.display import display"
   ]
  },
  {
   "cell_type": "code",
   "execution_count": null,
   "metadata": {},
   "outputs": [],
   "source": [
    "print(f'nlmod version: {nlmod.__version__}')\n",
    "\n",
    "# toon informatie bij het aanroepen van functies\n",
    "logging.basicConfig(level=logging.INFO)"
   ]
  },
  {
   "cell_type": "markdown",
   "metadata": {},
   "source": [
    "## [1. Grid types](#TOC)<a name=\"gridtypes\"></a>\n",
    "\n",
    "So far two different gridtypes are supported in `nlmod`:\n",
    "- structured grids where the cellsize is fixed for all cells\n",
    "- vertex grids where the cellsize differs locally. These grids are usually created using local grid refinement algorithms.\n",
    "\n",
    "In this notebook we define a few xarray dataarray of structured and vertex grids. We use these grids in the next chapter to show the resampling functions in `nlmod`."
   ]
  },
  {
   "cell_type": "markdown",
   "metadata": {},
   "source": [
    "#### structured grid\n",
    "\n",
    "This structured grid has random numbers between 0 and 9. Has 10 x 10 cells."
   ]
  },
  {
   "cell_type": "code",
   "execution_count": null,
   "metadata": {},
   "outputs": [],
   "source": [
    "# structured grid 2d\n",
    "x = np.arange(1000, 1300, 100)\n",
    "y = np.arange(20300, 20000, -100)\n",
    "data_2d = np.random.randint(0, 10, size=(len(y), len(x)))\n",
    "struc2d = xr.DataArray(data_2d, dims=('y', 'x'),\n",
    "                       coords={'x': x,\n",
    "                               'y': y})\n",
    "fig, ax = plt.subplots()\n",
    "ax.set_aspect('equal')\n",
    "qm = struc2d.plot(ax=ax, lw=0.1, edgecolor='k')"
   ]
  },
  {
   "cell_type": "markdown",
   "metadata": {},
   "source": [
    "##### structured grid with nan value"
   ]
  },
  {
   "cell_type": "code",
   "execution_count": null,
   "metadata": {},
   "outputs": [],
   "source": [
    "struc2d_nan = struc2d.copy().astype(float)\n",
    "struc2d_nan.values[0][1] = np.nan\n",
    "fig, ax = plt.subplots()\n",
    "ax.set_aspect('equal')\n",
    "qm = struc2d_nan.plot(ax=ax, lw=0.1, edgecolor='k')"
   ]
  },
  {
   "cell_type": "markdown",
   "metadata": {},
   "source": [
    "#### vertex grid"
   ]
  },
  {
   "cell_type": "code",
   "execution_count": null,
   "metadata": {},
   "outputs": [],
   "source": [
    "dx = 100\n",
    "dy = 100\n",
    "x = np.arange(1000, 1300, dx)\n",
    "y = np.arange(20300, 20000, -dy)\n",
    "split_cell_no = 5\n",
    "\n",
    "# create structured grid\n",
    "xv, yv = np.meshgrid(x, y)\n",
    "xvc = xv.ravel()\n",
    "yvc = yv.ravel()\n",
    "#xyi = np.stack((np.ravel(xv), np.ravel(yv)), axis=-1)\n",
    "\n",
    "# create vertices\n",
    "vertices = np.ones((len(xvc), 4, 2))\n",
    "for i, x, y in zip(range(len(vertices)),xvc, yvc):\n",
    "    vertices[i] = np.array([[x-(dx/2), y+(dy/2)],\n",
    "                            [x+(dx/2), y+(dy/2)],\n",
    "                            [x+(dx/2), y-(dy/2)],\n",
    "                            [x-(dx/2), y-(dy/2)]])\n",
    "    \n",
    "# remove refined cell from structured grid\n",
    "split_cell_x, split_cell_y = xvc[split_cell_no], yvc[split_cell_no]\n",
    "xvc = np.delete(xvc, split_cell_no, 0)\n",
    "yvc = np.delete(yvc, split_cell_no, 0)\n",
    "vertices = np.delete(vertices, split_cell_no, 0)\n",
    "\n",
    "# get cell centers of refined cell\n",
    "x_refined = np.array([split_cell_x-(dx/4), split_cell_x+(dx/4), split_cell_x-(dx/4), split_cell_x+(dx/4)])\n",
    "y_refined = np.array([split_cell_y+(dy/4), split_cell_y+(dy/4), split_cell_y-(dy/4), split_cell_y-(dy/4)])\n",
    "\n",
    "# get vertices of refined cell\n",
    "vert_refined = np.ones((len(x_refined), 4, 2))\n",
    "for i, x, y in zip(range(len(vert_refined)),x_refined, y_refined):\n",
    "    vert_refined[i] = np.array([[x-(dx/4), y+(dy/4)],\n",
    "                                [x+(dx/4), y+(dy/4)],\n",
    "                                [x+(dx/4), y-(dy/4)],\n",
    "                                [x-(dx/4), y-(dy/4)]])\n",
    "\n",
    "# add refined cell to the grid and vertices\n",
    "xvc = np.insert(xvc, split_cell_no, x_refined, axis=0)\n",
    "yvc = np.insert(yvc, split_cell_no, y_refined, axis=0)\n",
    "vertices = np.insert(vertices, split_cell_no, vert_refined, axis=0)\n",
    "\n",
    "# calculate_area\n",
    "area_vertex = [(v[:,0].max() - v[:,0].min()) * (v[:,1].max() - v[:,1].min()) for v in vertices]\n",
    "\n",
    "# get cellid\n",
    "icell2d = np.arange(len(xvc))\n",
    "\n",
    "# create values\n",
    "values = np.random.randint(0, 10, size=len(icell2d))\n",
    "\n",
    "# create vertextured dataarray\n",
    "coords = dict(x=xr.DataArray(xvc, dims=['icell2d',]), y=xr.DataArray(yvc, dims=['icell2d',]))\n",
    "vertex1 = xr.DataArray(values, dims=('icell2d'), coords=coords)\n",
    "nlmod.visualise.plots.plot_vertex_array(vertex1, vertices, gridkwargs={'edgecolor': 'k'});"
   ]
  },
  {
   "cell_type": "markdown",
   "metadata": {},
   "source": [
    "#### vertex grid with nan"
   ]
  },
  {
   "cell_type": "code",
   "execution_count": null,
   "metadata": {},
   "outputs": [],
   "source": [
    "vertex1_nan = vertex1.copy().astype(float)\n",
    "vertex1_nan.values[7] = np.nan\n",
    "\n",
    "nlmod.visualise.plots.plot_vertex_array(vertex1_nan, vertices, gridkwargs={'edgecolor': 'k'});"
   ]
  },
  {
   "cell_type": "markdown",
   "metadata": {},
   "source": [
    "## [2 Structured grid to fine structured grid](#TOC)<a name=\"2\"></a>"
   ]
  },
  {
   "cell_type": "code",
   "execution_count": null,
   "metadata": {},
   "outputs": [],
   "source": [
    "# new grid dimensions\n",
    "dx = 50\n",
    "xmid = np.arange(950+0.5*dx, 1250, 50)\n",
    "ymid = np.arange(20350-0.5*dx, 20050, -dx)"
   ]
  },
  {
   "cell_type": "code",
   "execution_count": null,
   "metadata": {},
   "outputs": [],
   "source": [
    "def compare_structured_data_arrays(da1, da2, method, edgecolor='k'):\n",
    "    fig, axes = plt.subplots(ncols=2, figsize=(12,6))\n",
    "    da1.plot(ax=axes[0], edgecolor=edgecolor)\n",
    "    axes[0].set_aspect('equal')\n",
    "    axes[0].set_title('original grid')\n",
    "    da2.plot(ax=axes[1], edgecolor=edgecolor)\n",
    "    axes[1].set_aspect('equal')\n",
    "    axes[1].set_title(f'resampled grid, method {method}')"
   ]
  },
  {
   "cell_type": "code",
   "execution_count": null,
   "metadata": {},
   "outputs": [],
   "source": [
    "ds = xr.Dataset(coords=dict(x=xmid, y=ymid), attrs=dict(gridtype='structured'))"
   ]
  },
  {
   "cell_type": "markdown",
   "metadata": {},
   "source": [
    "### Without NaNs"
   ]
  },
  {
   "cell_type": "code",
   "execution_count": null,
   "metadata": {},
   "outputs": [],
   "source": [
    "for method in ['nearest', 'linear', 'cubic', 'average', 'min']:\n",
    "    struc_out = resample.structured_da_to_ds(struc2d, ds, method=method)\n",
    "    compare_structured_data_arrays(struc2d, struc_out, method)"
   ]
  },
  {
   "cell_type": "markdown",
   "metadata": {},
   "source": [
    "### With NaNs"
   ]
  },
  {
   "cell_type": "code",
   "execution_count": null,
   "metadata": {},
   "outputs": [],
   "source": [
    "for method in ['nearest', 'linear', 'cubic', 'average', 'mode']:\n",
    "    struc_out = resample.structured_da_to_ds(struc2d_nan, ds, method=method)\n",
    "    compare_structured_data_arrays(struc2d_nan, struc_out, method)"
   ]
  },
  {
   "cell_type": "markdown",
   "metadata": {},
   "source": [
    "### Rectangular Bivariate Spline (not yet included in nlmod)"
   ]
  },
  {
   "cell_type": "code",
   "execution_count": null,
   "metadata": {},
   "outputs": [],
   "source": [
    "interp_spline = RectBivariateSpline(struc2d.x.values, struc2d.y.values[::-1], struc2d.values[::-1], \n",
    "                                    ky=min(3,len(struc2d.y)-1), \n",
    "                                    kx=min(3,len(struc2d.x)-1))\n",
    "arr_out = interp_spline(xmid, ymid[::-1], grid=True)[::-1]\n",
    "struc_out = xr.DataArray(arr_out, dims=('y', 'x'),\n",
    "                         coords={'x': xmid,\n",
    "                                 'y': ymid})\n",
    "compare_structured_data_arrays(struc2d, struc_out, 'Rectangular Bivariate Spline')"
   ]
  },
  {
   "cell_type": "markdown",
   "metadata": {},
   "source": [
    "### Rectangular Bivariate Spline with nans (not yet included in nlmod)"
   ]
  },
  {
   "cell_type": "code",
   "execution_count": null,
   "metadata": {},
   "outputs": [],
   "source": [
    "interp_spline = RectBivariateSpline(struc2d_nan.x.values, struc2d_nan.y.values[::-1], struc2d_nan.values[::-1], \n",
    "                                    ky=min(3,len(struc2d_nan.y)-1), \n",
    "                                    kx=min(3,len(struc2d_nan.x)-1))\n",
    "interp_spline = RectBivariateSpline(struc2d_nan.x.values, struc2d_nan.y.values[::-1], struc2d_nan.values[::-1], \n",
    "                                    ky=min(3,len(struc2d_nan.y)-1), \n",
    "                                    kx=min(3,len(struc2d_nan.x)-1))\n",
    "arr_out = interp_spline(xmid, ymid[::-1], grid=True)[::-1]\n",
    "struc_out = xr.DataArray(arr_out, dims=('y', 'x'),\n",
    "                         coords={'x': xmid,\n",
    "                                 'y': ymid})\n",
    "compare_structured_data_arrays(struc2d_nan, struc_out, 'Rectangular Bivariate Spline')"
   ]
  },
  {
   "cell_type": "markdown",
   "metadata": {},
   "source": [
    "## [3. Structured grid to locally refined grid](#TOC)<a name=\"3\"></a>"
   ]
  },
  {
   "cell_type": "code",
   "execution_count": null,
   "metadata": {},
   "outputs": [],
   "source": [
    "def compare_struct_to_vertex(struc2d, res_vertex2d_n, vertices, method):\n",
    "    fig, axes = plt.subplots(ncols=2, figsize=(12,6))\n",
    "    struc2d.plot(ax=axes[0], edgecolor='k')\n",
    "    axes[0].set_aspect('equal')\n",
    "    axes[0].set_title('structured grid')\n",
    "    nlmod.visualise.plots.plot_vertex_array(res_vertex2d_n, vertices, ax=axes[1], gridkwargs={'edgecolor': 'k'})\n",
    "    axes[1].set_title(f'locally refined grid, method {method}')"
   ]
  },
  {
   "cell_type": "code",
   "execution_count": null,
   "metadata": {},
   "outputs": [],
   "source": [
    "data_vars = dict(area=(['icell2d'], area_vertex))\n",
    "coords = dict(x=xr.DataArray(xvc, dims=['icell2d',]), y=xr.DataArray(yvc, dims=['icell2d',]))\n",
    "attrs = dict(gridtype='vertex', extent=[950, 1250, 20050, 20350])\n",
    "dsv = xr.Dataset(data_vars=data_vars, coords=coords, attrs=attrs)"
   ]
  },
  {
   "cell_type": "markdown",
   "metadata": {},
   "source": [
    "### WIthout NaNs"
   ]
  },
  {
   "cell_type": "code",
   "execution_count": null,
   "metadata": {},
   "outputs": [],
   "source": [
    "for method in ['nearest', 'linear', 'cubic']:\n",
    "    res_vertex2d_n = resample.structured_da_to_ds(struc2d, dsv, method=method)\n",
    "    compare_struct_to_vertex(struc2d, res_vertex2d_n, vertices, method)"
   ]
  },
  {
   "cell_type": "markdown",
   "metadata": {},
   "source": [
    "## [4. Locally refined grid to structured grid](#TOC)<a name=\"4\"></a>"
   ]
  },
  {
   "cell_type": "code",
   "execution_count": null,
   "metadata": {},
   "outputs": [],
   "source": [
    "def compare_vertex_to_struct(vertex1, struc_out_n, method):\n",
    "    fig, axes = plt.subplots(ncols=2, figsize=(12,6))\n",
    "    nlmod.visualise.plots.plot_vertex_array(vertex1, vertices, ax=axes[0], gridkwargs={'edgecolor': 'k'})\n",
    "    axes[0].set_title('original')\n",
    "    struc_out_n.plot(ax=axes[1], edgecolor='k')\n",
    "    axes[1].set_title(f'resampled, method {method}')\n",
    "    axes[1].set_aspect('equal')"
   ]
  },
  {
   "cell_type": "markdown",
   "metadata": {},
   "source": [
    "### Without NaNs"
   ]
  },
  {
   "cell_type": "code",
   "execution_count": null,
   "metadata": {},
   "outputs": [],
   "source": [
    "for method in ['nearest', 'linear', 'cubic']:\n",
    "    struc_out_n = resample.vertex_da_to_ds(vertex1, ds=ds, method=method)\n",
    "    compare_vertex_to_struct(vertex1, struc_out_n, method)"
   ]
  },
  {
   "cell_type": "markdown",
   "metadata": {},
   "source": [
    "### With NaNs"
   ]
  },
  {
   "cell_type": "code",
   "execution_count": null,
   "metadata": {},
   "outputs": [],
   "source": [
    "for method in ['nearest', 'linear', 'cubic']:\n",
    "    struc_out_n = resample.vertex_da_to_ds(vertex1_nan, ds=ds, method=method)\n",
    "    compare_vertex_to_struct(vertex1_nan, struc_out_n, method)"
   ]
  },
  {
   "cell_type": "markdown",
   "metadata": {},
   "source": [
    "## [5. Fill nan values](#TOC)<a name=\"5\"></a>"
   ]
  },
  {
   "cell_type": "markdown",
   "metadata": {},
   "source": [
    "### Structured grid"
   ]
  },
  {
   "cell_type": "code",
   "execution_count": null,
   "metadata": {},
   "outputs": [],
   "source": [
    "for method in ['nearest', 'linear']:\n",
    "    struc2d_nan_filled = resample.fillnan_dataarray_structured_grid(struc2d_nan, method=method)\n",
    "    compare_structured_data_arrays(struc2d_nan, struc2d_nan_filled, method)"
   ]
  },
  {
   "cell_type": "markdown",
   "metadata": {},
   "source": [
    "## vertex grid"
   ]
  },
  {
   "cell_type": "code",
   "execution_count": null,
   "metadata": {},
   "outputs": [],
   "source": [
    "def compare_vertex_arrays(vertex1, vertex2, method):\n",
    "    fig, axes = plt.subplots(ncols=2, figsize=(12,6))\n",
    "    nlmod.visualise.plots.plot_vertex_array(vertex1, vertices, ax=axes[0], gridkwargs={'edgecolor': 'k'})\n",
    "    axes[0].set_title('original')\n",
    "    nlmod.visualise.plots.plot_vertex_array(vertex2, vertices, ax=axes[1], gridkwargs={'edgecolor': 'k'})\n",
    "    axes[1].set_title(f'resampled, method {method}')\n",
    "    axes[1].set_aspect('equal')"
   ]
  },
  {
   "cell_type": "code",
   "execution_count": null,
   "metadata": {},
   "outputs": [],
   "source": [
    "for method in ['nearest', 'linear']:\n",
    "    vertex1_nan_filled = resample.fillnan_dataarray_vertex_grid(vertex1_nan, x=xvc, y=yvc, method=method)\n",
    "    compare_vertex_arrays(vertex1_nan, vertex1_nan_filled, method)"
   ]
  },
  {
   "cell_type": "markdown",
   "metadata": {},
   "source": [
    "## [6. Vector to grid](#TOC)<a name=\"5\"></a>\n",
    "\n",
    "Vector data can be points, lines or polygons often saved as shapefiles and visualised using GIS software. A common operation is to project vector data on a modelgrid. For example to add a surface water line to a grid. Here are some functions in `nlmod` to project vector data on a modelgrid."
   ]
  },
  {
   "cell_type": "markdown",
   "metadata": {},
   "source": [
    "Vector data:\n",
    "    - point\n",
    "    - line\n",
    "    - polygon\n",
    "\n",
    "Vector data -> vector data per cell -> aggregeren per cell -> in het grid zetten"
   ]
  },
  {
   "cell_type": "code",
   "execution_count": null,
   "metadata": {},
   "outputs": [],
   "source": [
    "point_geom = [Point(x,y) for x, y in zip([1000, 1200, 1225, 1300],[20200, 20175, 20175, 20425])]\n",
    "point_gdf = gpd.GeoDataFrame({'values':[1,52,66,24]}, geometry=point_geom)\n",
    "line_geom = [LineString([point_geom[0], point_geom[1]]), LineString([point_geom[2], point_geom[3]]), LineString([point_geom[0], point_geom[3]])]\n",
    "line_gdf = gpd.GeoDataFrame({'values':[1,52,66]}, geometry=line_geom)\n",
    "pol_geom = [shp_polygon([point_geom[0], point_geom[1], point_geom[2], point_geom[3], point_geom[0]]),\n",
    "            shp_polygon([point_geom[0], point_geom[1], point_geom[2], Point(1200,20300), point_geom[0]])]\n",
    "pol_gdf = gpd.GeoDataFrame({'values':[166, 5]}, geometry=pol_geom)\n"
   ]
  },
  {
   "cell_type": "code",
   "execution_count": null,
   "metadata": {},
   "outputs": [],
   "source": [
    "fig, ax = plt.subplots()\n",
    "struc2d.plot(ax=ax, lw=0.1, edgecolor='k', alpha=0.5)\n",
    "point_gdf.plot(ax=ax, color='green')\n",
    "line_gdf.plot(ax=ax, color='purple')\n",
    "pol_gdf.plot(ax=ax, alpha=0.6)\n",
    "\n",
    "ax.set_xlim(ax.get_xlim()[0], 1400)\n",
    "ax.set_ylim(ax.get_ylim()[0], 20500)"
   ]
  },
  {
   "cell_type": "code",
   "execution_count": null,
   "metadata": {},
   "outputs": [],
   "source": [
    "sim = flopy.mf6.MFSimulation()\n",
    "gwf = flopy.mf6.MFModel(sim)\n",
    "dis = flopy.mf6.ModflowGwfdis(gwf, nlay=1, nrow=3, ncol=3, delr=100, delc=100, xorigin=950,yorigin=20050)"
   ]
  },
  {
   "cell_type": "markdown",
   "metadata": {},
   "source": [
    "### Points"
   ]
  },
  {
   "cell_type": "markdown",
   "metadata": {},
   "source": [
    "#### Aggregation methods"
   ]
  },
  {
   "cell_type": "code",
   "execution_count": null,
   "metadata": {},
   "outputs": [],
   "source": [
    "fig, axes = plt.subplots(ncols=4, figsize=(20,5))\n",
    "\n",
    "da1 = nlmod.mdims.gdf2data_array_struc(point_gdf, gwf, field='values', agg_method='max')\n",
    "da2 = nlmod.mdims.gdf2data_array_struc(point_gdf, gwf, field='values', agg_method='mean')\n",
    "da3 = nlmod.mdims.gdf2data_array_struc(point_gdf, gwf, field='values', agg_method='nearest')\n",
    "\n",
    "vmin = min(da1.min(), da2.min(), da3.min())\n",
    "vmax = max(da1.max(), da2.max(), da3.max())\n",
    "\n",
    "da1.plot(ax=axes[0], vmin=vmin, vmax=vmax)\n",
    "axes[0].set_title('aggregation max')\n",
    "axes[0].axis('scaled')\n",
    "\n",
    "\n",
    "da2.plot(ax=axes[1], vmin=vmin, vmax=vmax)\n",
    "axes[1].set_title('aggregation mean')\n",
    "axes[1].axis('scaled')\n",
    "\n",
    "da3.plot(ax=axes[2], vmin=vmin, vmax=vmax)\n",
    "axes[2].set_title('aggregation nearest')\n",
    "axes[2].axis('scaled')\n",
    "\n",
    "point_gdf.plot('values', ax=axes[3], vmin=vmin, vmax=vmax, legend=True)\n",
    "gwf.modelgrid.plot(ax=axes[3])\n",
    "axes[3].set_title('points')\n",
    "axes[3].axis('scaled')"
   ]
  },
  {
   "cell_type": "markdown",
   "metadata": {},
   "source": [
    "#### Interpolation methods"
   ]
  },
  {
   "cell_type": "code",
   "execution_count": null,
   "metadata": {},
   "outputs": [],
   "source": [
    "fig, axes = plt.subplots(ncols=3, figsize=(15,5))\n",
    "\n",
    "da1 = nlmod.mdims.gdf2data_array_struc(point_gdf, gwf, field='values', interp_method='nearest')\n",
    "da2 = nlmod.mdims.gdf2data_array_struc(point_gdf, gwf, field='values', interp_method='linear')\n",
    "\n",
    "vmin = min(da1.min(), da2.min())\n",
    "vmax = max(da1.max(), da2.max())\n",
    "\n",
    "da1.plot(ax=axes[0], vmin=vmin, vmax=vmax)\n",
    "axes[0].set_title('interpolation nearest')\n",
    "axes[0].axis('scaled')\n",
    "\n",
    "da2.plot(ax=axes[1], vmin=vmin, vmax=vmax)\n",
    "axes[1].set_title('interpolation linear')\n",
    "axes[1].axis('scaled')\n",
    "\n",
    "\n",
    "point_gdf.plot('values', ax=axes[2], vmin=vmin, vmax=vmax, legend=True)\n",
    "gwf.modelgrid.plot(ax=axes[2])\n",
    "axes[2].set_title('points')\n",
    "axes[2].axis('scaled')"
   ]
  },
  {
   "cell_type": "markdown",
   "metadata": {},
   "source": [
    "### Lines"
   ]
  },
  {
   "cell_type": "code",
   "execution_count": null,
   "metadata": {},
   "outputs": [],
   "source": [
    "fig, axes = plt.subplots(ncols=4, figsize=(20,5))\n",
    "\n",
    "da1 = nlmod.mdims.gdf2data_array_struc(line_gdf, gwf, field='values', agg_method='max_length')\n",
    "da2 = nlmod.mdims.gdf2data_array_struc(line_gdf, gwf, field='values', agg_method='length_weighted')\n",
    "da3 = nlmod.mdims.gdf2data_array_struc(line_gdf, gwf, field='values', agg_method='nearest')\n",
    "\n",
    "vmin = min(da1.min(), da2.min(), da3.min())\n",
    "vmax = max(da1.max(), da2.max(), da3.max())\n",
    "\n",
    "da1.plot(ax=axes[0], vmin=vmin, vmax=vmax)\n",
    "axes[0].set_title('aggregation max_length')\n",
    "axes[0].axis('scaled')\n",
    "\n",
    "da2.plot(ax=axes[1], vmin=vmin, vmax=vmax)\n",
    "axes[1].set_title('aggregation length_weighted')\n",
    "axes[1].axis('scaled')\n",
    "\n",
    "da3.plot(ax=axes[2], vmin=vmin, vmax=vmax)\n",
    "axes[2].set_title('aggregation nearest')\n",
    "axes[2].axis('scaled')\n",
    "\n",
    "line_gdf.plot('values', ax=axes[3], vmin=vmin, vmax=vmax, legend=True)\n",
    "gwf.modelgrid.plot(ax=axes[3])\n",
    "axes[3].set_title('lines')\n",
    "axes[3].axis('scaled')"
   ]
  },
  {
   "cell_type": "markdown",
   "metadata": {},
   "source": [
    "### Polygons"
   ]
  },
  {
   "cell_type": "code",
   "execution_count": null,
   "metadata": {},
   "outputs": [],
   "source": [
    "fig, axes = plt.subplots(ncols=4, figsize=(20,5))\n",
    "\n",
    "da1 = nlmod.mdims.gdf2data_array_struc(pol_gdf, gwf, field='values', agg_method='max_area')\n",
    "da2 = nlmod.mdims.gdf2data_array_struc(pol_gdf, gwf, field='values', agg_method='area_weighted')\n",
    "da3 = nlmod.mdims.gdf2data_array_struc(pol_gdf, gwf, field='values', agg_method='nearest')\n",
    "\n",
    "vmin = min(da1.min(), da2.min(), da3.min())\n",
    "vmax = max(da1.max(), da2.max(), da3.max())\n",
    "\n",
    "da1.plot(ax=axes[0], vmin=vmin, vmax=vmax)\n",
    "axes[0].set_title('aggregation max_area')\n",
    "axes[0].axis('scaled')\n",
    "\n",
    "da2.plot(ax=axes[1], vmin=vmin, vmax=vmax)\n",
    "axes[1].set_title('aggregation area_weighted')\n",
    "axes[1].axis('scaled')\n",
    "\n",
    "da3.plot(ax=axes[2], vmin=vmin, vmax=vmax)\n",
    "axes[2].set_title('aggregation nearest')\n",
    "axes[2].axis('scaled')\n",
    "\n",
    "pol_gdf.plot('values', ax=axes[3], vmin=vmin, vmax=vmax, legend=True)\n",
    "gwf.modelgrid.plot(ax=axes[3])\n",
    "axes[3].set_title('polygons')\n",
    "axes[3].axis('scaled');"
   ]
  },
  {
   "cell_type": "markdown",
   "metadata": {},
   "source": [
    "### Intersect vector data with grid"
   ]
  },
  {
   "cell_type": "code",
   "execution_count": null,
   "metadata": {},
   "outputs": [],
   "source": [
    "gdf_point_grid = nlmod.mdims.gdf2grid(point_gdf, gwf)\n",
    "gdf_line_grid = nlmod.mdims.gdf2grid(line_gdf, gwf)\n",
    "gdf_pol_grid = nlmod.mdims.gdf2grid(pol_gdf, gwf)"
   ]
  },
  {
   "cell_type": "code",
   "execution_count": null,
   "metadata": {},
   "outputs": [],
   "source": [
    "fig, ax = plt.subplots()\n",
    "\n",
    "gdf_point_grid.plot(ax=ax, color='green')\n",
    "gdf_line_grid['ind'] = range(gdf_line_grid.shape[0])\n",
    "gdf_line_grid.plot('ind', ax=ax, cmap='jet')\n",
    "gdf_pol_grid['ind'] = range(gdf_pol_grid.shape[0])\n",
    "gdf_pol_grid.plot('ind',ax=ax, alpha=0.6)\n",
    "\n",
    "gwf.modelgrid.plot(ax=ax)\n",
    "ax.set_xlim(ax.get_xlim()[0], 1300)\n",
    "ax.set_ylim(ax.get_ylim()[0], 20400)"
   ]
  },
  {
   "cell_type": "markdown",
   "metadata": {},
   "source": [
    "### Aggregate parameters per model cell\n",
    "\n",
    "Aggregatie options:\n",
    "- point: max, min, mean\n",
    "- line: max, min, length_weighted, max_length\n",
    "- polygon: max, min, area_weighted, area_max\n"
   ]
  },
  {
   "cell_type": "code",
   "execution_count": null,
   "metadata": {},
   "outputs": [],
   "source": [
    "# point\n",
    "display(gdf_point_grid)\n",
    "nlmod.mdims.aggregate_vector_per_cell(gdf_point_grid,{'values':'max'})"
   ]
  },
  {
   "cell_type": "code",
   "execution_count": null,
   "metadata": {},
   "outputs": [],
   "source": [
    "# line\n",
    "display(gdf_line_grid)\n",
    "nlmod.mdims.aggregate_vector_per_cell(gdf_line_grid,{'values':'length_weighted'})"
   ]
  },
  {
   "cell_type": "code",
   "execution_count": null,
   "metadata": {},
   "outputs": [],
   "source": [
    "# polygon\n",
    "display(gdf_pol_grid)\n",
    "nlmod.mdims.aggregate_vector_per_cell(gdf_pol_grid,{'values':'area_weighted'})"
   ]
  },
  {
   "cell_type": "markdown",
   "metadata": {},
   "source": [
    "## [7. Real world example](#TOC)<a name=\"6\"></a>\n",
    "In this example we will resample the values of the dutch Digital Terrain Model (DTM) from AHN4 to a structured grid and a vertex grid, using several methods. First we will download the AHN-information."
   ]
  },
  {
   "cell_type": "code",
   "execution_count": null,
   "metadata": {},
   "outputs": [],
   "source": [
    "extent = [133000, 134000, 402000, 403000]\n",
    "ahn = nlmod.read.ahn.get_ahn4(extent)"
   ]
  },
  {
   "cell_type": "markdown",
   "metadata": {},
   "source": [
    "### Transform ahn data to structured grid\n",
    "We crate a dummy dataset with a structured grid, to which we will resample the AHN-data"
   ]
  },
  {
   "cell_type": "code",
   "execution_count": null,
   "metadata": {},
   "outputs": [],
   "source": [
    "# create an empty model dataset\n",
    "ds_ahn = nlmod.mdims.get_default_ds(extent, delr=100.0, layer=1)"
   ]
  },
  {
   "cell_type": "code",
   "execution_count": null,
   "metadata": {},
   "outputs": [],
   "source": [
    "norm = Normalize(ahn.min(), ahn.max())\n",
    "for method in ['nearest', 'linear', 'average', 'min', 'max']:\n",
    "    ahn_res = nlmod.resample.structured_da_to_ds(ahn, ds_ahn, method=method)\n",
    "    \n",
    "    fig, axes = nlmod.plot.get_map(extent, ncols=2, figsize=(12,6))\n",
    "    pc = nlmod.plot.da(ahn, ax=axes[0], norm=norm)\n",
    "    nlmod.plot.colorbar_inside(pc, ax=axes[0])\n",
    "    axes[0].set_aspect('equal')\n",
    "    axes[0].set_title('original grid')\n",
    "    pc = nlmod.plot.da(ahn_res, dsv, ax=axes[1], edgecolor='k', norm=norm)\n",
    "    nlmod.plot.colorbar_inside(pc, ax=axes[1])\n",
    "    axes[1].set_aspect('equal')\n",
    "    axes[1].set_title(f'resampled grid, method {method}')"
   ]
  },
  {
   "cell_type": "markdown",
   "metadata": {},
   "source": [
    "### Transform ahn data to vertex grid\n",
    "We create a vertex grid by refining the cells along a line from the southwest to the northeast."
   ]
  },
  {
   "cell_type": "code",
   "execution_count": null,
   "metadata": {},
   "outputs": [],
   "source": [
    "gdf = gpd.GeoDataFrame(geometry=[LineString([(extent[0], extent[2]), (extent[1], extent[3])]).buffer(10.)])\n",
    "dsv = nlmod.mgrid.refine(ds_ahn, model_ws='model7', refinement_features=[(gdf, 1)])"
   ]
  },
  {
   "cell_type": "code",
   "execution_count": null,
   "metadata": {},
   "outputs": [],
   "source": [
    "norm = Normalize(ahn.min(), ahn.max())\n",
    "for method in ['nearest', 'linear', 'average', 'min', 'max']:\n",
    "    ahn_res = nlmod.resample.structured_da_to_ds(ahn, dsv, method=method)\n",
    "    \n",
    "    fig, axes = nlmod.plot.get_map(extent, ncols=2, figsize=(12,6))\n",
    "    pc = nlmod.plot.da(ahn, ax=axes[0], norm=norm)\n",
    "    nlmod.plot.colorbar_inside(pc, ax=axes[0])\n",
    "    axes[0].set_aspect('equal')\n",
    "    axes[0].set_title('original grid')\n",
    "    pc = nlmod.plot.da(ahn_res, dsv, ax=axes[1], edgecolor='k', norm=norm)\n",
    "    nlmod.plot.colorbar_inside(pc, ax=axes[1])\n",
    "    axes[1].set_aspect('equal')\n",
    "    axes[1].set_title(f'resampled grid, method {method}')"
   ]
  }
 ],
 "metadata": {
  "CodeCell": {
   "cm_config": {
    "lineWrapping": true
   }
  },
  "MarkdownCell": {
   "cm_config": {
    "lineWrapping": true
   }
  },
  "anaconda-cloud": {},
  "kernelspec": {
   "display_name": "Python 3 (ipykernel)",
   "language": "python",
   "name": "python3"
  },
  "language_info": {
   "codemirror_mode": {
    "name": "ipython",
    "version": 3
   },
   "file_extension": ".py",
   "mimetype": "text/x-python",
   "name": "python",
   "nbconvert_exporter": "python",
   "pygments_lexer": "ipython3",
   "version": "3.9.4"
  },
  "widgets": {
   "state": {},
   "version": "1.1.2"
  }
 },
 "nbformat": 4,
 "nbformat_minor": 4
}
