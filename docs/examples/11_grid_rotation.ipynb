{
 "cells": [
  {
   "cell_type": "markdown",
   "id": "95e17c3b",
   "metadata": {},
   "source": [
    "# Grid rotation\n",
    "Rotated grids are supported in nlmod. It is implemented in the folllowing manner:\n",
    "\n",
    "- angrot, xorigin and yorigin (naming equal to modflow 6) are added to the attributes of the model Dataset.\n",
    "- angrot is the counter-clockwise rotation angle (in degrees) of the model grid coordinate system relative to a real-world coordinate system (equal to definition in modflow 6)\n",
    "- when a grid is rotated:\n",
    "    - x and y (and xv and yv for a vertex grid) are in model-coordinates, instead of real-world-coordinates.\n",
    "    - xc and yc are added to the Dataset and represent the cell centers in real-world coordinates (naming equal to rioxarray rotated grids)\n",
    "    - the plot-methods in nlmod plot the grid in model-coordinates by default (can be overridden by the setting the parameter 'rotated' to False)\n",
    "    - before intersecting with the grid, GeoDataFrames are automtically transformed to model coordinates.\n",
    "\n",
    "When grids are not roated, the model Dataset does not contain an attribute named 'angrot' (or its is 0). The x- and y-coordinates of the model then respresent real-world coordinates.\n",
    "\n",
    "In this notebook we generate a model of 1 by 1 km, with a grid that is rotated 10 degrees relative to the real-world coordinates system (EPSG:28992: RD-coordinates)."
   ]
  },
  {
   "cell_type": "code",
   "execution_count": null,
   "id": "3d30c1fd",
   "metadata": {},
   "outputs": [],
   "source": [
    "import logging\n",
    "import os\n",
    "\n",
    "import matplotlib\n",
    "import nlmod\n",
    "import pandas as pd\n",
    "\n",
    "# set the log-level to INFO, so more information is shown\n",
    "# (compared to the default setting of WARNING)\n",
    "logging.basicConfig(level=logging.INFO)\n"
   ]
  },
  {
   "cell_type": "markdown",
   "id": "67dffb64",
   "metadata": {},
   "source": [
    "## Generate a model Dataset\n",
    "We generate a model dataset with a rotation of 10 degrees counterclockwise."
   ]
  },
  {
   "cell_type": "code",
   "execution_count": null,
   "id": "8df7f488",
   "metadata": {},
   "outputs": [],
   "source": [
    "ds = nlmod.get_default_ds(\n",
    "    [0, 1000, 0, 1000],\n",
    "    angrot=10.0,\n",
    "    xorigin=200000,\n",
    "    yorigin=500000,\n",
    "    delr=10.0,\n",
    "    model_name=\"nlmod\",\n",
    "    model_ws=\"model11\",\n",
    ")\n",
    "\n",
    "ds = nlmod.mdims.set_ds_time(ds, time=pd.date_range(\"2015\", \"2022\", freq=\"MS\"))\n"
   ]
  },
  {
   "cell_type": "markdown",
   "id": "ee27ce59",
   "metadata": {},
   "source": [
    "## Use a disv-grid\n",
    "or not, by commenting out the line below"
   ]
  },
  {
   "cell_type": "code",
   "execution_count": null,
   "id": "f8dbc46c",
   "metadata": {},
   "outputs": [],
   "source": [
    "ds = nlmod.mgrid.refine(ds)"
   ]
  },
  {
   "cell_type": "markdown",
   "id": "505b37e5",
   "metadata": {},
   "source": [
    "## Add AHN\n",
    "Download the ahn, resample to the new grid (using the method 'average') and compare."
   ]
  },
  {
   "cell_type": "code",
   "execution_count": null,
   "id": "3fba7c32",
   "metadata": {},
   "outputs": [],
   "source": [
    "# Dwonload AHN\n",
    "extent = nlmod.resample.get_extent(ds)\n",
    "ahn = nlmod.read.ahn.get_ahn3(extent)\n",
    "\n",
    "# Resample to the grid\n",
    "ds[\"ahn\"] = nlmod.resample.structured_da_to_ds(ahn, ds, method=\"average\")\n",
    "\n",
    "# Compare original ahn to the resampled one\n",
    "f, axes = nlmod.plot.get_map(extent, ncols=2)\n",
    "norm = matplotlib.colors.Normalize()\n",
    "pc = nlmod.plot.da(ahn, ax=axes[0], norm=norm)\n",
    "nlmod.plot.colorbar_inside(pc, ax=axes[0])\n",
    "pc = nlmod.plot.da(\n",
    "    ds[\"ahn\"], ds=ds, ax=axes[1], rotated=True, norm=norm, edgecolor=\"face\"\n",
    ")\n",
    "nlmod.plot.colorbar_inside(pc, ax=axes[1])\n"
   ]
  },
  {
   "cell_type": "markdown",
   "id": "8441d8b2",
   "metadata": {},
   "source": [
    "## Download surface water\n",
    "Download BGT-polygon data, add stage information from the waterboar, and grid the polygons. Because we use a rotated grid, the bgt-polygons are in model coordinates."
   ]
  },
  {
   "cell_type": "code",
   "execution_count": null,
   "id": "1e7cc6b3",
   "metadata": {},
   "outputs": [],
   "source": [
    "bgt = nlmod.gwf.surface_water.get_gdf(ds)"
   ]
  },
  {
   "cell_type": "code",
   "execution_count": null,
   "id": "e023dbca",
   "metadata": {},
   "outputs": [],
   "source": [
    "bgt.plot()"
   ]
  },
  {
   "cell_type": "markdown",
   "id": "111ac670",
   "metadata": {},
   "source": [
    "## Download knmi-data"
   ]
  },
  {
   "cell_type": "code",
   "execution_count": null,
   "id": "dc70036e",
   "metadata": {},
   "outputs": [],
   "source": [
    "knmi_ds = nlmod.read.knmi.get_recharge(ds)\n",
    "ds.update(knmi_ds)"
   ]
  },
  {
   "cell_type": "markdown",
   "id": "883fae7d",
   "metadata": {},
   "source": [
    "## Generate flopy-model\n",
    "A simulation and groundwater flow model, with some standard packages"
   ]
  },
  {
   "cell_type": "code",
   "execution_count": null,
   "id": "939f3a61",
   "metadata": {},
   "outputs": [],
   "source": [
    "# %%\n",
    "# create simulation\n",
    "sim = nlmod.sim.sim(ds)\n",
    "\n",
    "# create time discretisation\n",
    "tdis = nlmod.sim.tdis(ds, sim)\n",
    "\n",
    "# create groundwater flow model\n",
    "gwf = nlmod.gwf.gwf(ds, sim)\n",
    "\n",
    "# create ims\n",
    "ims = nlmod.gwf.ims(sim, complexity=\"complex\")\n",
    "\n",
    "# Create discretization\n",
    "dis = nlmod.gwf.dis(ds, gwf)\n",
    "\n",
    "# create node property flow\n",
    "npf = nlmod.gwf.npf(ds, gwf, save_flows=True)\n",
    "\n",
    "# Create the initial conditions package\n",
    "ic = nlmod.gwf.ic(ds, gwf, starting_head=0.0)\n",
    "\n",
    "# Create the output control package\n",
    "oc = nlmod.gwf.oc(ds, gwf)\n",
    "\n",
    "# create recharge package\n",
    "rch = nlmod.gwf.rch(ds, gwf)\n",
    "\n",
    "# create storage package\n",
    "sto = nlmod.gwf.sto(ds, gwf)\n"
   ]
  },
  {
   "cell_type": "markdown",
   "id": "703913be",
   "metadata": {},
   "source": [
    "## Add surface water\n",
    "To the groundwater flow model"
   ]
  },
  {
   "cell_type": "code",
   "execution_count": null,
   "id": "05fd7f42",
   "metadata": {},
   "outputs": [],
   "source": [
    "nlmod.gwf.gdf_to_seasonal_pkg(bgt, gwf, ds)"
   ]
  },
  {
   "cell_type": "markdown",
   "id": "e5d5fffa",
   "metadata": {},
   "source": [
    "## Run the model and read the heads"
   ]
  },
  {
   "cell_type": "code",
   "execution_count": null,
   "id": "e91eed52",
   "metadata": {},
   "outputs": [],
   "source": [
    "# run the model\n",
    "nlmod.sim.write_and_run(sim, ds)\n",
    "\n",
    "# read the heads\n",
    "head = nlmod.util.get_heads_dataarray(ds)"
   ]
  },
  {
   "cell_type": "markdown",
   "id": "4a2886ae",
   "metadata": {},
   "source": [
    "## Plot the heads in layer 1\n",
    "When grid rotation is used, nlmod.plot.da() plots a DataArray in model coordinates. If we want to plot in realworld coordinates, we set the optional parameter 'rotated' to True."
   ]
  },
  {
   "cell_type": "code",
   "execution_count": null,
   "id": "ba48f036",
   "metadata": {},
   "outputs": [],
   "source": [
    "f, ax = nlmod.plot.get_map(extent)\n",
    "pc = nlmod.plot.da(\n",
    "    head.sel(layer=1).mean(\"time\"), ds=ds, edgecolor=\"k\", rotated=True\n",
    ")\n",
    "cbar = nlmod.plot.colorbar_inside(pc)\n",
    "for label in cbar.ax.yaxis.get_ticklabels():\n",
    "    label.set_bbox(dict(facecolor=\"w\", alpha=0.5))\n",
    "bgt.plot(ax=ax, edgecolor=\"k\", facecolor=\"none\")\n"
   ]
  },
  {
   "cell_type": "markdown",
   "id": "91472ed9",
   "metadata": {},
   "source": [
    "Export the model dataset to a netcdf-file, which you can open in qgis using 'Add mesh layer'."
   ]
  },
  {
   "cell_type": "code",
   "execution_count": null,
   "id": "ba33425e",
   "metadata": {},
   "outputs": [],
   "source": [
    "fname = os.path.join(ds.model_ws, 'ugrid_ds.nc')\n",
    "nlmod.visualise.gis.model_dataset_to_ugrid_nc_file(ds, fname)"
   ]
  }
 ],
 "metadata": {
  "kernelspec": {
   "display_name": "Python 3.9.7 ('artesia')",
   "language": "python",
   "name": "python3"
  },
  "language_info": {
   "codemirror_mode": {
    "name": "ipython",
    "version": 3
   },
   "file_extension": ".py",
   "mimetype": "text/x-python",
   "name": "python",
   "nbconvert_exporter": "python",
   "pygments_lexer": "ipython3",
   "version": "3.9.7"
  },
  "vscode": {
   "interpreter": {
    "hash": "dace5e1b41a98a8e52d2a8eebc3b981caf2c12e7a76736ebfb89a489e3b62e79"
   }
  }
 },
 "nbformat": 4,
 "nbformat_minor": 5
}
