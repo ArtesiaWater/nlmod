{
 "cells": [
  {
   "cell_type": "markdown",
   "metadata": {},
   "source": [
    "<IMG SRC=\"https://avatars2.githubusercontent.com/u/31697400?s=400&u=a5a6fc31ec93c07853dd53835936fd90c44f7483&v=4\" WIDTH=125 ALIGN=\"right\">\n",
    "\n",
    "\n",
    "# NLmod examples  \n",
    "\n",
    "This example notebook shows a basic example of a model created with the `nlmod` package. The `nlmod` package contains functions to create modflow models anywhere in the Netherlands."
   ]
  },
  {
   "cell_type": "markdown",
   "metadata": {},
   "source": [
    "### Contents<a name=\"TOC\"></a>\n",
    "0. [Download MODFLOW-binaries](#binaries)\n",
    "1. [Create model](#create)\n",
    "2. [Run model](#run)\n",
    "3. [Visualise](#visualise)"
   ]
  },
  {
   "cell_type": "code",
   "execution_count": null,
   "metadata": {},
   "outputs": [],
   "source": [
    "import logging\n",
    "import os\n",
    "\n",
    "import flopy\n",
    "import geopandas as gpd\n",
    "import matplotlib.pyplot as plt\n",
    "import nlmod\n"
   ]
  },
  {
   "cell_type": "code",
   "execution_count": null,
   "metadata": {},
   "outputs": [],
   "source": [
    "print(f\"nlmod version: {nlmod.__version__}\")\n",
    "\n",
    "# toon informatie bij het aanroepen van functies\n",
    "logging.basicConfig(level=logging.INFO)\n"
   ]
  },
  {
   "cell_type": "markdown",
   "metadata": {},
   "source": [
    "### [0. Download MODFLOW-binaries](#TOC)<a name=\"binaries\"></a>\n",
    "To run MODFLOW, we need to download the MODFLOW-excecutables. We do this with the following code:"
   ]
  },
  {
   "cell_type": "code",
   "execution_count": null,
   "metadata": {},
   "outputs": [],
   "source": [
    "if not nlmod.util.check_presence_mfbinaries():\n",
    "    nlmod.util.download_mfbinaries()\n"
   ]
  },
  {
   "cell_type": "markdown",
   "metadata": {},
   "source": [
    "### [1. Create model](#TOC)<a name=\"create\"></a>\n",
    "\n",
    "With the code below we create a modflow model with the name 'IJmuiden'. This model has the following properties :\n",
    "- an extent that covers part of the Northsea, Noordzeekanaal and the small port city IJmuiden.\n",
    "- a structured grid based on the subsurface models [Regis](https://www.dinoloket.nl/regis-ii-het-hydrogeologische-model) and [Geotop](https://www.dinoloket.nl/detaillering-van-de-bovenste-lagen-met-geotop). The Regis layers that are not present within the extent are removed. In this case we use 'MSz1' as the bottom layer of the model. Use `nlmod.read.regis.get_layer_names()` to get all the layer names of Regis. All Regis layers below this layer are not used in the model. Geotop is used to replace the holoceen layer in Regis because there is no kh or kv defined for the holoceen in Regis. Part of the model is in the North sea. Regis and Geotop have no data there. Therefore the Regis and Geotop layers are extrapolated from the shore and the seabed is added using bathymetry data from [Jarkus](https://www.openearth.nl/rws-bathymetry/2018.html).\n",
    "- starting heads of 1 in every cell.\n",
    "- the model is a steady state model of a single time step.\n",
    "- big surface water bodies (Northsea, IJsselmeer, Markermeer, Noordzeekanaal) within the extent are added as a general head boundary. The surface water bodies are obtained from a [shapefile](..\\data\\opp_water.shp).\n",
    "- surface drainage is added using [ahn](https://www.ahn.nl) data and a default conductance of $1000 m^2/d$\n",
    "- recharge is added using data from the [knmi](https://www.knmi.nl/nederland-nu/klimatologie/daggegevens) using the following steps:~~\n",
    "    1. Check for each cell which KNMI weather and/or rainfall station is closest.\n",
    "    2. Download the data for the stations found in 1. for the model period. For a steady state stress period the average precipitation and evaporation of 8 years before the stress period time is used.\n",
    "    3. Combine precipitation and evaporation data from step 2 to create a recharge time series for each cell\n",
    "    4. Add the timeseries to the model dataset and create the recharge package.\n",
    "- constant head boundaries are added to the model edges in every layer. The starting head is used as constant head."
   ]
  },
  {
   "cell_type": "code",
   "execution_count": null,
   "metadata": {},
   "outputs": [],
   "source": [
    "# model settings\n",
    "model_ws = \"model1\"\n",
    "model_name = \"IJmuiden\"\n",
    "figdir, cachedir = nlmod.util.get_model_dirs(model_ws)\n",
    "extent = [95000.0, 105000.0, 494000.0, 500000.0]\n",
    "delr = 100.0\n",
    "delc = 100.0\n",
    "steady_state = True\n",
    "start_time = \"2015-1-1\"\n",
    "use_regis = True\n",
    "regis_botm_layer = \"MSz1\"\n",
    "use_geotop = True\n",
    "add_northsea = True\n",
    "starting_head = 1.0\n"
   ]
  },
  {
   "cell_type": "code",
   "execution_count": null,
   "metadata": {},
   "outputs": [],
   "source": [
    "layer_model = nlmod.read.regis.get_combined_layer_models(\n",
    "    extent,\n",
    "    use_regis=use_regis,\n",
    "    regis_botm_layer=regis_botm_layer,\n",
    "    use_geotop=use_geotop,\n",
    "    cachedir=cachedir,\n",
    "    cachename=\"combined_layer_ds.nc\",\n",
    ")\n",
    "\n",
    "# create a model ds by changing grid of layer_model\n",
    "ds = nlmod.mdims.to_model_ds(\n",
    "    layer_model, model_name, model_ws, delr=delr, delc=delc\n",
    ")\n",
    "\n",
    "# add time discretisation\n",
    "ds = nlmod.mdims.set_ds_time(\n",
    "    ds, start_time=start_time, steady_state=steady_state, perlen=365 * 5\n",
    ")\n",
    "\n",
    "if add_northsea:\n",
    "    ds = nlmod.mdims.add_northsea(ds)\n"
   ]
  },
  {
   "cell_type": "code",
   "execution_count": null,
   "metadata": {},
   "outputs": [],
   "source": [
    "# create simulation\n",
    "sim = nlmod.sim.sim(ds)\n",
    "\n",
    "# create time discretisation\n",
    "tdis = nlmod.sim.tdis(ds, sim)\n",
    "\n",
    "# create groundwater flow model\n",
    "gwf = nlmod.gwf.gwf(ds, sim)\n",
    "\n",
    "# create ims\n",
    "ims = nlmod.gwf.ims(sim)\n",
    "\n",
    "# Create discretization\n",
    "dis = nlmod.gwf.dis(ds, gwf)\n",
    "\n",
    "# create node property flow\n",
    "npf = nlmod.gwf.npf(ds, gwf)\n",
    "\n",
    "# Create the initial conditions package\n",
    "ic = nlmod.gwf.ic(ds, gwf, starting_head=starting_head)\n",
    "\n",
    "# Create the output control package\n",
    "oc = nlmod.gwf.oc(ds, gwf)\n"
   ]
  },
  {
   "cell_type": "code",
   "execution_count": null,
   "metadata": {},
   "outputs": [],
   "source": [
    "# voeg grote oppervlaktewaterlichamen toe o.b.v. rws shape\n",
    "da_name = \"rws_oppwater\"\n",
    "rws_ds = nlmod.read.rws.get_surface_water(\n",
    "    ds, da_name, cachedir=ds.cachedir, cachename=da_name\n",
    ")\n",
    "ds.update(rws_ds)\n",
    "ghb = nlmod.gwf.ghb(ds, gwf, da_name)\n"
   ]
  },
  {
   "cell_type": "code",
   "execution_count": null,
   "metadata": {},
   "outputs": [],
   "source": [
    "# surface level drain\n",
    "ahn_ds = nlmod.read.ahn.get_ahn(ds, cachedir=ds.cachedir, cachename=\"ahn\")\n",
    "ds.update(ahn_ds)\n",
    "\n",
    "drn = nlmod.gwf.surface_drain_from_ds(ds, gwf)\n",
    "\n",
    "\n",
    "# add constant head cells at model boundaries\n",
    "ds.update(nlmod.gwf.constant_head.chd_at_model_edge(ds, ds[\"idomain\"]))\n",
    "chd = nlmod.gwf.chd(ds, gwf, head=\"starting_head\")\n"
   ]
  },
  {
   "cell_type": "code",
   "execution_count": null,
   "metadata": {},
   "outputs": [],
   "source": [
    "# add knmi recharge to the model datasets\n",
    "knmi_ds = nlmod.read.knmi.get_recharge(\n",
    "    ds, cachedir=ds.cachedir, cachename=\"recharge\"\n",
    ")\n",
    "ds.update(knmi_ds)\n",
    "\n",
    "# create recharge package\n",
    "rch = nlmod.gwf.rch(ds, gwf)\n"
   ]
  },
  {
   "cell_type": "markdown",
   "metadata": {},
   "source": [
    "A big part of the model data is stored in the variable `ds` which is an `xarray.Dataset`. The data is shown below."
   ]
  },
  {
   "cell_type": "code",
   "execution_count": null,
   "metadata": {},
   "outputs": [],
   "source": [
    "ds"
   ]
  },
  {
   "cell_type": "markdown",
   "metadata": {},
   "source": [
    "### [2. Write and Run](#TOC)<a name=\"run\"></a>\n",
    "Now that we've created all the modflow packages we need to write them to modflow files. You always have to write the modflow data to the model workspace before you can run the model. You can write the model files and run the model using the function `nlmod.sim.write_and_run)` as shown below. This function has two additional options:\n",
    "1. Write the model dataset to the disk if `write_ds` is `True`. This makes it easier and faster to load model data if you ever need it. \n",
    "2. Write a copy of this Jupyter Notebook to the same directory as the modflow files if `nb_path` is the name of this Jupyter Notebook. It can be useful to have a copy of the script that created the modflow files, together with the files. "
   ]
  },
  {
   "cell_type": "code",
   "execution_count": null,
   "metadata": {},
   "outputs": [],
   "source": [
    "nlmod.sim.write_and_run(\n",
    "    sim, ds, write_ds=True, nb_path=\"01_basic_model.ipynb\"\n",
    ")\n"
   ]
  },
  {
   "cell_type": "markdown",
   "metadata": {},
   "source": [
    "### [3. Visualise](#TOC)<a name=\"visualise\"></a>\n",
    "\n",
    "Using the `ds` and `gwf` variables it is quite easy to visualise model data. Below the modelgrid together with the surface water is shown."
   ]
  },
  {
   "cell_type": "code",
   "execution_count": null,
   "metadata": {},
   "outputs": [],
   "source": [
    "ax = nlmod.visualise.plots.plot_modelgrid(ds, gwf)\n",
    "ax.figure.savefig(\n",
    "    os.path.join(ds.figdir, \"mgrid_swater.png\"), bbox_inches=\"tight\"\n",
    ")\n"
   ]
  },
  {
   "cell_type": "markdown",
   "metadata": {},
   "source": [
    "Data from a model with a structured grid can be easily visualised using the model dataset. Below some examples"
   ]
  },
  {
   "cell_type": "code",
   "execution_count": null,
   "metadata": {},
   "outputs": [],
   "source": [
    "fig, axes = plt.subplots(nrows=2, ncols=2, figsize=(14, 11))\n",
    "ds[\"ahn\"].plot(ax=axes[0][0])\n",
    "ds[\"botm\"][0].plot(ax=axes[0][1])\n",
    "ds[\"idomain\"][0].plot(ax=axes[1][0])\n",
    "ds[\"chd\"][0].plot(ax=axes[1][1])\n",
    "for axes1 in axes:\n",
    "    for ax in axes1:\n",
    "        ax.axis(\"scaled\")\n",
    "\n",
    "fig.savefig(\n",
    "    os.path.join(ds.figdir, \"ahn_bot_idom_chd.png\"), bbox_inches=\"tight\"\n",
    ")\n",
    "\n",
    "fig, axes = plt.subplots(nrows=2, ncols=2, figsize=(14, 11))\n",
    "ds[\"bathymetry\"].plot(ax=axes[0][0])\n",
    "ds[\"northsea\"].plot(ax=axes[0][1])\n",
    "ds[\"kh\"][1].plot(ax=axes[1][0])\n",
    "ds[\"recharge\"].plot(ax=axes[1][1])\n",
    "\n",
    "for axes1 in axes:\n",
    "    for ax in axes1:\n",
    "        ax.axis(\"scaled\")\n",
    "fig.savefig(\n",
    "    os.path.join(ds.figdir, \"bath_nsea_kh_top.png\"), bbox_inches=\"tight\"\n",
    ")\n"
   ]
  },
  {
   "cell_type": "code",
   "execution_count": null,
   "metadata": {},
   "outputs": [],
   "source": []
  }
 ],
 "metadata": {
  "CodeCell": {
   "cm_config": {
    "lineWrapping": true
   }
  },
  "MarkdownCell": {
   "cm_config": {
    "lineWrapping": true
   }
  },
  "anaconda-cloud": {},
  "kernelspec": {
   "display_name": "Python 3.9.7 ('artesia')",
   "language": "python",
   "name": "python3"
  },
  "language_info": {
   "codemirror_mode": {
    "name": "ipython",
    "version": 3
   },
   "file_extension": ".py",
   "mimetype": "text/x-python",
   "name": "python",
   "nbconvert_exporter": "python",
   "pygments_lexer": "ipython3",
   "version": "3.9.7"
  },
  "vscode": {
   "interpreter": {
    "hash": "dace5e1b41a98a8e52d2a8eebc3b981caf2c12e7a76736ebfb89a489e3b62e79"
   }
  },
  "widgets": {
   "state": {},
   "version": "1.1.2"
  }
 },
 "nbformat": 4,
 "nbformat_minor": 4
}
