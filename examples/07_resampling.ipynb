{
 "cells": [
  {
   "cell_type": "markdown",
   "metadata": {},
   "source": [
    "<IMG SRC=\"https://avatars2.githubusercontent.com/u/31697400?s=400&u=a5a6fc31ec93c07853dd53835936fd90c44f7483&v=4\" WIDTH=125 ALIGN=\"right\">\n",
    "\n",
    "\n",
    "# Resampling \n",
    "\n",
    "Resampling data is a very common operation when building a Modflow model. Usually it is used to project data from one grid onto the other. There are many different ways to do this. This notebook shows some examples of resampling methods that are incorporated in the `nlmod` package. These methods rely heavily on resampling methods in other packages such as `scipy.interpolate` and `xarray`."
   ]
  },
  {
   "cell_type": "markdown",
   "metadata": {},
   "source": [
    "### Contents<a name=\"TOC\"></a>\n",
    "1. [Grid types](#gridtypes)\n",
    "2. [Structured grid to fine structured grid](#2)\n",
    "3. [Structured grid to locally refined grid](#3)\n",
    "4. [Locally refined grid to structured grid](#4)\n",
    "5. [Fill nan values](#5)\n",
    "6. [Vector to grid](#6)"
   ]
  },
  {
   "cell_type": "code",
   "execution_count": null,
   "metadata": {},
   "outputs": [],
   "source": [
    "import nlmod\n",
    "from nlmod.mdims import resample\n",
    "import numpy as np\n",
    "import xarray as xr\n",
    "import flopy\n",
    "\n",
    "from matplotlib.patches import Polygon\n",
    "from matplotlib.collections import PatchCollection\n",
    "import matplotlib.pyplot as plt\n",
    "\n",
    "import geopandas as gpd\n",
    "from shapely.geometry import LineString, Point\n",
    "from shapely.geometry import Polygon as shp_polygon\n",
    "from scipy.interpolate import RectBivariateSpline\n",
    "import logging\n",
    "\n",
    "from IPython.display import display"
   ]
  },
  {
   "cell_type": "code",
   "execution_count": null,
   "metadata": {},
   "outputs": [],
   "source": [
    "print(f'nlmod version: {nlmod.__version__}')\n",
    "\n",
    "# toon informatie bij het aanroepen van functies\n",
    "logging.basicConfig(level=logging.INFO)"
   ]
  },
  {
   "cell_type": "markdown",
   "metadata": {},
   "source": [
    "### [1. Grid types](#TOC)<a name=\"gridtypes\"></a>\n",
    "\n",
    "So far two different gridtypes are supported in `nlmod`:\n",
    "- structured grids where the cellsize is fixed for all cells\n",
    "- vertex grids where the cellsize differs locally. These grids are usually created using local grid refinement algorithms.\n",
    "\n",
    "In this notebook we define a few xarray dataarray of structured and vertex grids. We use these grids in the next chapter to show the resampling functions in `nlmod`."
   ]
  },
  {
   "cell_type": "markdown",
   "metadata": {},
   "source": [
    "#### structured grid 1\n",
    "\n",
    "This structured grid has random numbers between 0 and 9. Has 10 x 10 cells."
   ]
  },
  {
   "cell_type": "code",
   "execution_count": null,
   "metadata": {},
   "outputs": [],
   "source": [
    "# structured grid 2d\n",
    "x = np.arange(1000, 1300, 100)\n",
    "y = np.arange(20300, 20000, -100)\n",
    "data_2d = np.random.randint(0, 10, size=(len(y), len(x)))\n",
    "struc2d = xr.DataArray(data_2d, dims=('y', 'x'),\n",
    "                       coords={'x': x,\n",
    "                               'y': y})\n",
    "fig, ax = plt.subplots()\n",
    "ax.set_aspect('equal')\n",
    "qm = struc2d.plot(ax=ax, lw=0.1, edgecolor='k')\n"
   ]
  },
  {
   "cell_type": "code",
   "execution_count": null,
   "metadata": {},
   "outputs": [],
   "source": [
    "# structured grid 2d with nan value\n",
    "struc2d_nan = struc2d.copy().astype(float)\n",
    "struc2d_nan.values[0][1] = np.nan\n",
    "fig, ax = plt.subplots()\n",
    "ax.set_aspect('equal')\n",
    "qm = struc2d_nan.plot(ax=ax, lw=0.1, edgecolor='k')\n"
   ]
  },
  {
   "cell_type": "code",
   "execution_count": null,
   "metadata": {},
   "outputs": [],
   "source": [
    "# vertex grid 1\n",
    "dx = 100\n",
    "dy = 100\n",
    "x = np.arange(1000, 1300, dx)\n",
    "y = np.arange(20300, 20000, -dy)\n",
    "split_cell_no = 5\n",
    "\n",
    "# create structured grid\n",
    "xv, yv = np.meshgrid(x, y)\n",
    "xvc = xv.ravel()\n",
    "yvc = yv.ravel()\n",
    "#xyi = np.stack((np.ravel(xv), np.ravel(yv)), axis=-1)\n",
    "\n",
    "# create vertices\n",
    "vertices = np.ones((len(xvc), 4, 2))\n",
    "for i, x, y in zip(range(len(vertices)),xvc, yvc):\n",
    "    vertices[i] = np.array([[x-(dx/2), y+(dy/2)],\n",
    "                            [x+(dx/2), y+(dy/2)],\n",
    "                            [x+(dx/2), y-(dy/2)],\n",
    "                            [x-(dx/2), y-(dy/2)]])\n",
    "    \n",
    "# remove refined cell from structured grid\n",
    "split_cell_x, split_cell_y = xvc[split_cell_no], yvc[split_cell_no]\n",
    "xvc = np.delete(xvc, split_cell_no, 0)\n",
    "yvc = np.delete(yvc, split_cell_no, 0)\n",
    "vertices = np.delete(vertices, split_cell_no, 0)\n",
    "\n",
    "# get cell centers of refined cell\n",
    "x_refined = np.array([split_cell_x-(dx/4), split_cell_x+(dx/4), split_cell_x-(dx/4), split_cell_x+(dx/4)])\n",
    "y_refined = np.array([split_cell_y+(dy/4), split_cell_y+(dy/4), split_cell_y-(dy/4), split_cell_y-(dy/4)])\n",
    "\n",
    "# get vertices of refined cell\n",
    "vert_refined = np.ones((len(x_refined), 4, 2))\n",
    "for i, x, y in zip(range(len(vert_refined)),x_refined, y_refined):\n",
    "    vert_refined[i] = np.array([[x-(dx/4), y+(dy/4)],\n",
    "                                [x+(dx/4), y+(dy/4)],\n",
    "                                [x+(dx/4), y-(dy/4)],\n",
    "                                [x-(dx/4), y-(dy/4)]])\n",
    "\n",
    "# add refined cell to the grid and vertices\n",
    "xvc = np.insert(xvc, split_cell_no, x_refined, axis=0)\n",
    "yvc = np.insert(yvc, split_cell_no, y_refined, axis=0)\n",
    "vertices = np.insert(vertices, split_cell_no, vert_refined, axis=0)\n",
    "\n",
    "# get cellid\n",
    "icell2d = np.arange(len(xvc))\n",
    "\n",
    "# create values\n",
    "values = np.random.randint(0, 10, size=len(icell2d))\n",
    "\n",
    "# create vertextured dataarray\n",
    "vertex1 = xr.DataArray(values, dims=('icell2d'))\n",
    "nlmod.visualise.plots.plot_vertex_array(vertex1, vertices, gridkwargs={'edgecolor': 'k'});"
   ]
  },
  {
   "cell_type": "code",
   "execution_count": null,
   "metadata": {},
   "outputs": [],
   "source": [
    "# vertextured grid 2 with nan\n",
    "vertex1_nan = vertex1.copy().astype(float)\n",
    "vertex1_nan.values[7] = np.nan\n",
    "\n",
    "nlmod.visualise.plots.plot_vertex_array(vertex1_nan, vertices, gridkwargs={'edgecolor': 'k'},\n",
    "                              vmin=vertex1_nan.min(), vmax=vertex1_nan.max());"
   ]
  },
  {
   "cell_type": "markdown",
   "metadata": {},
   "source": [
    "## [2 Structured grid to fine structured grid](#TOC)<a name=\"2\"></a>"
   ]
  },
  {
   "cell_type": "code",
   "execution_count": null,
   "metadata": {},
   "outputs": [],
   "source": [
    "# new grid dimensions\n",
    "xmid = np.arange(950, 1300, 50)\n",
    "ymid = np.arange(20350, 20000, -50)"
   ]
  },
  {
   "cell_type": "markdown",
   "metadata": {},
   "source": [
    "### nearest"
   ]
  },
  {
   "cell_type": "code",
   "execution_count": null,
   "metadata": {},
   "outputs": [],
   "source": [
    "struc_out = resample.resample_dataarray2d_to_structured_grid(struc2d, x=xmid, y=ymid,\n",
    "                                                             kind='nearest')\n",
    "# plot results\n",
    "fig, axes = plt.subplots(ncols=2, figsize=(12,6))\n",
    "struc2d.plot(ax=axes[0], edgecolor='k')\n",
    "axes[0].set_aspect('equal')\n",
    "axes[0].set_title('original grid')\n",
    "struc_out.plot(ax=axes[1], edgecolor='k')\n",
    "axes[1].set_aspect('equal')\n",
    "axes[1].set_title('resampled grid')"
   ]
  },
  {
   "cell_type": "markdown",
   "metadata": {},
   "source": [
    "#### nearest with nan values"
   ]
  },
  {
   "cell_type": "code",
   "execution_count": null,
   "metadata": {},
   "outputs": [],
   "source": [
    "struc_out = resample.resample_dataarray2d_to_structured_grid(struc2d_nan, x=xmid, y=ymid,\n",
    "                                                             kind='nearest')\n",
    "# plot results\n",
    "fig, axes = plt.subplots(ncols=2, figsize=(12,6))\n",
    "struc2d_nan.plot(ax=axes[0], edgecolor='k')\n",
    "axes[0].set_aspect('equal')\n",
    "axes[0].set_title('original grid')\n",
    "struc_out.plot(ax=axes[1], edgecolor='k')\n",
    "axes[1].set_aspect('equal')\n",
    "axes[1].set_title('resampled grid')"
   ]
  },
  {
   "cell_type": "markdown",
   "metadata": {},
   "source": [
    "### linear"
   ]
  },
  {
   "cell_type": "code",
   "execution_count": null,
   "metadata": {},
   "outputs": [],
   "source": [
    "struc_out = resample.resample_dataarray2d_to_structured_grid(struc2d, x=xmid, y=ymid,\n",
    "                                                             kind='linear', fill_value=np.nan)\n",
    "# plot results\n",
    "fig, axes = plt.subplots(ncols=2, figsize=(12,6))\n",
    "struc2d.plot(ax=axes[0], edgecolor='k')\n",
    "axes[0].set_aspect('equal')\n",
    "axes[0].set_title('original grid')\n",
    "struc_out.plot(ax=axes[1], edgecolor='k')\n",
    "axes[1].set_aspect('equal')\n",
    "axes[1].set_title('resampled grid')"
   ]
  },
  {
   "cell_type": "code",
   "execution_count": null,
   "metadata": {},
   "outputs": [],
   "source": [
    "struc_out = resample.resample_dataarray2d_to_structured_grid(struc2d, x=xmid, y=ymid,\n",
    "                                                             kind='linear', fill_value=np.nan)\n",
    "# plot results\n",
    "fig, axes = plt.subplots(ncols=2, figsize=(12,6))\n",
    "struc2d.plot(ax=axes[0], edgecolor='k')\n",
    "axes[0].set_aspect('equal')\n",
    "axes[0].set_title('original grid')\n",
    "struc_out.plot(ax=axes[1], edgecolor='k')\n",
    "axes[1].set_aspect('equal')\n",
    "axes[1].set_title('resampled grid')"
   ]
  },
  {
   "cell_type": "markdown",
   "metadata": {},
   "source": [
    "### linear with nans in input"
   ]
  },
  {
   "cell_type": "code",
   "execution_count": null,
   "metadata": {},
   "outputs": [],
   "source": [
    "struc_out = resample.resample_dataarray2d_to_structured_grid(struc2d_nan, x=xmid, y=ymid,\n",
    "                                                             kind='linear', fill_value=np.nan)\n",
    "# plot results\n",
    "fig, axes = plt.subplots(ncols=2, figsize=(12,6))\n",
    "struc2d_nan.plot(ax=axes[0], edgecolor='k', vmin=0)\n",
    "axes[0].set_aspect('equal')\n",
    "axes[0].set_title('original grid')\n",
    "struc_out.plot(ax=axes[1], edgecolor='k', vmin=0)\n",
    "axes[1].set_aspect('equal')\n",
    "axes[1].set_title('resampled grid')"
   ]
  },
  {
   "cell_type": "markdown",
   "metadata": {},
   "source": [
    "### Cubic"
   ]
  },
  {
   "cell_type": "code",
   "execution_count": null,
   "metadata": {},
   "outputs": [],
   "source": [
    "struc_out = resample.resample_dataarray2d_to_structured_grid(struc2d, x=xmid, y=ymid,\n",
    "                                                           kind='cubic', fill_value=np.nan)\n",
    "\n",
    "# plot results\n",
    "fig, axes = plt.subplots(ncols=2, figsize=(12,6))\n",
    "struc2d.plot(ax=axes[0], edgecolor='k')\n",
    "axes[0].set_aspect('equal')\n",
    "axes[0].set_title('original grid')\n",
    "struc_out.plot(ax=axes[1], edgecolor='k')\n",
    "axes[1].set_aspect('equal')\n",
    "axes[1].set_title('resampled grid')"
   ]
  },
  {
   "cell_type": "markdown",
   "metadata": {},
   "source": [
    "### Cubic with nans in input"
   ]
  },
  {
   "cell_type": "code",
   "execution_count": null,
   "metadata": {},
   "outputs": [],
   "source": [
    "struc_out = resample.resample_dataarray2d_to_structured_grid(struc2d_nan, x=xmid, y=ymid,\n",
    "                                                           kind='cubic')\n",
    "\n",
    "# plot results\n",
    "fig, axes = plt.subplots(ncols=2, figsize=(12,6))\n",
    "struc2d_nan.plot(ax=axes[0], edgecolor='k')\n",
    "axes[0].set_aspect('equal')\n",
    "axes[0].set_title('original grid')\n",
    "struc_out.plot(ax=axes[1], edgecolor='k')\n",
    "axes[1].set_aspect('equal')\n",
    "axes[1].set_title('resampled grid')"
   ]
  },
  {
   "cell_type": "markdown",
   "metadata": {},
   "source": [
    "### Rectangular Bivariate Spline (not yet included in nlmod)"
   ]
  },
  {
   "cell_type": "code",
   "execution_count": null,
   "metadata": {},
   "outputs": [],
   "source": [
    "interp_spline = RectBivariateSpline(struc2d.x.values, struc2d.y.values[::-1], struc2d.values[::-1], \n",
    "                                    ky=min(3,len(struc2d.y)-1), \n",
    "                                    kx=min(3,len(struc2d.x)-1))\n",
    "arr_out = interp_spline(xmid, ymid[::-1], grid=True)[::-1]\n",
    "struc_out = xr.DataArray(arr_out, dims=('y', 'x'),\n",
    "                         coords={'x': xmid,\n",
    "                                 'y': ymid})\n",
    "\n",
    "# plot results\n",
    "fig, axes = plt.subplots(ncols=2, figsize=(12,6))\n",
    "struc2d.plot(ax=axes[0], edgecolor='k')\n",
    "axes[0].set_aspect('equal')\n",
    "axes[0].set_title('original grid')\n",
    "struc_out.plot(ax=axes[1], edgecolor='k', vmin=0)\n",
    "axes[1].set_aspect('equal')\n",
    "axes[1].set_title('resampled grid')"
   ]
  },
  {
   "cell_type": "markdown",
   "metadata": {},
   "source": [
    "### Rectangular Bivariate Spline with nans (not yet included in nlmod)"
   ]
  },
  {
   "cell_type": "code",
   "execution_count": null,
   "metadata": {},
   "outputs": [],
   "source": [
    "interp_spline = RectBivariateSpline(struc2d_nan.x.values, struc2d_nan.y.values[::-1], struc2d_nan.values[::-1], \n",
    "                                    ky=min(3,len(struc2d_nan.y)-1), \n",
    "                                    kx=min(3,len(struc2d_nan.x)-1))\n",
    "interp_spline = RectBivariateSpline(struc2d_nan.x.values, struc2d_nan.y.values[::-1], struc2d_nan.values[::-1], \n",
    "                                    ky=min(3,len(struc2d_nan.y)-1), \n",
    "                                    kx=min(3,len(struc2d_nan.x)-1))\n",
    "arr_out = interp_spline(xmid, ymid[::-1], grid=True)[::-1]\n",
    "struc_out = xr.DataArray(arr_out, dims=('y', 'x'),\n",
    "                         coords={'x': xmid,\n",
    "                                 'y': ymid})\n",
    "\n",
    "# plot results\n",
    "fig, axes = plt.subplots(ncols=2, figsize=(12,6))\n",
    "struc2d_nan.plot(ax=axes[0], edgecolor='k')\n",
    "axes[0].set_aspect('equal')\n",
    "axes[0].set_title('original grid')\n",
    "struc_out.plot(ax=axes[1], edgecolor='k')\n",
    "axes[1].set_aspect('equal')\n",
    "axes[1].set_title('resampled grid')"
   ]
  },
  {
   "cell_type": "markdown",
   "metadata": {},
   "source": [
    "## [3. Structured grid to locally refined grid](#TOC)<a name=\"3\"></a>\n",
    "\n"
   ]
  },
  {
   "cell_type": "markdown",
   "metadata": {},
   "source": [
    "#### Nearest"
   ]
  },
  {
   "cell_type": "code",
   "execution_count": null,
   "metadata": {},
   "outputs": [],
   "source": [
    "res_vertex2d_n = resample.resample_dataarray2d_to_vertex_grid(struc2d, x=xvc, y=yvc)"
   ]
  },
  {
   "cell_type": "code",
   "execution_count": null,
   "metadata": {},
   "outputs": [],
   "source": [
    "fig, axes = plt.subplots(ncols=2, figsize=(12,6))\n",
    "struc2d.plot(ax=axes[0], edgecolor='k')\n",
    "axes[0].set_aspect('equal')\n",
    "axes[0].set_title('structured grid')\n",
    "nlmod.visualise.plots.plot_vertex_array(res_vertex2d_n, vertices, ax=axes[1], gridkwargs={'edgecolor': 'k'})\n",
    "axes[1].set_title('locally refined grid')"
   ]
  },
  {
   "cell_type": "markdown",
   "metadata": {},
   "source": [
    "#### Linear"
   ]
  },
  {
   "cell_type": "code",
   "execution_count": null,
   "metadata": {},
   "outputs": [],
   "source": [
    "res_vertex2d_l = resample.resample_dataarray2d_to_vertex_grid(struc2d, x=xvc, y=yvc, method='linear')"
   ]
  },
  {
   "cell_type": "code",
   "execution_count": null,
   "metadata": {},
   "outputs": [],
   "source": [
    "fig, axes = plt.subplots(ncols=2, figsize=(12,6))\n",
    "struc2d.plot(ax=axes[0], edgecolor='k')\n",
    "axes[0].set_aspect('equal')\n",
    "axes[0].set_title('structured grid')\n",
    "nlmod.visualise.plots.plot_vertex_array(res_vertex2d_l, vertices, ax=axes[1], gridkwargs={'edgecolor': 'k'}, vmin=struc2d.min(), vmax=struc2d.max())\n",
    "axes[1].set_title('locally refined grid')"
   ]
  },
  {
   "cell_type": "markdown",
   "metadata": {},
   "source": [
    "#### Cubic"
   ]
  },
  {
   "cell_type": "code",
   "execution_count": null,
   "metadata": {},
   "outputs": [],
   "source": [
    "res_vertex2d_c = resample.resample_dataarray2d_to_vertex_grid(struc2d, x=xvc, y=yvc, method='cubic')"
   ]
  },
  {
   "cell_type": "code",
   "execution_count": null,
   "metadata": {},
   "outputs": [],
   "source": [
    "fig, axes = plt.subplots(ncols=2, figsize=(12,6))\n",
    "struc2d.plot(ax=axes[0], edgecolor='k')\n",
    "axes[0].set_aspect('equal')\n",
    "axes[0].set_title('structured grid')\n",
    "nlmod.visualise.plots.plot_vertex_array(res_vertex2d_c, vertices, ax=axes[1], gridkwargs={'edgecolor': 'k'}, vmin=struc2d.min(), vmax=struc2d.max())\n",
    "axes[1].set_title('locally refined grid')"
   ]
  },
  {
   "cell_type": "markdown",
   "metadata": {},
   "source": [
    "## [4. Locally refined grid to structured grid](#TOC)<a name=\"4\"></a>\n",
    "\n"
   ]
  },
  {
   "cell_type": "markdown",
   "metadata": {},
   "source": [
    "#### nearest"
   ]
  },
  {
   "cell_type": "code",
   "execution_count": null,
   "metadata": {},
   "outputs": [],
   "source": [
    "struc_out_n = resample.resample_vertex_2d_da_to_struc_2d_da(vertex1, x=xvc, y=yvc, cellsize=100,\n",
    "                                                            method='nearest')\n",
    "\n",
    "# plot\n",
    "fig, axes = plt.subplots(ncols=2, figsize=(12,6))\n",
    "nlmod.visualise.plots.plot_vertex_array(vertex1, vertices, ax=axes[0], gridkwargs={'edgecolor': 'k'})\n",
    "axes[0].set_title('original')\n",
    "struc_out_n.plot(ax=axes[1], edgecolor='k')\n",
    "axes[1].set_title('resampled')\n",
    "axes[1].set_aspect('equal')"
   ]
  },
  {
   "cell_type": "code",
   "execution_count": null,
   "metadata": {},
   "outputs": [],
   "source": [
    "struc_out_nan_n = resample.resample_vertex_2d_da_to_struc_2d_da(vertex1_nan, x=xvc, y=yvc, cellsize=100,\n",
    "                                                              method='nearest')\n",
    "\n",
    "# plot\n",
    "fig, axes = plt.subplots(ncols=2, figsize=(12,6))\n",
    "nlmod.visualise.plots.plot_vertex_array(vertex1_nan, vertices, ax=axes[0], gridkwargs={'edgecolor': 'k'},\n",
    "                              vmin=vertex1_nan.min(), vmax=vertex1_nan.max())\n",
    "axes[0].set_title('original')\n",
    "struc_out_nan_n.plot(ax=axes[1], edgecolor='k')\n",
    "axes[1].set_title('resampled')\n",
    "axes[1].set_aspect('equal')"
   ]
  },
  {
   "cell_type": "markdown",
   "metadata": {},
   "source": [
    "### linear"
   ]
  },
  {
   "cell_type": "code",
   "execution_count": null,
   "metadata": {},
   "outputs": [],
   "source": [
    "struc_out_l = resample.resample_vertex_2d_da_to_struc_2d_da(vertex1, x=xvc, y=yvc, cellsize=100,\n",
    "                                                            method='linear')\n",
    "\n",
    "# plot figure\n",
    "fig, axes = plt.subplots(ncols=2, figsize=(12,6))\n",
    "nlmod.visualise.plots.plot_vertex_array(vertex1, vertices, ax=axes[0], gridkwargs={'edgecolor': 'k'})\n",
    "axes[0].set_title('original')\n",
    "struc_out_l.plot(ax=axes[1], edgecolor='k')\n",
    "axes[1].set_title('resampled')\n",
    "axes[1].set_aspect('equal')"
   ]
  },
  {
   "cell_type": "code",
   "execution_count": null,
   "metadata": {},
   "outputs": [],
   "source": [
    "struc_out_l_nan = resample.resample_vertex_2d_da_to_struc_2d_da(vertex1_nan, x=xvc, y=yvc, cellsize=100,\n",
    "                                                                method='linear')\n",
    "\n",
    "# plot figure\n",
    "fig, axes = plt.subplots(ncols=2, figsize=(12,6))\n",
    "nlmod.visualise.plots.plot_vertex_array(vertex1_nan, vertices, ax=axes[0], gridkwargs={'edgecolor': 'k'},\n",
    "                              vmin=vertex1_nan.min(), vmax=vertex1_nan.max())\n",
    "axes[0].set_title('original')\n",
    "struc_out_l_nan.plot(ax=axes[1], edgecolor='k')\n",
    "axes[1].set_title('resampled')\n",
    "axes[1].set_aspect('equal')"
   ]
  },
  {
   "cell_type": "markdown",
   "metadata": {},
   "source": [
    "### cubic"
   ]
  },
  {
   "cell_type": "code",
   "execution_count": null,
   "metadata": {},
   "outputs": [],
   "source": [
    "struc_out_c = resample.resample_vertex_2d_da_to_struc_2d_da(vertex1, x=xvc, y=yvc, cellsize=100,\n",
    "                                                            method='cubic')\n",
    "\n",
    "# plot figure\n",
    "fig, axes = plt.subplots(ncols=2, figsize=(12,6))\n",
    "nlmod.visualise.plots.plot_vertex_array(vertex1, vertices, ax=axes[0], gridkwargs={'edgecolor': 'k'})\n",
    "axes[0].set_title('original')\n",
    "struc_out_c.plot(ax=axes[1], edgecolor='k')\n",
    "axes[1].set_title('resampled')\n",
    "axes[1].set_aspect('equal')"
   ]
  },
  {
   "cell_type": "code",
   "execution_count": null,
   "metadata": {},
   "outputs": [],
   "source": [
    "struc_out_c_nan = resample.resample_vertex_2d_da_to_struc_2d_da(vertex1_nan, x=xvc, y=yvc, cellsize=100,\n",
    "                                                                method='cubic')\n",
    "\n",
    "# plot figure\n",
    "fig, axes = plt.subplots(ncols=2, figsize=(12,6))\n",
    "nlmod.visualise.plots.plot_vertex_array(vertex1_nan, vertices, ax=axes[0], gridkwargs={'edgecolor': 'k'},\n",
    "                              vmin=vertex1_nan.min(), vmax=vertex1_nan.max())\n",
    "axes[0].set_title('original')\n",
    "struc_out_c_nan.plot(ax=axes[1], edgecolor='k')\n",
    "axes[1].set_title('resampled')\n",
    "axes[1].set_aspect('equal')"
   ]
  },
  {
   "cell_type": "markdown",
   "metadata": {},
   "source": [
    "## [5. Fill nan values](#TOC)<a name=\"5\"></a>\n",
    "\n"
   ]
  },
  {
   "cell_type": "markdown",
   "metadata": {},
   "source": [
    "## Structured grid"
   ]
  },
  {
   "cell_type": "markdown",
   "metadata": {},
   "source": [
    "### nearest"
   ]
  },
  {
   "cell_type": "code",
   "execution_count": null,
   "metadata": {},
   "outputs": [],
   "source": [
    "struc2d_nan_filled = resample.fillnan_dataarray_structured_grid(struc2d_nan, method='nearest')"
   ]
  },
  {
   "cell_type": "code",
   "execution_count": null,
   "metadata": {},
   "outputs": [],
   "source": [
    "# plot results\n",
    "fig, axes = plt.subplots(ncols=2, figsize=(12,6))\n",
    "struc2d_nan.plot(ax=axes[0], edgecolor='k')\n",
    "axes[0].set_aspect('equal')\n",
    "axes[0].set_title('original')\n",
    "struc2d_nan_filled.plot(ax=axes[1], edgecolor='k')\n",
    "axes[1].set_aspect('equal')\n",
    "axes[1].set_title('resampled')"
   ]
  },
  {
   "cell_type": "markdown",
   "metadata": {},
   "source": [
    "### linear"
   ]
  },
  {
   "cell_type": "code",
   "execution_count": null,
   "metadata": {},
   "outputs": [],
   "source": [
    "struc2d_nan_filled_lin = resample.fillnan_dataarray_structured_grid(struc2d_nan, method='linear')"
   ]
  },
  {
   "cell_type": "code",
   "execution_count": null,
   "metadata": {},
   "outputs": [],
   "source": [
    "# plot results\n",
    "fig, axes = plt.subplots(ncols=2, figsize=(12,6))\n",
    "struc2d_nan.plot(ax=axes[0], edgecolor='k')\n",
    "axes[0].set_aspect('equal')\n",
    "axes[0].set_title('original')\n",
    "struc2d_nan_filled_lin.plot(ax=axes[1], edgecolor='k')\n",
    "axes[1].set_aspect('equal')\n",
    "axes[1].set_title('resampled')"
   ]
  },
  {
   "cell_type": "markdown",
   "metadata": {},
   "source": [
    "## vertex grid"
   ]
  },
  {
   "cell_type": "markdown",
   "metadata": {},
   "source": [
    "### nearest"
   ]
  },
  {
   "cell_type": "code",
   "execution_count": null,
   "metadata": {},
   "outputs": [],
   "source": [
    "vertex1_nan_filled = resample.fillnan_dataarray_vertex_grid(vertex1_nan, x=xvc, y=yvc, method='nearest')"
   ]
  },
  {
   "cell_type": "code",
   "execution_count": null,
   "metadata": {},
   "outputs": [],
   "source": [
    "# plot results\n",
    "fig, axes = plt.subplots(ncols=2, figsize=(12,6))\n",
    "nlmod.visualise.plots.plot_vertex_array(vertex1_nan, vertices, ax=axes[0], gridkwargs={'edgecolor': 'k'},\n",
    "                                        vmin=vertex1_nan.min(), vmax=vertex1_nan.max());\n",
    "axes[0].set_aspect('equal')\n",
    "axes[0].set_title('original')\n",
    "nlmod.visualise.plots.plot_vertex_array(vertex1_nan_filled, vertices, ax=axes[1], gridkwargs={'edgecolor': 'k'})\n",
    "axes[1].set_title('resampled')"
   ]
  },
  {
   "cell_type": "markdown",
   "metadata": {},
   "source": [
    "### linear"
   ]
  },
  {
   "cell_type": "code",
   "execution_count": null,
   "metadata": {},
   "outputs": [],
   "source": [
    "vertex1_nan_filled_lin = resample.fillnan_dataarray_vertex_grid(vertex1_nan, x=xvc, y=yvc, method='linear')"
   ]
  },
  {
   "cell_type": "code",
   "execution_count": null,
   "metadata": {},
   "outputs": [],
   "source": [
    "# plot results\n",
    "fig, axes = plt.subplots(ncols=2, figsize=(12,6))\n",
    "nlmod.visualise.plots.plot_vertex_array(vertex1_nan, vertices, ax=axes[0], gridkwargs={'edgecolor': 'k'},\n",
    "                                        vmin=vertex1_nan.min(), vmax=vertex1_nan.max());\n",
    "axes[0].set_aspect('equal')\n",
    "axes[0].set_title('original')\n",
    "nlmod.visualise.plots.plot_vertex_array(vertex1_nan_filled_lin, vertices, ax=axes[1], gridkwargs={'edgecolor': 'k'})\n",
    "axes[1].set_title('resampled')"
   ]
  },
  {
   "cell_type": "markdown",
   "metadata": {},
   "source": [
    "## [6. Vector to grid](#TOC)<a name=\"5\"></a>\n",
    "\n",
    "Vector data can be points, lines or polygons often saved as shapefiles and visualised using GIS software. A common operation is to project vector data on a modelgrid. For example to add a surface water line to a grid. Here are some functions in `nlmod` to project vector data on a modelgrid."
   ]
  },
  {
   "cell_type": "markdown",
   "metadata": {},
   "source": [
    "Vector data:\n",
    "    - point\n",
    "    - line\n",
    "    - polygon\n",
    "\n",
    "Vector data -> vector data per cell -> aggregeren per cell -> in het grid zetten"
   ]
  },
  {
   "cell_type": "code",
   "execution_count": null,
   "metadata": {},
   "outputs": [],
   "source": [
    "point_geom = [Point(x,y) for x, y in zip([1000, 1200, 1225, 1300],[20200, 20175, 20175, 20425])]\n",
    "point_gdf = gpd.GeoDataFrame({'values':[1,52,66,24]}, geometry=point_geom)\n",
    "line_geom = [LineString([point_geom[0], point_geom[1]]), LineString([point_geom[2], point_geom[3]]), LineString([point_geom[0], point_geom[3]])]\n",
    "line_gdf = gpd.GeoDataFrame({'values':[1,52,66]}, geometry=line_geom)\n",
    "pol_geom = [shp_polygon([point_geom[0], point_geom[1], point_geom[2], point_geom[3], point_geom[0]]),\n",
    "            shp_polygon([point_geom[0], point_geom[1], point_geom[2], Point(1200,20300), point_geom[0]])]\n",
    "pol_gdf = gpd.GeoDataFrame({'values':[166, 5]}, geometry=pol_geom)\n"
   ]
  },
  {
   "cell_type": "code",
   "execution_count": null,
   "metadata": {},
   "outputs": [],
   "source": [
    "fig, ax = plt.subplots()\n",
    "struc2d.plot(ax=ax, lw=0.1, edgecolor='k', alpha=0.5)\n",
    "point_gdf.plot(ax=ax, color='green')\n",
    "line_gdf.plot(ax=ax, color='purple')\n",
    "pol_gdf.plot(ax=ax, alpha=0.6)\n",
    "\n",
    "ax.set_xlim(ax.get_xlim()[0], 1400)\n",
    "ax.set_ylim(ax.get_ylim()[0], 20500)"
   ]
  },
  {
   "cell_type": "markdown",
   "metadata": {},
   "source": [
    "## Points"
   ]
  },
  {
   "cell_type": "code",
   "execution_count": null,
   "metadata": {},
   "outputs": [],
   "source": [
    "sim = flopy.mf6.MFSimulation()\n",
    "gwf = flopy.mf6.MFModel(sim)\n",
    "dis = flopy.mf6.ModflowGwfdis(gwf, nlay=1, nrow=3, ncol=3, delr=100, delc=100, xorigin=950,yorigin=20050)"
   ]
  },
  {
   "cell_type": "markdown",
   "metadata": {},
   "source": [
    "### Aggregation methods"
   ]
  },
  {
   "cell_type": "code",
   "execution_count": null,
   "metadata": {},
   "outputs": [],
   "source": [
    "da = nlmod.mdims.gdf2data_array_struc(point_gdf, gwf, field='values', agg_method='max')\n",
    "da.plot()"
   ]
  },
  {
   "cell_type": "code",
   "execution_count": null,
   "metadata": {},
   "outputs": [],
   "source": [
    "da = nlmod.mdims.gdf2data_array_struc(point_gdf, gwf, field='values', agg_method='mean')\n",
    "da.plot()"
   ]
  },
  {
   "cell_type": "code",
   "execution_count": null,
   "metadata": {},
   "outputs": [],
   "source": [
    "da = nlmod.mdims.gdf2data_array_struc(point_gdf, gwf, field='values', agg_method='nearest')\n",
    "da.plot()"
   ]
  },
  {
   "cell_type": "markdown",
   "metadata": {},
   "source": [
    "### Interpolation methods"
   ]
  },
  {
   "cell_type": "code",
   "execution_count": null,
   "metadata": {},
   "outputs": [],
   "source": [
    "da = nlmod.mdims.gdf2data_array_struc(point_gdf, gwf, field='values', interp_method='nearest')\n",
    "da.plot()"
   ]
  },
  {
   "cell_type": "code",
   "execution_count": null,
   "metadata": {},
   "outputs": [],
   "source": [
    "da = nlmod.mdims.gdf2data_array_struc(point_gdf, gwf, field='values', interp_method='linear')\n",
    "da.plot()"
   ]
  },
  {
   "cell_type": "markdown",
   "metadata": {},
   "source": [
    "## Lines"
   ]
  },
  {
   "cell_type": "code",
   "execution_count": null,
   "metadata": {},
   "outputs": [],
   "source": [
    "da = nlmod.mdims.gdf2data_array_struc(line_gdf, gwf, field='values', agg_method='max_length')\n",
    "da.plot()"
   ]
  },
  {
   "cell_type": "code",
   "execution_count": null,
   "metadata": {},
   "outputs": [],
   "source": [
    "da = nlmod.mdims.gdf2data_array_struc(line_gdf, gwf, field='values', agg_method='length_weighted')\n",
    "da.plot()"
   ]
  },
  {
   "cell_type": "code",
   "execution_count": null,
   "metadata": {},
   "outputs": [],
   "source": [
    "da = nlmod.mdims.gdf2data_array_struc(line_gdf, gwf, field='values', agg_method='nearest')\n",
    "da.plot()"
   ]
  },
  {
   "cell_type": "markdown",
   "metadata": {},
   "source": [
    "## Polygons"
   ]
  },
  {
   "cell_type": "code",
   "execution_count": null,
   "metadata": {},
   "outputs": [],
   "source": [
    "da = nlmod.mdims.gdf2data_array_struc(pol_gdf, gwf, field='values', agg_method='max_area')\n",
    "da.plot()"
   ]
  },
  {
   "cell_type": "code",
   "execution_count": null,
   "metadata": {},
   "outputs": [],
   "source": [
    "da = nlmod.mdims.gdf2data_array_struc(pol_gdf, gwf, field='values', agg_method='area_weighted')\n",
    "da.plot()"
   ]
  },
  {
   "cell_type": "code",
   "execution_count": null,
   "metadata": {},
   "outputs": [],
   "source": [
    "da = nlmod.mdims.gdf2data_array_struc(pol_gdf, gwf, field='values', agg_method='nearest')\n",
    "da.plot()"
   ]
  },
  {
   "cell_type": "markdown",
   "metadata": {},
   "source": [
    "## Intersect vector data with grid"
   ]
  },
  {
   "cell_type": "code",
   "execution_count": null,
   "metadata": {},
   "outputs": [],
   "source": [
    "gdf_point_grid = nlmod.mdims.gdf2grid(point_gdf, gwf)\n",
    "gdf_line_grid = nlmod.mdims.gdf2grid(line_gdf, gwf)\n",
    "gdf_pol_grid = nlmod.mdims.gdf2grid(pol_gdf, gwf)"
   ]
  },
  {
   "cell_type": "code",
   "execution_count": null,
   "metadata": {},
   "outputs": [],
   "source": [
    "fig, ax = plt.subplots()\n",
    "\n",
    "gdf_point_grid.plot(ax=ax, color='green')\n",
    "gdf_line_grid['ind'] = range(gdf_line_grid.shape[0])\n",
    "gdf_line_grid.plot('ind', ax=ax, cmap='jet')\n",
    "gdf_pol_grid['ind'] = range(gdf_pol_grid.shape[0])\n",
    "gdf_pol_grid.plot('ind',ax=ax, alpha=0.6)\n",
    "\n",
    "struc2d.plot(ax=ax, facecolor='none', edgecolor='k')\n",
    "ax.set_xlim(ax.get_xlim()[0], 1300)"
   ]
  },
  {
   "cell_type": "markdown",
   "metadata": {},
   "source": [
    "## Aggregate parameters per model cell\n",
    "\n",
    "Aggregatie options:\n",
    "- point: max, min, mean\n",
    "- line: max, min, length_weighted, max_length\n",
    "- polygon: max, min, area_weighted, area_max\n"
   ]
  },
  {
   "cell_type": "code",
   "execution_count": null,
   "metadata": {},
   "outputs": [],
   "source": [
    "# point\n",
    "display(gdf_point_grid)\n",
    "nlmod.mdims.aggregate_vector_per_cell(gdf_point_grid,{'values':'max'})"
   ]
  },
  {
   "cell_type": "code",
   "execution_count": null,
   "metadata": {},
   "outputs": [],
   "source": [
    "# line\n",
    "display(gdf_line_grid)\n",
    "nlmod.mdims.aggregate_vector_per_cell(gdf_line_grid,{'values':'length_weighted'})"
   ]
  },
  {
   "cell_type": "code",
   "execution_count": null,
   "metadata": {},
   "outputs": [],
   "source": [
    "# polygon\n",
    "display(gdf_pol_grid)\n",
    "nlmod.mdims.aggregate_vector_per_cell(gdf_pol_grid,{'values':'area_weighted'})"
   ]
  }
 ],
 "metadata": {
  "CodeCell": {
   "cm_config": {
    "lineWrapping": true
   }
  },
  "MarkdownCell": {
   "cm_config": {
    "lineWrapping": true
   }
  },
  "anaconda-cloud": {},
  "kernelspec": {
   "display_name": "Python 3 (ipykernel)",
   "language": "python",
   "name": "python3"
  },
  "language_info": {
   "codemirror_mode": {
    "name": "ipython",
    "version": 3
   },
   "file_extension": ".py",
   "mimetype": "text/x-python",
   "name": "python",
   "nbconvert_exporter": "python",
   "pygments_lexer": "ipython3",
   "version": "3.9.7"
  },
  "widgets": {
   "state": {},
   "version": "1.1.2"
  }
 },
 "nbformat": 4,
 "nbformat_minor": 4
}
