{
 "cells": [
  {
   "cell_type": "markdown",
   "metadata": {},
   "source": [
    "<IMG SRC=\"https://avatars2.githubusercontent.com/u/31697400?s=400&u=a5a6fc31ec93c07853dd53835936fd90c44f7483&v=4\" WIDTH=125 ALIGN=\"right\">\n",
    "\n",
    "\n",
    "# NLmod examples  \n",
    "\n",
    "This example notebook shows a basic example of a model created with the `nlmod` package. The `nlmod` package contains functions to create modflow models anywhere in the Netherlands."
   ]
  },
  {
   "cell_type": "markdown",
   "metadata": {},
   "source": [
    "### Contents<a name=\"TOC\"></a>\n",
    "1. [Create model](#create)\n",
    "2. [Run model](#run)\n",
    "3. [Visualise](#visualise)"
   ]
  },
  {
   "cell_type": "code",
   "execution_count": null,
   "metadata": {},
   "outputs": [],
   "source": [
    "import matplotlib.pyplot as plt\n",
    "import flopy\n",
    "import os\n",
    "import geopandas as gpd\n",
    "\n",
    "import nlmod\n",
    "\n",
    "import logging"
   ]
  },
  {
   "cell_type": "code",
   "execution_count": null,
   "metadata": {},
   "outputs": [],
   "source": [
    "print(f'nlmod version: {nlmod.__version__}')\n",
    "\n",
    "# toon informatie bij het aanroepen van functies\n",
    "logging.basicConfig(level=logging.INFO)"
   ]
  },
  {
   "cell_type": "markdown",
   "metadata": {},
   "source": [
    "### [1. Create model](#TOC)<a name=\"create\"></a>\n",
    "\n",
    "With the code below we create a modflow model with the name 'IJmuiden'. This model has the following properties :\n",
    "- an extent that covers part of the Northsea, Noordzeekanaal and the small port city IJmuiden.\n",
    "- a structured grid based on the subsurface models [Regis](https://www.dinoloket.nl/regis-ii-het-hydrogeologische-model) and [Geotop](https://www.dinoloket.nl/detaillering-van-de-bovenste-lagen-met-geotop). The Regis layers that are not present within the extent are removed. In this case we use b'MSz1' as the bottom layer of the model. Use `nlmod.regis.get_layer_names()` to get all the layer names of Regis. All Regis layers below this layer are not used in the model. Geotop is used to replace the holoceen layer in Regis because there is no kh or kv defined for the holoceen in Regis. Part of the model is in the North sea. Regis and Geotop have no data there. Therefore the Regis and Geotop layers are extrapolated from the shore and the seabed is added using bathymetry data from [Jarkus](https://www.openearth.nl/rws-bathymetry/2018.html).\n",
    "- starting heads of 1 in every cell.\n",
    "- the model is a steady state model of a single time step.\n",
    "- big surface water bodies (Northsea, IJsselmeer, Markermeer, Noordzeekanaal) within the extent are added as a general head boundary. The surface water bodies are obtained from a [shapefile](..\\data\\opp_water.shp).\n",
    "- surface drainage is added using [ahn](https://www.ahn.nl) data and a default conductance of $1000 m^2/d$\n",
    "- recharge is added using data from the [knmi](https://www.knmi.nl/nederland-nu/klimatologie/daggegevens) using the following steps:~~\n",
    "    1. Check for each cell which KNMI weather and/or rainfall station is closest.\n",
    "    2. Download the data for the stations found in 1. for the model period. For a steady state stress period the average precipitation and evaporation of 8 years before the stress period time is used.\n",
    "    3. Combine precipitation and evaporation data from step 2 to create a recharge time series for each cell\n",
    "    4. Add the timeseries to the model dataset and create the recharge package.\n",
    "- constant head boundaries are added to the model edges in every layer. The starting head is used as constant head."
   ]
  },
  {
   "cell_type": "code",
   "execution_count": null,
   "metadata": {},
   "outputs": [],
   "source": [
    "# model settings\n",
    "model_ws = 'model1'\n",
    "model_name = 'IJmuiden'\n",
    "extent = [95000., 105000., 494000., 500000.]\n",
    "delr = 100.\n",
    "delc = 100.\n",
    "steady_state = True\n",
    "start_time = '2015-1-1'\n",
    "gridtype = 'structured'\n",
    "use_regis = True\n",
    "regis_botm_layer = b'MSz1'\n",
    "use_geotop = True\n",
    "add_northsea = True\n",
    "starting_head = 1.0"
   ]
  },
  {
   "cell_type": "code",
   "execution_count": null,
   "metadata": {},
   "outputs": [],
   "source": [
    "# create empty model dataset\n",
    "model_ds = nlmod.mdims.get_empty_model_ds(model_name, model_ws)\n",
    "\n",
    "# add time discretisation\n",
    "model_ds = nlmod.mdims.set_model_ds_time(model_ds,\n",
    "                                         start_time=start_time,\n",
    "                                         steady_state=steady_state, perlen=365*5)\n",
    "\n",
    "# add spatial discretisation\n",
    "extent, nrow, ncol = nlmod.read.regis.fit_extent_to_regis(extent,\n",
    "                                                          delr,\n",
    "                                                          delc)\n",
    "\n",
    "# layer model\n",
    "layer_model = nlmod.read.regis.get_combined_layer_models(extent, delr, delc,\n",
    "                                                         use_regis=use_regis,\n",
    "                                                         regis_botm_layer=regis_botm_layer,\n",
    "                                                         use_geotop=use_geotop,\n",
    "                                                         cachedir=model_ds.cachedir,\n",
    "                                                         cachename='combined_layer_ds.nc')\n",
    "\n",
    "# create modflow packages\n",
    "sim, gwf = nlmod.mfpackages.sim_tdis_gwf_ims_from_model_ds(model_ds)"
   ]
  },
  {
   "cell_type": "code",
   "execution_count": null,
   "metadata": {},
   "outputs": [],
   "source": [
    "# update model_ds from layer model\n",
    "model_ds = nlmod.mdims.update_model_ds_from_ml_layer_ds(model_ds,\n",
    "                                                        layer_model,\n",
    "                                                        keep_vars=['x', 'y'],\n",
    "                                                        gridtype=gridtype,\n",
    "                                                        add_northsea=add_northsea,\n",
    "                                                        cachedir=model_ds.cachedir)\n",
    "\n",
    "# Create discretization\n",
    "nlmod.mfpackages.dis_from_model_ds(model_ds, gwf)\n",
    "\n",
    "# create node property flow\n",
    "nlmod.mfpackages.npf_from_model_ds(model_ds, gwf)\n",
    "\n",
    "# Create the initial conditions package\n",
    "nlmod.mfpackages.ic_from_model_ds(model_ds, gwf, starting_head=starting_head)\n",
    "\n",
    "# Create the output control package\n",
    "nlmod.mfpackages.oc_from_model_ds(model_ds, gwf);"
   ]
  },
  {
   "cell_type": "code",
   "execution_count": null,
   "metadata": {},
   "outputs": [],
   "source": [
    "# voeg grote oppervlaktewaterlichamen toe o.b.v. rws shape\n",
    "da_name = 'rws_oppwater'\n",
    "rws_ds = nlmod.read.rws.get_surface_water(model_ds,\n",
    "                                           da_name,\n",
    "                                           cachedir=model_ds.cachedir,\n",
    "                                           cachename=da_name)\n",
    "model_ds.update(rws_ds)\n",
    "ghb = nlmod.mfpackages.ghb_from_model_ds(model_ds, gwf, da_name)"
   ]
  },
  {
   "cell_type": "code",
   "execution_count": null,
   "metadata": {},
   "outputs": [],
   "source": [
    "# surface level drain\n",
    "ahn_ds = nlmod.read.ahn.get_ahn(model_ds, cachedir=model_ds.cachedir, cachename='ahn')\n",
    "model_ds.update(ahn_ds)\n",
    "\n",
    "drn = nlmod.mfpackages.surface_drain_from_model_ds(model_ds, gwf)\n",
    "\n",
    "\n",
    "# add constant head cells at model boundaries\n",
    "model_ds.update(nlmod.mfpackages.constant_head.get_chd_at_model_edge(model_ds, model_ds['idomain']))    \n",
    "chd = nlmod.mfpackages.chd_from_model_ds(model_ds, gwf, head='starting_head')"
   ]
  },
  {
   "cell_type": "code",
   "execution_count": null,
   "metadata": {},
   "outputs": [],
   "source": [
    "# add knmi recharge to the model datasets\n",
    "knmi_ds = nlmod.read.knmi.get_recharge(model_ds, cachedir=model_ds.cachedir, cachename='recharge')\n",
    "model_ds.update(knmi_ds)\n",
    "\n",
    "# create recharge package\n",
    "rch = nlmod.mfpackages.rch_from_model_ds(model_ds, gwf)"
   ]
  },
  {
   "cell_type": "markdown",
   "metadata": {},
   "source": [
    "A big part of the model data is stored in the variable `model_ds` which is an `xarray.Dataset`. The data is shown below."
   ]
  },
  {
   "cell_type": "code",
   "execution_count": null,
   "metadata": {},
   "outputs": [],
   "source": [
    "model_ds"
   ]
  },
  {
   "cell_type": "markdown",
   "metadata": {},
   "source": [
    "### [2. Write and Run](#TOC)<a name=\"run\"></a>\n",
    "Now that we've created all the modflow packages we need to write them to modflow files. You always have to write the modflow data to the model workspace before you can run the model. You can write the model files and run the model using the function `nlmod.util.write_and_run_model()` as shown below. This function has two additional options:\n",
    "1. Write the model dataset to the disk if `write_model_ds` is `True`. This makes it easier and faster to load model data if you ever need it. \n",
    "2. Write a copy of this Jupyter Notebook to the same directory as the modflow files if `nb_path` is the name of this Jupyter Notebook. It can be useful to have a copy of the script that created the modflow files, together with the files. "
   ]
  },
  {
   "cell_type": "code",
   "execution_count": null,
   "metadata": {},
   "outputs": [],
   "source": [
    "nlmod.util.write_and_run_model(gwf, model_ds, write_model_ds=True, nb_path='01_basic_model.ipynb')"
   ]
  },
  {
   "cell_type": "markdown",
   "metadata": {},
   "source": [
    "### [3. Visualise](#TOC)<a name=\"visualise\"></a>\n",
    "\n",
    "Using the `model_ds` and `gwf` variables it is quite easy to visualise model data. Below the modelgrid together with the surface water is shown."
   ]
  },
  {
   "cell_type": "code",
   "execution_count": null,
   "metadata": {},
   "outputs": [],
   "source": [
    "ax = nlmod.visualise.plots.plot_modelgrid(model_ds, gwf)\n",
    "ax.figure.savefig(os.path.join(model_ds.figdir, 'mgrid_swater.png'), bbox_inches='tight')"
   ]
  },
  {
   "cell_type": "markdown",
   "metadata": {},
   "source": [
    "Data from a model with a structured grid can be easily visualised using the model dataset. Below some examples"
   ]
  },
  {
   "cell_type": "code",
   "execution_count": null,
   "metadata": {},
   "outputs": [],
   "source": [
    "fig, axes = plt.subplots(nrows=2, ncols=2, figsize=(14, 11))\n",
    "model_ds['ahn'].plot(ax=axes[0][0])\n",
    "model_ds['bot'][0].plot(ax=axes[0][1])\n",
    "model_ds['idomain'][0].plot(ax=axes[1][0])\n",
    "model_ds['chd'][0].plot(ax=axes[1][1])\n",
    "for axes1 in axes:\n",
    "    for ax in axes1:\n",
    "        ax.axis('scaled')\n",
    "\n",
    "fig.savefig(os.path.join(model_ds.figdir, 'ahn_bot_idom_chd.png'), bbox_inches='tight')\n",
    "\n",
    "fig, axes = plt.subplots(nrows=2, ncols=2, figsize=(14, 11))\n",
    "model_ds['bathymetry'].plot(ax=axes[0][0])\n",
    "model_ds['northsea'].plot(ax=axes[0][1])\n",
    "model_ds['kh'][1].plot(ax=axes[1][0])\n",
    "model_ds['recharge'].plot(ax=axes[1][1])\n",
    "\n",
    "for axes1 in axes:\n",
    "    for ax in axes1:\n",
    "        ax.axis('scaled')\n",
    "fig.savefig(os.path.join(model_ds.figdir, 'bath_nsea_kh_top.png'), bbox_inches='tight')"
   ]
  }
 ],
 "metadata": {
  "CodeCell": {
   "cm_config": {
    "lineWrapping": true
   }
  },
  "MarkdownCell": {
   "cm_config": {
    "lineWrapping": true
   }
  },
  "anaconda-cloud": {},
  "kernelspec": {
   "display_name": "Python 3",
   "language": "python",
   "name": "python3"
  },
  "language_info": {
   "codemirror_mode": {
    "name": "ipython",
    "version": 3
   },
   "file_extension": ".py",
   "mimetype": "text/x-python",
   "name": "python",
   "nbconvert_exporter": "python",
   "pygments_lexer": "ipython3",
   "version": "3.9.4"
  },
  "widgets": {
   "state": {},
   "version": "1.1.2"
  }
 },
 "nbformat": 4,
 "nbformat_minor": 4
}
