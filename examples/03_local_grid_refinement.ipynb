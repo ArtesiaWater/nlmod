{
 "cells": [
  {
   "cell_type": "markdown",
   "metadata": {},
   "source": [
    "<IMG SRC=\"https://avatars2.githubusercontent.com/u/31697400?s=400&u=a5a6fc31ec93c07853dd53835936fd90c44f7483&v=4\" WIDTH=125 ALIGN=\"right\">\n",
    "\n",
    "    \n",
    "# Local grid refinement   \n",
    "\n",
    "*O.N. Ebbens, Artesia, 2021*\n",
    "\n",
    "This notebook shows an example of a vertex model create with the `nlmod` package."
   ]
  },
  {
   "cell_type": "markdown",
   "metadata": {},
   "source": [
    "### Contents<a name=\"TOC\"></a>\n",
    "1. [Create model](#create)\n",
    "2. [Local grid refinement](#lgr)\n",
    "3. [Run Model](#run)\n",
    "3. [Visualise](#Visualise)"
   ]
  },
  {
   "cell_type": "code",
   "execution_count": null,
   "metadata": {},
   "outputs": [],
   "source": [
    "import matplotlib.pyplot as plt\n",
    "import flopy\n",
    "import os\n",
    "import geopandas as gpd\n",
    "import logging\n",
    "\n",
    "import nlmod"
   ]
  },
  {
   "cell_type": "code",
   "execution_count": null,
   "metadata": {},
   "outputs": [],
   "source": [
    "print(f'nlmod version: {nlmod.__version__}')\n",
    "\n",
    "# toon informatie bij het aanroepen van functies\n",
    "logging.basicConfig(level=logging.INFO)"
   ]
  },
  {
   "cell_type": "markdown",
   "metadata": {},
   "source": [
    "### [1. Create model](#TOC)<a name=\"create\"></a>\n",
    "\n",
    "Modflow 6 makes it possible to use locally refined grids. In NLmod you can use a shapefile and a number of levels to specify where and how much you want to use local grid refinement. Below we use a shapefile of the Planetenweg in IJmuiden and set the refinement levels at 2. This well create a grid with cells of 100x100m except at the Planetenweg where the cells will be refined to 25x25m. See also figures below."
   ]
  },
  {
   "cell_type": "code",
   "execution_count": null,
   "metadata": {},
   "outputs": [],
   "source": [
    "# model settings vertex\n",
    "model_ws = 'model3'\n",
    "model_name = 'IJm_planeten'\n",
    "figdir, cachedir = nlmod.util.get_model_dirs(model_ws)\n",
    "refine_shp_fname = os.path.join(\n",
    "    nlmod.NLMOD_DATADIR, 'shapes', 'planetenweg_ijmuiden')\n",
    "levels = 2\n",
    "extent = [95000., 105000., 494000., 500000.]\n",
    "delr = 100.\n",
    "delc = 100.\n",
    "steady_state = False\n",
    "steady_start = True\n",
    "transient_timesteps = 5\n",
    "perlen = 1.\n",
    "start_time = '2015-1-1'\n",
    "gridtype = 'vertex'\n",
    "use_regis = True\n",
    "regis_botm_layer = 'MSz1'\n",
    "use_geotop = True\n",
    "add_northsea = True\n",
    "starting_head = 1.0"
   ]
  },
  {
   "cell_type": "code",
   "execution_count": null,
   "metadata": {},
   "outputs": [],
   "source": [
    "# create a model ds by changing grid of layer_model\n",
    "model_ds = nlmod.read.regis.to_model_ds(layer_model, model_name, model_ws, delr=delr, delc=delc)\n",
    "\n",
    "# add time discretisation\n",
    "model_ds = nlmod.mdims.set_model_ds_time(model_ds,\n",
    "                                         start_time=start_time,\n",
    "                                         steady_state=steady_state,\n",
    "                                         steady_start=steady_start,\n",
    "                                         transient_timesteps=transient_timesteps,\n",
    "                                         perlen=perlen)\n"
   ]
  },
  {
   "cell_type": "markdown",
   "metadata": {},
   "source": [
    "### [2. Local grid refinement](#TOC)<a name=\"lgr\"></a>\n",
    "\n",
    "the code below applies a local grid refinement to the layer model. The local grid refinement is based on the shapefile 'planetenweg_ijmuiden.shp', which contains a line shape of the Planetenweg, and the levels, which is 2. This means that the model cells at the Planetenweg will get a size of 25 x 25m. "
   ]
  },
  {
   "cell_type": "code",
   "execution_count": null,
   "metadata": {},
   "outputs": [],
   "source": [
    "# use gridgen to create vertex grid\n",
    "model_ds = nlmod.mgrid.refine(model_ds, refinement_features=[(refine_shp_fname, 'line', levels)])\n",
    "\n",
    "if add_northsea:\n",
    "    model_ds = nlmod.mdims.add_northsea(model_ds)"
   ]
  },
  {
   "cell_type": "code",
   "execution_count": null,
   "metadata": {},
   "outputs": [],
   "source": [
    "# create modflow packages\n",
    "sim, gwf = nlmod.mfpackages.sim_tdis_gwf_ims_from_model_ds(model_ds)\n",
    "\n",
    "# Create discretization\n",
    "disv = nlmod.mfpackages.disv_from_model_ds(model_ds, gwf)"
   ]
  },
  {
   "cell_type": "code",
   "execution_count": null,
   "metadata": {
    "scrolled": true
   },
   "outputs": [],
   "source": [
    "# create node property flow\n",
    "nlmod.mfpackages.npf_from_model_ds(model_ds, gwf)\n",
    "\n",
    "# Create the initial conditions package\n",
    "nlmod.mfpackages.ic_from_model_ds(model_ds, gwf, starting_head=starting_head)\n",
    "\n",
    "# Create the output control package\n",
    "oc = nlmod.mfpackages.oc_from_model_ds(model_ds, gwf)"
   ]
  },
  {
   "cell_type": "code",
   "execution_count": null,
   "metadata": {},
   "outputs": [],
   "source": [
    "# voeg grote oppervlaktewaterlichamen toe\n",
    "da_name = 'rws_oppwater'\n",
    "rws_ds = nlmod.read.rws.get_surface_water(model_ds,\n",
    "                                          da_name,\n",
    "                                          cachedir=model_ds.cachedir,\n",
    "                                          cachename=da_name+'.nc')\n",
    "model_ds.update(rws_ds)\n",
    "ghb = nlmod.mfpackages.ghb_from_model_ds(model_ds, gwf, da_name)\n",
    "\n",
    "# surface level drain\n",
    "ahn_ds = nlmod.read.ahn.get_ahn(model_ds,\n",
    "                                cachedir=model_ds.cachedir,\n",
    "                                cachename='ahn.nc')\n",
    "model_ds.update(ahn_ds)\n",
    "\n",
    "drn = nlmod.mfpackages.surface_drain_from_model_ds(model_ds, gwf)\n",
    "\n",
    "\n",
    "# add constant head cells at model boundaries\n",
    "model_ds.update(nlmod.mfpackages.constant_head.get_chd_at_model_edge(model_ds, model_ds['idomain']))    \n",
    "chd = nlmod.mfpackages.chd_from_model_ds(model_ds, gwf, head='starting_head')"
   ]
  },
  {
   "cell_type": "code",
   "execution_count": null,
   "metadata": {},
   "outputs": [],
   "source": [
    "# add knmi recharge to the model datasets\n",
    "knmi_ds = nlmod.read.knmi.get_recharge(model_ds, cachedir=model_ds.cachedir, cachename='recharge')\n",
    "model_ds.update(knmi_ds)\n",
    "\n",
    "# create recharge package\n",
    "rch = nlmod.mfpackages.rch_from_model_ds(model_ds, gwf)"
   ]
  },
  {
   "cell_type": "code",
   "execution_count": null,
   "metadata": {},
   "outputs": [],
   "source": [
    "model_ds"
   ]
  },
  {
   "cell_type": "markdown",
   "metadata": {},
   "source": [
    "### [3. Write and Run](#TOC)<a name=\"run\"></a>\n"
   ]
  },
  {
   "cell_type": "code",
   "execution_count": null,
   "metadata": {},
   "outputs": [],
   "source": [
    "nlmod.util.write_and_run_model(gwf, model_ds, write_model_ds=True, nb_path='03_local_grid_refinement.ipynb')"
   ]
  },
  {
   "cell_type": "markdown",
   "metadata": {},
   "source": [
    "### [4. Visualise](#TOC)<a name=\"visualise\"></a>\n",
    "\n",
    "Using the `model_ds` and `gwf` variables it is quite easy to visualise model data. Below the modelgrid together with the surface water is shown."
   ]
  },
  {
   "cell_type": "code",
   "execution_count": null,
   "metadata": {},
   "outputs": [],
   "source": [
    "plan_weg_gdf = gpd.read_file(refine_shp_fname+'.shp')\n",
    "\n",
    "# plot modelgrid\n",
    "ax = nlmod.visualise.plots.plot_modelgrid(model_ds, gwf)\n",
    "plan_weg_gdf.plot(ax=ax, color='r', label='Planetenweg')\n",
    "ax.legend()\n",
    "ax.get_figure().savefig(os.path.join(model_ds.figdir, 'mgrid_swater.png'), bbox_inches='tight')\n",
    "\n",
    "# plot zoomed modelgrid\n",
    "ax = nlmod.visualise.plots.plot_modelgrid(model_ds, gwf)\n",
    "ax.set_title('Planetenweg')\n",
    "plan_weg_gdf.plot(ax=ax, color='r', label='Planetenweg')\n",
    "ax.set_xlim(100000, 103000)\n",
    "ax.set_ylim(495000, 497500)\n",
    "ax.legend()\n",
    "ax.get_figure().savefig(os.path.join(model_ds.figdir, 'Planetenweg.png'), bbox_inches='tight')"
   ]
  },
  {
   "cell_type": "markdown",
   "metadata": {},
   "source": [
    "The model dataset of a vertex model differs from a structured model dataset. The data is stored relative to the cell-id instead of the row and column number. Therefore the model dataset has the dimension cid instead of the dimensions x and y. "
   ]
  },
  {
   "cell_type": "code",
   "execution_count": null,
   "metadata": {},
   "outputs": [],
   "source": [
    "model_ds"
   ]
  },
  {
   "cell_type": "markdown",
   "metadata": {},
   "source": [
    "To plot the same rasters as for the previous model we can use the `nlmod.visualise.plots.plot_vertex_array()` function."
   ]
  },
  {
   "cell_type": "code",
   "execution_count": null,
   "metadata": {},
   "outputs": [],
   "source": [
    "model_ds['vertices'] = nlmod.mdims.get_vertices(model_ds)\n",
    "\n",
    "fig, axes = plt.subplots(nrows=2, ncols=2, figsize=(14, 11))\n",
    "nlmod.visualise.plots.plot_vertex_array(model_ds['ahn'], model_ds['vertices'], ax=axes[0][0])\n",
    "nlmod.visualise.plots.plot_vertex_array(model_ds['botm'][0], model_ds['vertices'], ax=axes[0][1])\n",
    "nlmod.visualise.plots.plot_vertex_array(model_ds['idomain'][0], model_ds['vertices'], ax=axes[1][0])\n",
    "nlmod.visualise.plots.plot_vertex_array(model_ds['chd'][0], model_ds['vertices'], ax=axes[1][1])\n",
    "for axes1 in axes:\n",
    "    for ax in axes1:\n",
    "        ax.axis('scaled')\n",
    "\n",
    "fig.savefig(os.path.join(model_ds.figdir, 'ahn_bot_idom_chd.png'), bbox_inches='tight')\n",
    "\n",
    "fig, axes = plt.subplots(nrows=2, ncols=2, figsize=(14, 11))\n",
    "nlmod.visualise.plots.plot_vertex_array(model_ds['bathymetry'], model_ds['vertices'], ax=axes[0][0])\n",
    "nlmod.visualise.plots.plot_vertex_array(model_ds['northsea'], model_ds['vertices'], ax=axes[0][1])\n",
    "nlmod.visualise.plots.plot_vertex_array(model_ds['kh'][1], model_ds['vertices'], ax=axes[1][0])\n",
    "nlmod.visualise.plots.plot_vertex_array(model_ds['recharge'][:, 0], model_ds['vertices'], ax=axes[1][1])\n",
    "\n",
    "for axes1 in axes:\n",
    "    for ax in axes1:\n",
    "        ax.axis('scaled')\n",
    "fig.savefig(os.path.join(model_ds.figdir, 'bath_nsea_kh_rch.png'), bbox_inches='tight')"
   ]
  },
  {
   "cell_type": "code",
   "execution_count": null,
   "metadata": {},
   "outputs": [],
   "source": [
    "model_ds"
   ]
  },
  {
   "cell_type": "markdown",
   "metadata": {},
   "source": [
    "We can save the entire model as a UGRID NetCDF-file. This can be opened in qgis, as a 'Mesh Layer'. For more information see https://docs.qgis.org/3.16/en/docs/user_manual/working_with_mesh/mesh_properties.html"
   ]
  },
  {
   "cell_type": "code",
   "execution_count": null,
   "metadata": {},
   "outputs": [],
   "source": [
    "fname = os.path.join(model_ds.figdir, 'results.nc')\n",
    "nlmod.visualise.gis.model_dataset_to_ugrid_nc_file(model_ds, fname)"
   ]
  },
  {
   "cell_type": "code",
   "execution_count": null,
   "metadata": {},
   "outputs": [],
   "source": []
  }
 ],
 "metadata": {
  "CodeCell": {
   "cm_config": {
    "lineWrapping": true
   }
  },
  "MarkdownCell": {
   "cm_config": {
    "lineWrapping": true
   }
  },
  "anaconda-cloud": {},
  "kernelspec": {
   "display_name": "Python 3 (ipykernel)",
   "language": "python",
   "name": "python3"
  },
  "language_info": {
   "codemirror_mode": {
    "name": "ipython",
    "version": 3
   },
   "file_extension": ".py",
   "mimetype": "text/x-python",
   "name": "python",
   "nbconvert_exporter": "python",
   "pygments_lexer": "ipython3",
   "version": "3.9.7"
  },
  "widgets": {
   "state": {},
   "version": "1.1.2"
  }
 },
 "nbformat": 4,
 "nbformat_minor": 4
}
