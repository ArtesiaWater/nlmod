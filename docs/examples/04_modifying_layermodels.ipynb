{
 "cells": [
  {
   "cell_type": "markdown",
   "metadata": {},
   "source": [
    "<img SRC=\"https://avatars2.githubusercontent.com/u/31697400?s=400&u=a5a6fc31ec93c07853dd53835936fd90c44f7483&v=4\" WIDTH=125 ALIGN=\"right\">\n",
    "\n",
    "# Combining and splitting model layers\n",
    "\n",
    "*D.A. Brakenhoff, Artesia, 2021*\n",
    "\n",
    "This notebook shows methods for combining layers and splitting layers for MODFLOW models. Multiple layers can be combined into one layer or one layer can be split into sub-layers based on a fraction of the original thickness.\n",
    "\n",
    "\n",
    "### Contents<a name=\"TOC\"></a>\n",
    "1. [Get data](#getdata)\n",
    "2. [Split layers](#splitlayers)\n",
    "3. [Combine layers](#combinelayers)"
   ]
  },
  {
   "cell_type": "code",
   "execution_count": null,
   "metadata": {},
   "outputs": [],
   "source": [
    "import logging\n",
    "\n",
    "import matplotlib.pyplot as plt\n",
    "import nlmod\n",
    "import numpy as np\n",
    "import pandas as pd\n",
    "from nlmod.visualise.netcdf import DatasetCrossSection\n",
    "from shapely.geometry import LineString\n"
   ]
  },
  {
   "cell_type": "code",
   "execution_count": null,
   "metadata": {},
   "outputs": [],
   "source": [
    "print(f'nlmod version: {nlmod.__version__}')\n",
    "\n",
    "# toon informatie bij het aanroepen van functies\n",
    "logging.basicConfig(level=logging.INFO)"
   ]
  },
  {
   "cell_type": "markdown",
   "metadata": {},
   "source": [
    "## [1. Get data](#TOC)<a name=\"getdata\"></a>\n",
    "\n",
    "Define an extent to obtain REGIS"
   ]
  },
  {
   "cell_type": "code",
   "execution_count": null,
   "metadata": {},
   "outputs": [],
   "source": [
    "extent = [131000, 136800, 471500, 475700]"
   ]
  },
  {
   "cell_type": "markdown",
   "metadata": {},
   "source": [
    "Download and cache REGIS netCDF."
   ]
  },
  {
   "cell_type": "code",
   "execution_count": null,
   "metadata": {},
   "outputs": [],
   "source": [
    "ds = nlmod.read.regis.get_regis(extent)"
   ]
  },
  {
   "cell_type": "markdown",
   "metadata": {},
   "source": [
    "Drop all non-existent layers in our area of interest."
   ]
  },
  {
   "cell_type": "code",
   "execution_count": null,
   "metadata": {},
   "outputs": [],
   "source": [
    "ds = nlmod.mgrid.set_idomain(ds, remove_nan_layers=True)"
   ]
  },
  {
   "cell_type": "markdown",
   "metadata": {},
   "source": [
    "Let's take a look at the dataset"
   ]
  },
  {
   "cell_type": "code",
   "execution_count": null,
   "metadata": {},
   "outputs": [],
   "source": [
    "ds"
   ]
  },
  {
   "cell_type": "markdown",
   "metadata": {},
   "source": [
    "Define an line to draw a cross-section"
   ]
  },
  {
   "cell_type": "code",
   "execution_count": null,
   "metadata": {},
   "outputs": [],
   "source": [
    "# diagonal line through extent\n",
    "line = LineString([(extent[0], extent[2]), (extent[1], extent[3])])"
   ]
  },
  {
   "cell_type": "markdown",
   "metadata": {},
   "source": [
    "Get colors for our cross-section plot."
   ]
  },
  {
   "cell_type": "code",
   "execution_count": null,
   "metadata": {},
   "outputs": [],
   "source": [
    "colors = nlmod.read.regis.get_legend()"
   ]
  },
  {
   "cell_type": "markdown",
   "metadata": {},
   "source": [
    "Draw the cross-section for REGIS"
   ]
  },
  {
   "cell_type": "code",
   "execution_count": null,
   "metadata": {},
   "outputs": [],
   "source": [
    "fig, ax = plt.subplots(1, 1, figsize=(14, 6))\n",
    "dcs = DatasetCrossSection(ds, line=line, top=\"top\", bot=\"botm\", ax=ax, zmin=-200, zmax=10)\n",
    "dcs.plot_layers(colors=colors, min_label_area=1000)\n",
    "dcs.plot_grid(linewidth=0.5, vertical=False)\n",
    "ax.set_ylabel(\"m NAP\")\n",
    "ax.set_xlabel(\"Distance along x-sec (m)\");"
   ]
  },
  {
   "cell_type": "markdown",
   "metadata": {},
   "source": [
    "## [2. Split layers](#TOC)<a name=\"splitlayers\"></a>\n",
    "\n",
    "Define which layers you want to split and determine the indices for those layers"
   ]
  },
  {
   "cell_type": "code",
   "execution_count": null,
   "metadata": {},
   "outputs": [],
   "source": [
    "split_layer_codes = [\"PZWAz2\", \"PZWAz3\"]\n",
    "split_lays = np.argwhere(ds.layer.isin(split_layer_codes).data).squeeze()\n",
    "split_lays"
   ]
  },
  {
   "cell_type": "markdown",
   "metadata": {},
   "source": [
    "Next determine how to split the layers. This is done by creating a list of fractions that must add up to 1. The layer will be split into sub-layers from the top down, with each sub-layer getting a thickness equal to the fraction times the original thickness.\n",
    "\n",
    "For example, `(0.5, 0.5)` will split the layer into two sub-layers, each getting a thickness equal to 50% of the original layer."
   ]
  },
  {
   "cell_type": "code",
   "execution_count": null,
   "metadata": {},
   "outputs": [],
   "source": [
    "# split dictionary\n",
    "split_dict = {\n",
    "    19: (0.3, 0.3, 0.4),\n",
    "    20: (0.2, 0.2, 0.2, 0.2, 0.2)\n",
    "}"
   ]
  },
  {
   "cell_type": "markdown",
   "metadata": {},
   "source": [
    "Calculate the new layer elevations based on the information above."
   ]
  },
  {
   "cell_type": "code",
   "execution_count": null,
   "metadata": {},
   "outputs": [],
   "source": [
    "ds_split = nlmod.mdims.mlayers.split_layers_ds(ds, split_dict)"
   ]
  },
  {
   "cell_type": "markdown",
   "metadata": {},
   "source": [
    "View the resulting Dataset:"
   ]
  },
  {
   "cell_type": "code",
   "execution_count": null,
   "metadata": {},
   "outputs": [],
   "source": [
    "ds_split"
   ]
  },
  {
   "cell_type": "markdown",
   "metadata": {},
   "source": [
    "The reindexer dictionary we stored links the new layer numbers to the old\n",
    "layer numbers. This is convenient for copying data from the original layers to the new sub-layers."
   ]
  },
  {
   "cell_type": "code",
   "execution_count": null,
   "metadata": {},
   "outputs": [],
   "source": [
    "# 1st number = new layer index: should number continuously from 1..N\n",
    "# 2nd number = old layer index: repeats where layer was split\n",
    "ds_split.attrs[\"split_reindexer\"]"
   ]
  },
  {
   "cell_type": "markdown",
   "metadata": {},
   "source": [
    "The new layers are named according to the REGIS codes, with an added number if the layer was split into multiple sub-layers. For plotting a cross-section we want to use the original color from the REGIS cross-section plot for the new sub-layers."
   ]
  },
  {
   "cell_type": "code",
   "execution_count": null,
   "metadata": {},
   "outputs": [],
   "source": [
    "layer_names = []\n",
    "colors_new = {}\n",
    "for j, i in ds_split.split_reindexer.items():\n",
    "    layercode = ds.layer.data[i]\n",
    "    color_org = colors.at[layercode, \"color\"]\n",
    "    if layercode in layer_names:\n",
    "        suff = (\n",
    "            np.sum([1 for ilay in layer_names if ilay.startswith(layercode)])\n",
    "            + 1\n",
    "        )\n",
    "        layercode += f\"_{suff}\"\n",
    "    layer_names.append(layercode)\n",
    "    colors_new[layercode] = color_org\n"
   ]
  },
  {
   "cell_type": "markdown",
   "metadata": {},
   "source": [
    "Plot the cross-section of the original and the new layer model."
   ]
  },
  {
   "cell_type": "code",
   "execution_count": null,
   "metadata": {},
   "outputs": [],
   "source": [
    "fig, (ax1, ax2) = plt.subplots(2, 1, figsize=(14, 12), sharex=True)\n",
    "dcs2 = DatasetCrossSection(\n",
    "    ds_split, line=line, top=\"top\", bot=\"botm\", ax=ax1, zmin=-200, zmax=10\n",
    ")\n",
    "polys2 = dcs2.plot_layers(colors=colors_new, min_label_area=1000)\n",
    "dcs2.plot_grid(linewidth=0.5, vertical=False)\n",
    "ax1.set_ylabel(\"m NAP\")\n",
    "ax1.set_title(\"Split layers\")\n",
    "\n",
    "dcs = DatasetCrossSection(\n",
    "    ds, line=line, top=\"top\", bot=\"botm\", ax=ax2, zmin=-200, zmax=10\n",
    ")\n",
    "polys1 = dcs.plot_layers(colors=colors, min_label_area=1000)\n",
    "dcs.plot_grid(linewidth=0.5, vertical=False)\n",
    "ax2.set_ylabel(\"m NAP\")\n",
    "ax2.set_xlabel(\"Distance along x-sec (m)\")\n",
    "ax2.set_title(\"REGIS original\")\n"
   ]
  },
  {
   "cell_type": "markdown",
   "metadata": {},
   "source": [
    "## [3. Combine layers](#TOC)<a name=\"combinelayers\"></a>\n",
    "\n",
    "Example how to combine model layers. First find the indices of the layers to combine."
   ]
  },
  {
   "cell_type": "code",
   "execution_count": null,
   "metadata": {},
   "outputs": [],
   "source": [
    "combine_layers = [\n",
    "    tuple(np.argwhere(ds.layer.str.startswith(\"URz\").data).squeeze().tolist()),\n",
    "    tuple(\n",
    "        np.argwhere(ds.layer.isin([\"PZWAz2\", \"PZWAz3\"]).data)\n",
    "        .squeeze()\n",
    "        .tolist()\n",
    "    ),\n",
    "]\n",
    "combine_layers\n"
   ]
  },
  {
   "cell_type": "markdown",
   "metadata": {},
   "source": [
    "Combine layers using the `combine_layers_ds()` function and passing the layer dataset and the list of layer numbers to combine."
   ]
  },
  {
   "cell_type": "code",
   "execution_count": null,
   "metadata": {},
   "outputs": [],
   "source": [
    "ds_combine = nlmod.mdims.mlayers.combine_layers_ds(\n",
    "    ds, combine_layers, kD=None, c=None\n",
    ")\n"
   ]
  },
  {
   "cell_type": "markdown",
   "metadata": {},
   "source": [
    "Take a look a the resulting dataset"
   ]
  },
  {
   "cell_type": "code",
   "execution_count": null,
   "metadata": {},
   "outputs": [],
   "source": [
    "ds_combine"
   ]
  },
  {
   "cell_type": "markdown",
   "metadata": {},
   "source": [
    "Plot the new and the old cross-section. Use layer code and color from first layer name for the combined layer"
   ]
  },
  {
   "cell_type": "code",
   "execution_count": null,
   "metadata": {},
   "outputs": [],
   "source": [
    "fig, (ax1, ax2) = plt.subplots(2, 1, figsize=(14, 12), sharex=True)\n",
    "dcs2 = DatasetCrossSection(\n",
    "    ds_combine, line=line, top=\"top\", bot=\"botm\", ax=ax1, zmin=-200, zmax=10\n",
    ")\n",
    "polys2 = dcs2.plot_layers(colors=colors, min_label_area=1000)\n",
    "dcs2.plot_grid(linewidth=0.5, vertical=False)\n",
    "ax1.set_ylabel(\"m NAP\")\n",
    "ax1.set_title(\"Combine layers\")\n",
    "\n",
    "dcs = DatasetCrossSection(\n",
    "    ds, line=line, top=\"top\", bot=\"botm\", ax=ax2, zmin=-200, zmax=10\n",
    ")\n",
    "polys1 = dcs.plot_layers(colors=colors, min_label_area=1000)\n",
    "dcs.plot_grid(linewidth=0.5, vertical=False)\n",
    "ax2.set_ylabel(\"m NAP\")\n",
    "ax2.set_xlabel(\"Distance along x-sec (m)\")\n",
    "ax2.set_title(\"REGIS original\")\n"
   ]
  }
 ],
 "metadata": {
  "kernelspec": {
   "display_name": "Python 3 (ipykernel)",
   "language": "python",
   "name": "python3"
  },
  "language_info": {
   "codemirror_mode": {
    "name": "ipython",
    "version": 3
   },
   "file_extension": ".py",
   "mimetype": "text/x-python",
   "name": "python",
   "nbconvert_exporter": "python",
   "pygments_lexer": "ipython3",
   "version": "3.9.7"
  },
  "vscode": {
   "interpreter": {
    "hash": "dace5e1b41a98a8e52d2a8eebc3b981caf2c12e7a76736ebfb89a489e3b62e79"
   }
  }
 },
 "nbformat": 4,
 "nbformat_minor": 4
}
