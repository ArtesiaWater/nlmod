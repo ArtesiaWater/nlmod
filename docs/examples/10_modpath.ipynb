{
 "cells": [
  {
   "cell_type": "markdown",
   "metadata": {},
   "source": [
    "<IMG SRC=\"https://avatars2.githubusercontent.com/u/31697400?s=400&u=a5a6fc31ec93c07853dd53835936fd90c44f7483&v=4\" WIDTH=125 ALIGN=\"right\">\n",
    "\n",
    "\n",
    "# Modpath\n",
    "\n",
    "This notebook shows how to create a particle tracking model using modpath.\n",
    "    \n",
    "# To-Do\n",
    "- make the examples from a package and from a model layer faster\n",
    "- update toc    \n",
    "- add cross section"
   ]
  },
  {
   "cell_type": "markdown",
   "metadata": {},
   "source": [
    "### Contents<a name=\"TOC\"></a>\n",
    "1. [Groundwater Flow Model](#model)\n",
    "2. [Modpath](#modpath)"
   ]
  },
  {
   "cell_type": "code",
   "execution_count": null,
   "metadata": {},
   "outputs": [],
   "source": [
    "import os\n",
    "import sys\n",
    "import nlmod\n",
    "import flopy\n",
    "import numpy as np\n",
    "import xarray as xr\n",
    "import matplotlib.pyplot as plt\n",
    "import logging"
   ]
  },
  {
   "cell_type": "code",
   "execution_count": null,
   "metadata": {},
   "outputs": [],
   "source": [
    "print(f'nlmod version: {nlmod.__version__}')\n",
    "\n",
    "# toon informatie bij het aanroepen van functies\n",
    "logging.basicConfig(level=logging.INFO)"
   ]
  },
  {
   "cell_type": "markdown",
   "metadata": {},
   "source": [
    "### [1. Groundwater Flow Model](#TOC)<a name=\"model\"></a>\n",
    "\n",
    "We use the groundwater flow model from the [03_local_grid_refinement notebook](03_local_grid_refinement). Make sure to run this notebook before you run this notebook"
   ]
  },
  {
   "cell_type": "code",
   "execution_count": null,
   "metadata": {},
   "outputs": [],
   "source": [
    "# load lgr model dataset\n",
    "model_ws = 'model3'\n",
    "model_name = 'IJm_planeten'\n",
    "\n",
    "model_ds = xr.open_dataset(os.path.join(model_ws, \"cache\", \"full_model_ds.nc\"))"
   ]
  },
  {
   "cell_type": "code",
   "execution_count": null,
   "metadata": {},
   "outputs": [],
   "source": [
    "# load lgr simulation and groundwateflow model\n",
    "# set exe_name to point to mf6 version in nlmod bin directory\n",
    "exe_name = os.path.join(os.path.dirname(nlmod.__file__),\n",
    "                        'bin', 'mf6')\n",
    "if sys.platform.startswith('win'):\n",
    "    exe_name += \".exe\"\n",
    "    \n",
    "sim = flopy.mf6.MFSimulation.load(\"mfsim.nam\", sim_ws=model_ws, exe_name=exe_name)\n",
    "gwf = sim.get_model(model_name=model_name)"
   ]
  },
  {
   "cell_type": "markdown",
   "metadata": {},
   "source": [
    "### [2. Modpath](#TOC)<a name=\"modpath\"></a>\n",
    "\n"
   ]
  },
  {
   "cell_type": "markdown",
   "metadata": {},
   "source": [
    "### 2.1 Backward tracking"
   ]
  },
  {
   "cell_type": "code",
   "execution_count": null,
   "metadata": {},
   "outputs": [],
   "source": [
    "# list with xy coordinates to start particle tracking from \n",
    "xy_start = [(101500, 496500), (101500,499100)]\n",
    "\n",
    "# create a modpath model\n",
    "mpf = nlmod.modpath.mpf(gwf)\n",
    "\n",
    "# create the basic modpath package\n",
    "_mpfbas = nlmod.modpath.bas(mpf)\n",
    "\n",
    "# find the nodes for given xy\n",
    "nodes = nlmod.modpath.xy_to_nodes(xy_start, mpf, model_ds, layer=5)\n",
    "\n",
    "# create a particle tracking group at the cell faces\n",
    "pg = nlmod.modpath.pg_from_fdt(nodes)\n",
    "\n",
    "# create the modpath simulation file\n",
    "mpsim = nlmod.modpath.sim(mpf, pg, 'backward', gwf=gwf)"
   ]
  },
  {
   "cell_type": "code",
   "execution_count": null,
   "metadata": {},
   "outputs": [],
   "source": [
    "# run modpath model\n",
    "nlmod.modpath.write_and_run_model(mpf, nb_path='10_modpath.ipynb')"
   ]
  },
  {
   "cell_type": "code",
   "execution_count": null,
   "metadata": {},
   "outputs": [],
   "source": [
    "pdata = nlmod.mfpackages.modpath.load_pathline_data(mpf)"
   ]
  },
  {
   "cell_type": "code",
   "execution_count": null,
   "metadata": {},
   "outputs": [],
   "source": [
    "f, ax = plt.subplots(nrows=1, ncols=1, figsize=(10, 10))\n",
    "ax.set_aspect(\"equal\")\n",
    "ax = nlmod.visualise.plots.plot_modelgrid(model_ds, gwf, ax=ax)\n",
    "\n",
    "for pid in np.unique(pdata['particleid']):\n",
    "    pf = pdata[pdata['particleid']==pid]\n",
    "    ax.plot(pf['x'],pf['y'], color=\"k\", linewidth=0.5)\n",
    "ax.plot(pf['x'],pf['y'], color=\"k\", linewidth=0.5, label='pathline')\n",
    "\n",
    "cids = [nlmod.mdims.xy_to_icell2d(xy, model_ds) for xy in xy_start]\n",
    "ax.plot(model_ds.x[cids],model_ds.y[cids], label='start of backwards tracking', ls='', marker='o', color='red')\n",
    "ax.set_title(f'pathlines')\n",
    "ax.legend();"
   ]
  },
  {
   "cell_type": "code",
   "execution_count": null,
   "metadata": {},
   "outputs": [],
   "source": [
    "f, ax = plt.subplots(nrows=1, ncols=1, figsize=(12, 4))\n",
    "\n",
    "for i, pid in enumerate(np.unique(pdata['particleid'])):\n",
    "    pf = pdata[pdata['particleid']==pid]\n",
    "    x0,y0,z0 = pf[['x','y','z']][0]\n",
    "    distance = np.sqrt((pf['x'] - x0)**2 + (pf['y'] - y0)**2 + (pf['z'] - z0)**2)\n",
    "    ax.plot(pf['time']/365.25,distance, label=pid)\n",
    "\n",
    "ax.set_ylabel('distance [m]')\n",
    "ax.set_xlabel('time [year]')\n",
    "ax.set_title('distance travelled per particle')\n",
    "ax.grid()"
   ]
  },
  {
   "cell_type": "markdown",
   "metadata": {},
   "source": [
    "### 2.2 Forward tracking"
   ]
  },
  {
   "cell_type": "code",
   "execution_count": null,
   "metadata": {},
   "outputs": [],
   "source": [
    "# list with xy coordinates to start particle tracking from \n",
    "xy_start = [(101500, 496500), (101500,499100)]\n",
    "\n",
    "# create a modpath model\n",
    "mpf = nlmod.mfpackages.modpath.mpf(gwf)\n",
    "\n",
    "# create the basic modpath package\n",
    "_mpfbas = nlmod.mfpackages.modpath.bas(mpf)\n",
    "\n",
    "# find the nodes for given xy\n",
    "nodes = nlmod.mfpackages.modpath.xy_to_nodes(xy_start, mpf, model_ds, layer=5)\n",
    "\n",
    "# create a particle tracking group at the cell faces\n",
    "#pg = nlmod.mfpackages.modpath.pg_from_pd(nodes, localx=0.5, localy=0.5, localz=1.0)\n",
    "pg = nlmod.mfpackages.modpath.pg_from_fdt(nodes)\n",
    "\n",
    "# create the modpath simulation file\n",
    "mpsim = nlmod.mfpackages.modpath.sim(mpf, pg, 'forward')"
   ]
  },
  {
   "cell_type": "code",
   "execution_count": null,
   "metadata": {},
   "outputs": [],
   "source": [
    "# run modpath model\n",
    "nlmod.mfpackages.modpath.write_and_run_model(mpf, nb_path='10_modpath.ipynb')"
   ]
  },
  {
   "cell_type": "code",
   "execution_count": null,
   "metadata": {},
   "outputs": [],
   "source": [
    "pdata = nlmod.mfpackages.modpath.load_pathline_data(mpf)"
   ]
  },
  {
   "cell_type": "code",
   "execution_count": null,
   "metadata": {},
   "outputs": [],
   "source": [
    "f, axl = plt.subplots(nrows=1, ncols=3, figsize=(30, 10))\n",
    "for i, ax in enumerate(axl):\n",
    "    ax.set_aspect(\"equal\")\n",
    "    ax = nlmod.visualise.plots.plot_modelgrid(model_ds, gwf, ax=ax)\n",
    "\n",
    "    for pid in np.unique(pdata['particleid']):\n",
    "        pf = pdata[pdata['particleid']==pid]\n",
    "        ax.plot(pf['x'],pf['y'], color=\"k\", linewidth=0.5)\n",
    "    ax.plot(pf['x'],pf['y'], color=\"k\", linewidth=0.5, label='pathline')\n",
    "\n",
    "    cids = [nlmod.mdims.xy_to_icell2d(xy, model_ds) for xy in xy_start]\n",
    "    ax.plot(model_ds.x[cids],model_ds.y[cids], label='start of forward tracking', ls='', marker='o', color='red')\n",
    "    ax.set_title(f'pathlines')\n",
    "    ax.legend();\n",
    "    \n",
    "    if i==1:\n",
    "        ax.set_xlim(101200, 101700)\n",
    "        ax.set_ylim(498700, 499300)\n",
    "    elif i==2:\n",
    "        ax.set_xlim(101200, 101700)\n",
    "        ax.set_ylim(496300, 496700)"
   ]
  },
  {
   "cell_type": "code",
   "execution_count": null,
   "metadata": {},
   "outputs": [],
   "source": [
    "f, ax = plt.subplots(nrows=1, ncols=1, figsize=(12, 4))\n",
    "\n",
    "for i, pid in enumerate(np.unique(pdata['particleid'])):\n",
    "    pf = pdata[pdata['particleid']==pid]\n",
    "    x0,y0,z0 = pf[['x','y','z']][0]\n",
    "    distance = np.sqrt((pf['x'] - x0)**2 + (pf['y'] - y0)**2 + (pf['z'] - z0)**2)\n",
    "    ax.plot(pf['time']/365.25,distance, label=pid)\n",
    "\n",
    "ax.set_ylabel('distance [m]')\n",
    "ax.set_xlabel('time [year]')\n",
    "ax.set_title('distance travelled per particle')\n",
    "ax.grid()"
   ]
  },
  {
   "cell_type": "markdown",
   "metadata": {},
   "source": [
    "### 2.3 Backward tracking from general head boundaries"
   ]
  },
  {
   "cell_type": "code",
   "execution_count": null,
   "metadata": {},
   "outputs": [],
   "source": [
    "# create a modpath model\n",
    "mpf = nlmod.modpath.mpf(gwf)\n",
    "\n",
    "# create the basic modpath package\n",
    "_mpfbas = nlmod.modpath.bas(mpf)\n",
    "\n",
    "# get the nodes from a package\n",
    "nodes = nlmod.modpath.package_to_nodes(gwf, 'GHB_0', mpf)\n",
    "\n",
    "# create a particle tracking group from cell centers\n",
    "pg = nlmod.modpath.pg_from_pd(nodes, localx=0.5, localy=0.5, localz=0.5)\n",
    "\n",
    "# create the modpath simulation file\n",
    "mpsim = nlmod.modpath.sim(mpf, pg, 'backward', gwf=gwf)"
   ]
  },
  {
   "cell_type": "code",
   "execution_count": null,
   "metadata": {},
   "outputs": [],
   "source": [
    "# run modpath model\n",
    "nlmod.modpath.write_and_run_model(mpf, nb_path='10_modpath.ipynb')"
   ]
  },
  {
   "cell_type": "code",
   "execution_count": null,
   "metadata": {},
   "outputs": [],
   "source": [
    "pdata = nlmod.modpath.load_pathline_data(mpf)"
   ]
  },
  {
   "cell_type": "code",
   "execution_count": null,
   "metadata": {},
   "outputs": [],
   "source": [
    "f, axl = plt.subplots(nrows=1, ncols=3, figsize=(30, 10))\n",
    "for i, ax in enumerate(axl):\n",
    "    ax.set_aspect(\"equal\")\n",
    "    ax = nlmod.visualise.plots.plot_modelgrid(model_ds, gwf, ax=ax)\n",
    "\n",
    "    for pid in np.unique(pdata['particleid']):\n",
    "        pf = pdata[pdata['particleid']==pid]\n",
    "        ax.plot(pf['x'],pf['y'], color=\"k\", linewidth=0.5)\n",
    "    ax.plot(pf['x'],pf['y'], color=\"k\", linewidth=0.5, label='pathline')\n",
    "\n",
    "    if i>0:\n",
    "        cids = np.where((model_ds['rws_oppwater_cond']!=0).values)[0]\n",
    "        ax.plot(model_ds.x[cids],model_ds.y[cids], label='start of backwards tracking', ls='', marker='o', color='red')\n",
    "    ax.set_title(f'pathlines')\n",
    "    ax.legend();\n",
    "    \n",
    "    if i==1:\n",
    "        ax.set_xlim(101000, 102000)\n",
    "        ax.set_ylim(498300, 499300)\n",
    "    elif i==2:\n",
    "        ax.set_xlim(101000, 102000)\n",
    "        ax.set_ylim(496300, 497300)"
   ]
  },
  {
   "cell_type": "code",
   "execution_count": null,
   "metadata": {},
   "outputs": [],
   "source": [
    "f, ax = plt.subplots(nrows=1, ncols=1, figsize=(12, 4))\n",
    "\n",
    "for i, pid in enumerate(np.unique(pdata['particleid'])):\n",
    "    pf = pdata[pdata['particleid']==pid]\n",
    "    x0,y0,z0 = pf[['x','y','z']][0]\n",
    "    distance = np.sqrt((pf['x'] - x0)**2 + (pf['y'] - y0)**2 + (pf['z'] - z0)**2)\n",
    "    ax.plot(pf['time']/365.25,distance, label=pid)\n",
    "\n",
    "ax.set_xlim(0, 5000)\n",
    "ax.set_ylabel('distance [m]')\n",
    "ax.set_xlabel('time [year]')\n",
    "ax.set_title('distance travelled per particle')\n",
    "ax.grid()"
   ]
  },
  {
   "cell_type": "markdown",
   "metadata": {},
   "source": [
    "### 2.4 Forward tracking from each cell in the top layer\n",
    "\n",
    "Stop after 10 years."
   ]
  },
  {
   "cell_type": "code",
   "execution_count": null,
   "metadata": {},
   "outputs": [],
   "source": [
    "# create a modpath model\n",
    "mpf = nlmod.modpath.mpf(gwf)\n",
    "\n",
    "# create the basic modpath package\n",
    "_mpfbas = nlmod.modpath.bas(mpf)\n",
    "\n",
    "# get nodes of all cells in the top modellayer\n",
    "nodes = nlmod.modpath.layer_to_nodes(mpf, 0)\n",
    "\n",
    "# create a particle tracking group from cell centers\n",
    "pg = nlmod.modpath.pg_from_pd(nodes, localx=0.5, localy=0.5, localz=0.5)\n",
    "\n",
    "# create the modpath simulation file\n",
    "mpsim = nlmod.modpath.sim(mpf, pg, 'forward', gwf=gwf, stoptime=10*365)"
   ]
  },
  {
   "cell_type": "code",
   "execution_count": null,
   "metadata": {},
   "outputs": [],
   "source": [
    "# run modpath model\n",
    "nlmod.modpath.write_and_run_model(mpf, nb_path='10_modpath.ipynb')"
   ]
  },
  {
   "cell_type": "code",
   "execution_count": null,
   "metadata": {},
   "outputs": [],
   "source": [
    "pdata = nlmod.modpath.load_pathline_data(mpf)"
   ]
  },
  {
   "cell_type": "code",
   "execution_count": null,
   "metadata": {},
   "outputs": [],
   "source": [
    "f, axl = plt.subplots(nrows=1, ncols=3, figsize=(30, 10))\n",
    "for i, ax in enumerate(axl):\n",
    "    ax.set_aspect(\"equal\")\n",
    "    ax = nlmod.visualise.plots.plot_modelgrid(model_ds, gwf, ax=ax)\n",
    "\n",
    "    for pid in np.unique(pdata['particleid']):\n",
    "        pf = pdata[pdata['particleid']==pid]\n",
    "        ax.plot(pf['x'],pf['y'], color=\"k\", linewidth=0.5)\n",
    "    ax.plot(pf['x'],pf['y'], color=\"k\", linewidth=0.5, label='pathline')\n",
    "\n",
    "    if i>0:\n",
    "        ax.plot(model_ds.x.values,model_ds.y.values, label='start of forward tracking', ls='', marker='o', color='red')\n",
    "    ax.set_title(f'pathlines')\n",
    "    ax.legend();\n",
    "    \n",
    "    if i==1:\n",
    "        ax.set_xlim(101000, 102000)\n",
    "        ax.set_ylim(498300, 499300)\n",
    "    elif i==2:\n",
    "        ax.set_xlim(101000, 102000)\n",
    "        ax.set_ylim(496300, 497300)"
   ]
  },
  {
   "cell_type": "code",
   "execution_count": null,
   "metadata": {},
   "outputs": [],
   "source": [
    "f, ax = plt.subplots(nrows=1, ncols=1, figsize=(12, 4))\n",
    "\n",
    "for i, pid in enumerate(np.unique(pdata['particleid'])):\n",
    "    pf = pdata[pdata['particleid']==pid]\n",
    "    x0,y0,z0 = pf[['x','y','z']][0]\n",
    "    distance = np.sqrt((pf['x'] - x0)**2 + (pf['y'] - y0)**2 + (pf['z'] - z0)**2)\n",
    "    ax.plot(pf['time']/365.25,distance, label=pid)\n",
    "\n",
    "ax.set_xlim(0, 11)\n",
    "ax.set_ylabel('distance [m]')\n",
    "ax.set_xlabel('time [year]')\n",
    "ax.set_title('distance travelled per particle')\n",
    "ax.grid()"
   ]
  }
 ],
 "metadata": {
  "CodeCell": {
   "cm_config": {
    "lineWrapping": true
   }
  },
  "MarkdownCell": {
   "cm_config": {
    "lineWrapping": true
   }
  },
  "anaconda-cloud": {},
  "kernelspec": {
   "display_name": "nlmod",
   "language": "python",
   "name": "nlmod"
  },
  "language_info": {
   "codemirror_mode": {
    "name": "ipython",
    "version": 3
   },
   "file_extension": ".py",
   "mimetype": "text/x-python",
   "name": "python",
   "nbconvert_exporter": "python",
   "pygments_lexer": "ipython3",
   "version": "3.9.4"
  },
  "widgets": {
   "state": {},
   "version": "1.1.2"
  }
 },
 "nbformat": 4,
 "nbformat_minor": 4
}
