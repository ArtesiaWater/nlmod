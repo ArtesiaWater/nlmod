{
 "cells": [
  {
   "cell_type": "markdown",
   "metadata": {},
   "source": [
    "<IMG SRC=\"https://avatars2.githubusercontent.com/u/31697400?s=400&u=a5a6fc31ec93c07853dd53835936fd90c44f7483&v=4\" WIDTH=125 ALIGN=\"right\">\n",
    "\n",
    "\n",
    "# Modpath\n",
    "\n",
    "This notebook shows how to create a particle tracking model using modpath."
   ]
  },
  {
   "cell_type": "markdown",
   "metadata": {},
   "source": [
    "### Contents<a name=\"TOC\"></a>\n",
    "1. [Groundwater Flow Model](#model)\n",
    "2. [Modpath](#modpath)"
   ]
  },
  {
   "cell_type": "code",
   "execution_count": 1,
   "metadata": {},
   "outputs": [],
   "source": [
    "import os\n",
    "import sys\n",
    "import nlmod\n",
    "import flopy\n",
    "import numpy as np\n",
    "import xarray as xr\n",
    "import matplotlib.pyplot as plt\n",
    "import logging"
   ]
  },
  {
   "cell_type": "code",
   "execution_count": 2,
   "metadata": {},
   "outputs": [
    {
     "name": "stdout",
     "output_type": "stream",
     "text": [
      "nlmod version: 0.2.5b\n"
     ]
    }
   ],
   "source": [
    "print(f'nlmod version: {nlmod.__version__}')\n",
    "\n",
    "# toon informatie bij het aanroepen van functies\n",
    "logging.basicConfig(level=logging.INFO)"
   ]
  },
  {
   "cell_type": "markdown",
   "metadata": {},
   "source": [
    "### [1. Groundwater Flow Model](#TOC)<a name=\"model\"></a>\n",
    "\n",
    "We use the groundwater flow model from the [03_local_grid_refinement notebook](03_local_grid_refinement). Make sure to run this notebook before you run this notebook"
   ]
  },
  {
   "cell_type": "code",
   "execution_count": 3,
   "metadata": {},
   "outputs": [],
   "source": [
    "# load lgr model dataset\n",
    "model_ws = 'model3'\n",
    "model_name = 'IJm_planeten'\n",
    "\n",
    "model_ds = xr.open_dataset(os.path.join(model_ws, \"cache\", \"full_model_ds.nc\"))"
   ]
  },
  {
   "cell_type": "code",
   "execution_count": 4,
   "metadata": {},
   "outputs": [
    {
     "name": "stdout",
     "output_type": "stream",
     "text": [
      "loading simulation...\n",
      "  loading simulation name file...\n",
      "  loading tdis package...\n",
      "  loading model gwf6...\n",
      "    loading package disv...\n",
      "    loading package npf...\n",
      "    loading package ic...\n",
      "    loading package oc...\n",
      "    loading package ghb...\n",
      "    loading package drn...\n",
      "    loading package chd...\n",
      "    loading package rch...\n",
      "  loading ims package ijm_planeten...\n"
     ]
    }
   ],
   "source": [
    "# load lgr simulation and groundwateflow model\n",
    "# set exe_name to point to mf6 version in nlmod bin directory\n",
    "exe_name = os.path.join(os.path.dirname(nlmod.__file__),\n",
    "                        'bin', 'mf6')\n",
    "if sys.platform.startswith('win'):\n",
    "    exe_name += \".exe\"\n",
    "    \n",
    "sim = flopy.mf6.MFSimulation.load(\"mfsim.nam\", sim_ws=model_ws, exe_name=exe_name)\n",
    "gwf = sim.get_model(model_name=model_name)"
   ]
  },
  {
   "cell_type": "markdown",
   "metadata": {},
   "source": [
    "### [2. Modpath](#TOC)<a name=\"modpath\"></a>\n",
    "\n"
   ]
  },
  {
   "cell_type": "code",
   "execution_count": 5,
   "metadata": {},
   "outputs": [
    {
     "name": "stderr",
     "output_type": "stream",
     "text": [
      "INFO:nlmod.mfpackages.modpath:particle group with 9 particle per cell face, 54 particles per cell\n"
     ]
    },
    {
     "name": "stdout",
     "output_type": "stream",
     "text": [
      "adding Package:  MPBAS\n",
      "adding Package:  MPSIM\n"
     ]
    }
   ],
   "source": [
    "# list with xy coordinates to start particle tracking from \n",
    "xy_start = [(101500, 496500), (101500,499100)]\n",
    "\n",
    "# create a modpath model\n",
    "mpf = nlmod.mfpackages.modpath.mpf(gwf)\n",
    "\n",
    "# create the basic modpath package\n",
    "_mpfbas = nlmod.mfpackages.modpath.bas(mpf)\n",
    "\n",
    "# find the nodes for given xy\n",
    "nodes = nlmod.mfpackages.modpath.xy_to_nodes(xy_start, mpf, model_ds, layer=5)\n",
    "\n",
    "# create a particle tracking group at the cell faces\n",
    "pg = nlmod.mfpackages.modpath.pg_from_fdt(nodes)\n",
    "\n",
    "# create the modpath simulation file\n",
    "mpsim = nlmod.mfpackages.modpath.sim(mpf, pg, gwf)"
   ]
  },
  {
   "cell_type": "code",
   "execution_count": 6,
   "metadata": {},
   "outputs": [
    {
     "name": "stdout",
     "output_type": "stream",
     "text": [
      "could not find 'mp7_ijm_planeten_f.mppth'\n",
      "could not find 'mp7_ijm_planeten_f.timeseries'\n",
      "could not find 'mp7_ijm_planeten_f.mpend'\n",
      "\n",
      "Writing packages:\n",
      "   Package:  MPBAS\n",
      "   Package:  MPSIM\n",
      " \n",
      "FloPy is using the following  executable to run the model: c:\\users\\oebbe\\02_python\\nlmod\\nlmod\\mfpackages\\..\\bin\\mp7.exe\n",
      "\n",
      "MODPATH Version 7.2.002 PROVISIONAL \n",
      "Program compiled Nov 23 2021 09:33:21 with IFORT compiler (ver. 19.0.5)         \n",
      " \n",
      " \n",
      "Run particle tracking simulation ...\n",
      "Processing Time Step     1 Period     6.  Time =  3.65700E+03  Steady-state flow                                                    \n",
      "Processing Time Step     1 Period     5.  Time =  3.65600E+03  Steady-state flow                                                    \n",
      "Processing Time Step     1 Period     4.  Time =  3.65500E+03  Steady-state flow                                                    \n",
      "Processing Time Step     1 Period     3.  Time =  3.65400E+03  Steady-state flow                                                    \n",
      "Processing Time Step     1 Period     2.  Time =  3.65300E+03  Steady-state flow                                                    \n",
      "Processing Time Step     1 Period     1.  Time =  3.65200E+03  Steady-state flow                                                    \n",
      "\n",
      "Particle Summary:\n",
      "         0 particles are pending release.\n",
      "         0 particles remain active.\n",
      "         0 particles terminated at boundary faces.\n",
      "         0 particles terminated at weak sink cells.\n",
      "         0 particles terminated at weak source cells.\n",
      "       108 particles terminated at strong source/sink cells.\n",
      "         0 particles terminated in cells with a specified zone number.\n",
      "         0 particles were stranded in inactive or dry cells.\n",
      "         0 particles were unreleased.\n",
      "         0 particles have an unknown status.\n",
      " \n",
      "Normal termination.                                                        \n"
     ]
    },
    {
     "data": {
      "text/plain": [
       "(True, [])"
      ]
     },
     "execution_count": 6,
     "metadata": {},
     "output_type": "execute_result"
    }
   ],
   "source": [
    "# remove previous output\n",
    "nlmod.mfpackages.modpath.remove_output(mpf)\n",
    "\n",
    "# write modpath datasets\n",
    "mpf.write_input()\n",
    "\n",
    "# run modpath\n",
    "mpf.run_model()"
   ]
  },
  {
   "cell_type": "code",
   "execution_count": 7,
   "metadata": {},
   "outputs": [],
   "source": [
    "pdata = nlmod.mfpackages.modpath.load_pathline_data(mpf)"
   ]
  },
  {
   "cell_type": "code",
   "execution_count": 8,
   "metadata": {},
   "outputs": [
    {
     "data": {
      "text/plain": [
       "<matplotlib.legend.Legend at 0x246605d8760>"
      ]
     },
     "execution_count": 8,
     "metadata": {},
     "output_type": "execute_result"
    },
    {
     "data": {
      "image/png": "[encoded data removed]",
      "text/plain": [
       "<Figure size 720x720 with 1 Axes>"
      ]
     },
     "metadata": {
      "needs_background": "light"
     },
     "output_type": "display_data"
    }
   ],
   "source": [
    "f, ax = plt.subplots(nrows=1, ncols=1, figsize=(10, 10))\n",
    "ax.set_aspect(\"equal\")\n",
    "ax = nlmod.visualise.plots.plot_modelgrid(model_ds, gwf, ax=ax)\n",
    "\n",
    "for pid in np.unique(pdata['particleid']):\n",
    "    pf = pdata[pdata['particleid']==pid]\n",
    "    ax.plot(pf['x'],pf['y'], color=\"k\", linewidth=0.5)\n",
    "ax.plot(pf['x'],pf['y'], color=\"k\", linewidth=0.5, label='pathline')\n",
    "\n",
    "cids = [nlmod.mfpackages.modpath.xy_to_cid(xy, model_ds) for xy in xy_start]\n",
    "ax.plot(model_ds.x[cids],model_ds.y[cids], label='start of backwards tracking', ls='', marker='o', color='red')\n",
    "ax.set_title(f'pathlines')\n",
    "ax.legend()"
   ]
  }
 ],
 "metadata": {
  "CodeCell": {
   "cm_config": {
    "lineWrapping": true
   }
  },
  "MarkdownCell": {
   "cm_config": {
    "lineWrapping": true
   }
  },
  "anaconda-cloud": {},
  "kernelspec": {
   "display_name": "Python 3 (ipykernel)",
   "language": "python",
   "name": "python3"
  },
  "language_info": {
   "codemirror_mode": {
    "name": "ipython",
    "version": 3
   },
   "file_extension": ".py",
   "mimetype": "text/x-python",
   "name": "python",
   "nbconvert_exporter": "python",
   "pygments_lexer": "ipython3",
   "version": "3.9.4"
  },
  "widgets": {
   "state": {},
   "version": "1.1.2"
  }
 },
 "nbformat": 4,
 "nbformat_minor": 4
}
