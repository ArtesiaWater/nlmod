{
 "cells": [
  {
   "cell_type": "markdown",
   "metadata": {},
   "source": [
    "<IMG SRC=\"https://avatars2.githubusercontent.com/u/31697400?s=400&u=a5a6fc31ec93c07853dd53835936fd90c44f7483&v=4\" WIDTH=125 ALIGN=\"right\">\n",
    "\n",
    "    \n",
    "# Local grid refinement   \n",
    "\n",
    "*O.N. Ebbens, Artesia, 2022*\n",
    "\n",
    "This notebook shows an example of a vertex model create with the `nlmod` package."
   ]
  },
  {
   "cell_type": "markdown",
   "metadata": {},
   "source": [
    "### Contents<a name=\"TOC\"></a>\n",
    "1. [Create model](#create)\n",
    "2. [Local grid refinement](#lgr)\n",
    "3. [Run Model](#run)\n",
    "3. [Visualise](#Visualise)"
   ]
  },
  {
   "cell_type": "code",
   "execution_count": null,
   "metadata": {},
   "outputs": [],
   "source": [
    "import logging\n",
    "import os\n",
    "\n",
    "import flopy\n",
    "import geopandas as gpd\n",
    "import matplotlib.pyplot as plt\n",
    "import nlmod\n"
   ]
  },
  {
   "cell_type": "code",
   "execution_count": null,
   "metadata": {},
   "outputs": [],
   "source": [
    "print(f'nlmod version: {nlmod.__version__}')\n",
    "\n",
    "# toon informatie bij het aanroepen van functies\n",
    "logging.basicConfig(level=logging.INFO)"
   ]
  },
  {
   "cell_type": "markdown",
   "metadata": {},
   "source": [
    "### [1. Create model](#TOC)<a name=\"create\"></a>\n",
    "\n",
    "Modflow 6 makes it possible to use locally refined grids. In NLmod you can use a shapefile and a number of levels to specify where and how much you want to use local grid refinement. Below we use a shapefile of the Planetenweg in IJmuiden and set the refinement levels at 2. This well create a grid with cells of 100x100m except at the Planetenweg where the cells will be refined to 25x25m. See also figures below."
   ]
  },
  {
   "cell_type": "code",
   "execution_count": null,
   "metadata": {},
   "outputs": [],
   "source": [
    "# model settings vertex\n",
    "model_ws = \"model3\"\n",
    "model_name = \"IJm_planeten\"\n",
    "figdir, cachedir = nlmod.util.get_model_dirs(model_ws)\n",
    "refine_shp_fname = os.path.join(\"data\", \"planetenweg_ijmuiden\")\n",
    "levels = 2\n",
    "extent = [95000.0, 105000.0, 494000.0, 500000.0]\n",
    "delr = 100.0\n",
    "delc = 100.0\n",
    "steady_state = False\n",
    "steady_start = True\n",
    "transient_timesteps = 5\n",
    "perlen = 1.0\n",
    "start_time = \"2015-1-1\"\n",
    "use_regis = True\n",
    "regis_botm_layer = \"MSz1\"\n",
    "use_geotop = True\n",
    "add_northsea = True\n",
    "starting_head = 1.0\n"
   ]
  },
  {
   "cell_type": "code",
   "execution_count": null,
   "metadata": {},
   "outputs": [],
   "source": [
    "layer_model = nlmod.read.regis.get_combined_layer_models(\n",
    "    extent,\n",
    "    use_regis=use_regis,\n",
    "    regis_botm_layer=regis_botm_layer,\n",
    "    use_geotop=use_geotop,\n",
    "    cachedir=cachedir,\n",
    "    cachename=\"combined_layer_ds.nc\",\n",
    ")\n",
    "\n",
    "# create a model ds by changing grid of layer_model\n",
    "ds = nlmod.mdims.to_model_ds(\n",
    "    layer_model, model_name, model_ws, delr=delr, delc=delc\n",
    ")\n",
    "\n",
    "# add time discretisation\n",
    "ds = nlmod.mdims.set_ds_time(\n",
    "    ds,\n",
    "    start_time=start_time,\n",
    "    steady_state=steady_state,\n",
    "    steady_start=steady_start,\n",
    "    transient_timesteps=transient_timesteps,\n",
    "    perlen=perlen,\n",
    ")\n"
   ]
  },
  {
   "cell_type": "markdown",
   "metadata": {},
   "source": [
    "### [2. Local grid refinement](#TOC)<a name=\"lgr\"></a>\n",
    "\n",
    "the code below applies a local grid refinement to the layer model. The local grid refinement is based on the shapefile 'planetenweg_ijmuiden.shp', which contains a line shape of the Planetenweg, and the levels, which is 2. This means that the model cells at the Planetenweg will get a size of 25 x 25m. "
   ]
  },
  {
   "cell_type": "code",
   "execution_count": null,
   "metadata": {},
   "outputs": [],
   "source": [
    "# use gridgen to create vertex grid\n",
    "ds = nlmod.mgrid.refine(\n",
    "    ds, refinement_features=[(refine_shp_fname, \"line\", levels)]\n",
    ")\n",
    "\n",
    "if add_northsea:\n",
    "    ds = nlmod.mdims.add_northsea(ds, cachedir=cachedir)\n"
   ]
  },
  {
   "cell_type": "code",
   "execution_count": null,
   "metadata": {},
   "outputs": [],
   "source": [
    "# create simulation\n",
    "sim = nlmod.sim.sim(ds)\n",
    "\n",
    "# create time discretisation\n",
    "tdis = nlmod.sim.tdis(ds, sim)\n",
    "\n",
    "# create groundwater flow model\n",
    "gwf = nlmod.gwf.gwf(ds, sim)\n",
    "\n",
    "# create ims\n",
    "ims = nlmod.gwf.ims(sim)\n",
    "\n",
    "# Create discretization\n",
    "disv = nlmod.gwf.disv(ds, gwf)\n",
    "\n",
    "# create node property flow\n",
    "npf = nlmod.gwf.npf(ds, gwf, save_flows=True)\n",
    "\n",
    "# Create the initial conditions package\n",
    "ic = nlmod.gwf.ic(ds, gwf, starting_head=starting_head)\n",
    "\n",
    "# Create the output control package\n",
    "oc = nlmod.gwf.oc(ds, gwf)\n"
   ]
  },
  {
   "cell_type": "code",
   "execution_count": null,
   "metadata": {},
   "outputs": [],
   "source": [
    "# voeg grote oppervlaktewaterlichamen toe\n",
    "da_name = \"rws_oppwater\"\n",
    "rws_ds = nlmod.read.rws.get_surface_water(\n",
    "    ds, da_name, cachedir=ds.cachedir, cachename=da_name + \".nc\"\n",
    ")\n",
    "ds.update(rws_ds)\n",
    "ghb = nlmod.gwf.ghb(ds, gwf, da_name)\n",
    "\n",
    "# surface level drain\n",
    "ahn_ds = nlmod.read.ahn.get_ahn(ds, cachedir=ds.cachedir, cachename=\"ahn.nc\")\n",
    "ds.update(ahn_ds)\n",
    "\n",
    "drn = nlmod.gwf.surface_drain_from_ds(ds, gwf)\n",
    "\n",
    "\n",
    "# add constant head cells at model boundaries\n",
    "ds.update(nlmod.gwf.constant_head.chd_at_model_edge(ds, ds[\"idomain\"]))\n",
    "chd = nlmod.gwf.chd(ds, gwf, head=\"starting_head\")\n"
   ]
  },
  {
   "cell_type": "code",
   "execution_count": null,
   "metadata": {},
   "outputs": [],
   "source": [
    "# add knmi recharge to the model datasets\n",
    "knmi_ds = nlmod.read.knmi.get_recharge(\n",
    "    ds, cachedir=ds.cachedir, cachename=\"recharge\"\n",
    ")\n",
    "ds.update(knmi_ds)\n",
    "\n",
    "# create recharge package\n",
    "rch = nlmod.gwf.rch(ds, gwf)\n"
   ]
  },
  {
   "cell_type": "code",
   "execution_count": null,
   "metadata": {},
   "outputs": [],
   "source": [
    "ds"
   ]
  },
  {
   "cell_type": "markdown",
   "metadata": {},
   "source": [
    "### [3. Write and Run](#TOC)<a name=\"run\"></a>\n"
   ]
  },
  {
   "cell_type": "code",
   "execution_count": null,
   "metadata": {},
   "outputs": [],
   "source": [
    "nlmod.sim.write_and_run(\n",
    "    sim, ds, write_ds=True, nb_path=\"03_local_grid_refinement.ipynb\"\n",
    ")\n"
   ]
  },
  {
   "cell_type": "markdown",
   "metadata": {},
   "source": [
    "### [4. Visualise](#TOC)<a name=\"visualise\"></a>\n",
    "\n",
    "Using the `ds` and `gwf` variables it is quite easy to visualise model data. Below the modelgrid together with the surface water is shown."
   ]
  },
  {
   "cell_type": "code",
   "execution_count": null,
   "metadata": {},
   "outputs": [],
   "source": [
    "plan_weg_gdf = gpd.read_file(refine_shp_fname + \".shp\")\n",
    "\n",
    "# plot modelgrid\n",
    "ax = nlmod.visualise.plots.plot_modelgrid(ds, gwf)\n",
    "plan_weg_gdf.plot(ax=ax, color=\"r\", label=\"Planetenweg\")\n",
    "ax.legend()\n",
    "\n",
    "# plot zoomed modelgrid\n",
    "ax = nlmod.visualise.plots.plot_modelgrid(ds, gwf)\n",
    "ax.set_title(\"Planetenweg\")\n",
    "plan_weg_gdf.plot(ax=ax, color=\"r\", label=\"Planetenweg\")\n",
    "ax.set_xlim(100000, 103000)\n",
    "ax.set_ylim(495000, 497500)\n",
    "ax.legend()"
   ]
  },
  {
   "cell_type": "markdown",
   "metadata": {},
   "source": [
    "The model dataset of a vertex model differs from a structured model dataset. The data is stored relative to the cell-id instead of the row and column number. Therefore the model dataset has the dimension icell2d instead of the dimensions x and y. "
   ]
  },
  {
   "cell_type": "code",
   "execution_count": null,
   "metadata": {},
   "outputs": [],
   "source": [
    "ds"
   ]
  },
  {
   "cell_type": "markdown",
   "metadata": {},
   "source": [
    "To plot the same rasters as for the previous model we can use the `nlmod.visualise.plots.plot_vertex_array()` function."
   ]
  },
  {
   "cell_type": "code",
   "execution_count": null,
   "metadata": {},
   "outputs": [],
   "source": [
    "ds[\"vertices\"] = nlmod.mdims.get_vertices(ds)\n",
    "\n",
    "fig, axes = plt.subplots(nrows=2, ncols=2, figsize=(14, 11))\n",
    "nlmod.visualise.plots.plot_vertex_array(\n",
    "    ds[\"ahn\"], ds[\"vertices\"], ax=axes[0][0]\n",
    ")\n",
    "nlmod.visualise.plots.plot_vertex_array(\n",
    "    ds[\"botm\"][0], ds[\"vertices\"], ax=axes[0][1]\n",
    ")\n",
    "nlmod.visualise.plots.plot_vertex_array(\n",
    "    ds[\"idomain\"][0], ds[\"vertices\"], ax=axes[1][0]\n",
    ")\n",
    "nlmod.visualise.plots.plot_vertex_array(\n",
    "    ds[\"chd\"][0], ds[\"vertices\"], ax=axes[1][1]\n",
    ")\n",
    "for axes1 in axes:\n",
    "    for ax in axes1:\n",
    "        ax.axis(\"scaled\")\n",
    "\n",
    "fig.savefig(\n",
    "    os.path.join(ds.figdir, \"ahn_bot_idom_chd.png\"), bbox_inches=\"tight\"\n",
    ")\n",
    "\n",
    "fig, axes = plt.subplots(nrows=2, ncols=2, figsize=(14, 11))\n",
    "nlmod.visualise.plots.plot_vertex_array(\n",
    "    ds[\"bathymetry\"], ds[\"vertices\"], ax=axes[0][0]\n",
    ")\n",
    "nlmod.visualise.plots.plot_vertex_array(\n",
    "    ds[\"northsea\"], ds[\"vertices\"], ax=axes[0][1]\n",
    ")\n",
    "nlmod.visualise.plots.plot_vertex_array(\n",
    "    ds[\"kh\"][1], ds[\"vertices\"], ax=axes[1][0]\n",
    ")\n",
    "nlmod.visualise.plots.plot_vertex_array(\n",
    "    ds[\"recharge\"][:, 0], ds[\"vertices\"], ax=axes[1][1]\n",
    ")\n",
    "\n",
    "for axes1 in axes:\n",
    "    for ax in axes1:\n",
    "        ax.axis(\"scaled\")\n",
    "fig.savefig(\n",
    "    os.path.join(ds.figdir, \"bath_nsea_kh_rch.png\"), bbox_inches=\"tight\"\n",
    ")\n"
   ]
  },
  {
   "cell_type": "markdown",
   "metadata": {},
   "source": [
    "We can save the entire model as a UGRID NetCDF-file. This can be opened in qgis, as a 'Mesh Layer'. For more information see https://docs.qgis.org/3.16/en/docs/user_manual/working_with_mesh/mesh_properties.html"
   ]
  },
  {
   "cell_type": "code",
   "execution_count": null,
   "metadata": {},
   "outputs": [],
   "source": [
    "fname = os.path.join(ds.figdir, 'results.nc')\n",
    "nlmod.visualise.gis.model_dataset_to_ugrid_nc_file(ds, fname)"
   ]
  }
 ],
 "metadata": {
  "CodeCell": {
   "cm_config": {
    "lineWrapping": true
   }
  },
  "MarkdownCell": {
   "cm_config": {
    "lineWrapping": true
   }
  },
  "anaconda-cloud": {},
  "kernelspec": {
   "display_name": "Python 3 (ipykernel)",
   "language": "python",
   "name": "python3"
  },
  "language_info": {
   "codemirror_mode": {
    "name": "ipython",
    "version": 3
   },
   "file_extension": ".py",
   "mimetype": "text/x-python",
   "name": "python",
   "nbconvert_exporter": "python",
   "pygments_lexer": "ipython3",
   "version": "3.9.4"
  },
  "vscode": {
   "interpreter": {
    "hash": "dace5e1b41a98a8e52d2a8eebc3b981caf2c12e7a76736ebfb89a489e3b62e79"
   }
  },
  "widgets": {
   "state": {},
   "version": "1.1.2"
  }
 },
 "nbformat": 4,
 "nbformat_minor": 4
}
