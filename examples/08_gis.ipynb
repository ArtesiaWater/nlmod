{
 "cells": [
  {
   "cell_type": "markdown",
   "metadata": {},
   "source": [
    "<IMG SRC=\"https://avatars2.githubusercontent.com/u/31697400?s=400&u=a5a6fc31ec93c07853dd53835936fd90c44f7483&v=4\" WIDTH=125 ALIGN=\"right\">\n",
    "\n",
    "\n",
    "# GIS\n",
    "\n",
    "This notebook shows how to export model data so it can be viewed in GIS (QGIS or ArcMAP)."
   ]
  },
  {
   "cell_type": "markdown",
   "metadata": {},
   "source": [
    "### Contents<a name=\"TOC\"></a>\n",
    "1. [Model types](#modeltypes)\n",
    "2. [Export vector data](#vectordata)\n",
    "3. [Export griddata](#rasterdata)\n",
    "4. [Add symbology (QGIS)](#symbology)"
   ]
  },
  {
   "cell_type": "code",
   "execution_count": null,
   "metadata": {},
   "outputs": [],
   "source": [
    "import nlmod\n",
    "import os\n",
    "import flopy\n",
    "import numpy as np\n",
    "import geopandas as gpd\n",
    "import xarray as xr\n",
    "import matplotlib.pyplot as plt\n",
    "from shapely.geometry import Polygon\n",
    "\n",
    "import logging\n",
    "from IPython.display import FileLink, FileLinks"
   ]
  },
  {
   "cell_type": "code",
   "execution_count": null,
   "metadata": {},
   "outputs": [],
   "source": [
    "print(f'nlmod version: {nlmod.__version__}')\n",
    "\n",
    "# toon informatie bij het aanroepen van functies\n",
    "logging.basicConfig(level=logging.INFO)"
   ]
  },
  {
   "cell_type": "markdown",
   "metadata": {},
   "source": [
    "### [1. Model types](#TOC)<a name=\"modeltypes\"></a>\n",
    "\n"
   ]
  },
  {
   "cell_type": "markdown",
   "metadata": {},
   "source": [
    "#### structured grid\n",
    "\n"
   ]
  },
  {
   "cell_type": "code",
   "execution_count": null,
   "metadata": {},
   "outputs": [],
   "source": [
    "model_ws = 'model1'\n",
    "model_name = 'IJmuiden'"
   ]
  },
  {
   "cell_type": "code",
   "execution_count": null,
   "metadata": {},
   "outputs": [],
   "source": [
    "model_ds_struc = xr.load_dataset(os.path.join(model_ws, 'cache', 'full_model_ds.nc'), mask_and_scale=False)\n",
    "model_ds_struc"
   ]
  },
  {
   "cell_type": "code",
   "execution_count": null,
   "metadata": {},
   "outputs": [],
   "source": [
    "# create gisdir\n",
    "gisdir_struc = os.path.join(model_ws, 'gis')\n",
    "if not os.path.exists(gisdir_struc):\n",
    "    os.mkdir(gisdir_struc)"
   ]
  },
  {
   "cell_type": "markdown",
   "metadata": {},
   "source": [
    "#### vertex grid\n",
    "\n"
   ]
  },
  {
   "cell_type": "code",
   "execution_count": null,
   "metadata": {},
   "outputs": [],
   "source": [
    "model_ws = 'model3'\n",
    "model_name = 'IJm_planeten'"
   ]
  },
  {
   "cell_type": "code",
   "execution_count": null,
   "metadata": {
    "scrolled": true
   },
   "outputs": [],
   "source": [
    "model_ds_vert = xr.load_dataset(os.path.join(model_ws, 'cache', 'full_model_ds.nc'), mask_and_scale=False)\n",
    "\n",
    "# get modelgrid\n",
    "sim = flopy.mf6.MFSimulation.load(sim_name='mfsim.nam', sim_ws=model_ds_vert.model_ws,\n",
    "                                  load_only=['DISV'])\n",
    "gwf = sim.get_model(model_ds_vert.model_name)\n",
    "\n",
    "# get vertices\n",
    "model_ds_vert['vertices'] = nlmod.mdims.get_vertices(model_ds_vert, modelgrid=gwf.modelgrid)\n",
    "model_ds_vert"
   ]
  },
  {
   "cell_type": "code",
   "execution_count": null,
   "metadata": {},
   "outputs": [],
   "source": [
    "# create gisdir\n",
    "gisdir_vert = os.path.join(model_ws, 'gis')\n",
    "if not os.path.exists(gisdir_vert):\n",
    "    os.mkdir(gisdir_vert)"
   ]
  },
  {
   "cell_type": "markdown",
   "metadata": {},
   "source": [
    "### [2. Export vector data](#TOC)<a name=\"vectordata\"></a>\n",
    "\n"
   ]
  },
  {
   "cell_type": "markdown",
   "metadata": {},
   "source": [
    "#### structured"
   ]
  },
  {
   "cell_type": "code",
   "execution_count": null,
   "metadata": {},
   "outputs": [],
   "source": [
    "# write model data to a geopackage\n",
    "fname_geopackage = nlmod.visualise.gis.model_dataset_to_vector_file(model_ds_struc, gisdir=gisdir_struc)\n",
    "\n",
    "# get download link\n",
    "FileLink(fname_geopackage, result_html_prefix='klik hier om te downloaden -> ')"
   ]
  },
  {
   "cell_type": "code",
   "execution_count": null,
   "metadata": {
    "scrolled": true
   },
   "outputs": [],
   "source": [
    "# write model data to multiple shapefiles\n",
    "fnames = nlmod.visualise.gis.model_dataset_to_vector_file(model_ds_struc, driver='ESRI Shapefile', gisdir=gisdir_struc)\n",
    "\n",
    "# get download link\n",
    "FileLinks(gisdir_struc, included_suffixes='.shp')"
   ]
  },
  {
   "cell_type": "markdown",
   "metadata": {},
   "source": [
    "#### vertex grid"
   ]
  },
  {
   "cell_type": "code",
   "execution_count": null,
   "metadata": {},
   "outputs": [],
   "source": [
    "# write model data to a geopackage\n",
    "fname_geopackage = nlmod.visualise.gis.model_dataset_to_vector_file(model_ds_vert, gisdir=gisdir_vert)"
   ]
  },
  {
   "cell_type": "code",
   "execution_count": null,
   "metadata": {
    "scrolled": true
   },
   "outputs": [],
   "source": [
    "# write model data to multiple shapefiles\n",
    "nlmod.visualise.gis.model_dataset_to_vector_file(model_ds_vert, driver='ESRI Shapefile', gisdir=gisdir_vert)"
   ]
  },
  {
   "cell_type": "markdown",
   "metadata": {},
   "source": [
    "### [3. Export griddata](#TOC)<a name=\"rasterdata\"></a>\n",
    "\n",
    "The model data can also be exported as a NetCDF file. For a structured model the standard model dataset (xarray.Dataset) can be written to a netcdf and read using Qgis. For a vertex model you have to convert the model dataset to a certain format before you can write it to a netcdf and read it with Qgis. With the code below we export the vertex model dataset to a netcdf file ('model_qgis.nc') that can be read using Qgis. For more background, see this discussion https://github.com/ArtesiaWater/nlmod/issues/14. "
   ]
  },
  {
   "cell_type": "code",
   "execution_count": null,
   "metadata": {},
   "outputs": [],
   "source": [
    "fname = os.path.join(model_ds_vert.cachedir,'model_qgis.nc')\n",
    "out = nlmod.visualise.gis.model_dataset_to_ugrid_nc_file(model_ds_vert.drop_vars('rch_name'), fname)\n",
    "out"
   ]
  },
  {
   "cell_type": "markdown",
   "metadata": {},
   "source": [
    "### [4. Add symbology (QGIS)](#TOC)<a name=\"symbology\"></a>\n",
    "\n",
    "It is always nice to have automatic symbology for your vector data. Some thoughts:\n",
    "- QGIS can save symbology of a single shapefile in a .qml file\n",
    "- In QGIS you can add a .qml file to a geopackage thus saving the symbology to a single file.\n",
    "- You can create a .qml file in QGIS from existing symbology.\n",
    "- a .qml file is an xml file so theoretically it is possible to modify a .qml file with Python based on the properties of the data.\n",
    "- It \n",
    "\n"
   ]
  },
  {
   "cell_type": "markdown",
   "metadata": {},
   "source": [
    "Some limitations of the current gis functions:\n",
    "- when exporting shapefiles to gis, attributes cannot have names longer\n",
    "than 10 characters. Now the automatic character shortening of fiona is\n",
    "used. This is not optimal.\n",
    "- when exporting data variables with dimension time only the mean values\n",
    "in time are exported in the shapefile to avoid extremely large files."
   ]
  }
 ],
 "metadata": {
  "CodeCell": {
   "cm_config": {
    "lineWrapping": true
   }
  },
  "MarkdownCell": {
   "cm_config": {
    "lineWrapping": true
   }
  },
  "anaconda-cloud": {},
  "kernelspec": {
   "display_name": "Python 3 (ipykernel)",
   "language": "python",
   "name": "python3"
  },
  "language_info": {
   "codemirror_mode": {
    "name": "ipython",
    "version": 3
   },
   "file_extension": ".py",
   "mimetype": "text/x-python",
   "name": "python",
   "nbconvert_exporter": "python",
   "pygments_lexer": "ipython3",
   "version": "3.9.7"
  },
  "widgets": {
   "state": {},
   "version": "1.1.2"
  }
 },
 "nbformat": 4,
 "nbformat_minor": 4
}
