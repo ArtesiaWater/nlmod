{
 "cells": [
  {
   "cell_type": "markdown",
   "metadata": {},
   "source": [
    "<IMG SRC=\"https://avatars2.githubusercontent.com/u/31697400?s=400&u=a5a6fc31ec93c07853dd53835936fd90c44f7483&v=4\" WIDTH=125 ALIGN=\"right\">\n",
    "\n",
    "    \n",
    "# Local grid refinement   \n",
    "\n",
    "*O.N. Ebbens, Artesia, 2021*\n",
    "\n",
    "This notebook shows an example of an unstructured model create with the `nlmod` package."
   ]
  },
  {
   "cell_type": "markdown",
   "metadata": {},
   "source": [
    "### Contents<a name=\"TOC\"></a>\n",
    "1. [Create model](#create)\n",
    "2. [Local grid refinement](#lgr)\n",
    "3. [Run Model](#run)\n",
    "3. [Visualise](#Visualise)"
   ]
  },
  {
   "cell_type": "code",
   "execution_count": 1,
   "metadata": {},
   "outputs": [],
   "source": [
    "import matplotlib.pyplot as plt\n",
    "import flopy\n",
    "import os\n",
    "import geopandas as gpd\n",
    "import logging\n",
    "\n",
    "import nlmod"
   ]
  },
  {
   "cell_type": "code",
   "execution_count": 2,
   "metadata": {},
   "outputs": [
    {
     "name": "stdout",
     "output_type": "stream",
     "text": [
      "nlmod version: 0.0.4b\n"
     ]
    }
   ],
   "source": [
    "print(f'nlmod version: {nlmod.__version__}')\n",
    "\n",
    "# toon informatie bij het aanroepen van functies\n",
    "logging.basicConfig(level=logging.INFO)"
   ]
  },
  {
   "cell_type": "markdown",
   "metadata": {},
   "source": [
    "### [1. Create model](#TOC)<a name=\"create\"></a>\n",
    "\n",
    "Modflow 6 makes it possible to use locally refined grids. In NLmod you can use a shapefile and a number of levels to specify where and how much you want to use local grid refinement. Below we use a shapefile of the Planetenweg in IJmuiden and set the refinement levels at 2. This well create a grid with cells of 100x100m except at the Planetenweg where the cells will be refined to 25x25m. See also figures below.\n",
    "\n",
    "Note: the `gen_model_unstructured` function also returns the `gridprops` dictionary. This contains data that is necesary to create some packages. It can be time consuming to generate this data."
   ]
  },
  {
   "cell_type": "code",
   "execution_count": 3,
   "metadata": {},
   "outputs": [],
   "source": [
    "# model settings unstructured\n",
    "model_ws = 'model3'\n",
    "model_name = 'IJm_planeten'\n",
    "refine_shp_fname = os.path.join(\n",
    "    nlmod.NLMOD_DATADIR, 'shapes', 'planetenweg_ijmuiden')\n",
    "levels = 2\n",
    "use_cache = False\n",
    "extent = [95000., 105000., 494000., 500000.]\n",
    "delr = 100.\n",
    "delc = 100.\n",
    "steady_state = False\n",
    "steady_start = True\n",
    "transient_timesteps = 5\n",
    "perlen = 1.\n",
    "start_time = '2015-1-1'\n",
    "gridtype = 'unstructured'\n",
    "use_regis = True\n",
    "regis_botm_layer = b'MSz1'\n",
    "use_geotop = True\n",
    "add_northsea = True\n",
    "starting_head = 1.0"
   ]
  },
  {
   "cell_type": "code",
   "execution_count": 4,
   "metadata": {},
   "outputs": [
    {
     "name": "stderr",
     "output_type": "stream",
     "text": [
      "INFO:nlmod.mfpackages.mfpackages:creating modflow SIM, TDIS, GWF and IMS\n",
      "INFO:nlmod.read.regis:redefining current extent: [95000.0, 105000.0, 494000.0, 500000.0], fit to regis raster\n",
      "INFO:nlmod.read.regis:new extent is [95000.0, 105000.0, 494000.0, 500000.0] model has 60 rows and 100 columns\n",
      "INFO:nlmod.util:creating and caching dataset combined_layer_ds.nc\n",
      "\n",
      "INFO:nlmod.read.regis:redefining current extent: [95000.0, 105000.0, 494000.0, 500000.0], fit to regis raster\n",
      "INFO:nlmod.read.regis:new extent is [95000.0, 105000.0, 494000.0, 500000.0] model has 60 rows and 100 columns\n",
      "INFO:nlmod.mdims.resample:resample regis data to structured modelgrid\n",
      "INFO:nlmod.read.regis:redefining current extent: [95000.0, 105000.0, 494000.0, 500000.0], fit to regis raster\n",
      "INFO:nlmod.read.regis:new extent is [95000.0, 105000.0, 494000.0, 500000.0] model has 60 rows and 100 columns\n",
      "INFO:nlmod.read.geotop:slice geotop with regis layer HLc\n",
      "INFO:nlmod.read.geotop:create kh matrix from lithoklasse and csv file\n",
      "INFO:nlmod.read.geotop:creating top and bot per geo eenheid\n",
      "INFO:nlmod.read.geotop:1000.0\n",
      "INFO:nlmod.read.geotop:1020.0\n",
      "INFO:nlmod.read.geotop:1030.0\n",
      "INFO:nlmod.read.geotop:1040.0\n",
      "INFO:nlmod.read.geotop:1050.0\n",
      "INFO:nlmod.read.geotop:1100.0\n",
      "INFO:nlmod.read.geotop:1120.0\n",
      "INFO:nlmod.read.geotop:1130.0\n",
      "INFO:nlmod.read.geotop:3030.0\n",
      "INFO:nlmod.read.geotop:3100.0\n",
      "INFO:nlmod.read.geotop:4010.0\n",
      "INFO:nlmod.read.geotop:adding stroombanen to top and bot of each layer\n",
      "INFO:nlmod.read.geotop:get kh for each layer\n",
      "INFO:nlmod.read.geotop:AAOP\n",
      "INFO:nlmod.read.geotop:NASC\n",
      "INFO:nlmod.read.geotop:ONAWA\n",
      "INFO:nlmod.read.geotop:NAZA\n",
      "INFO:nlmod.read.geotop:NAWA\n",
      "INFO:nlmod.read.geotop:NAWO\n",
      "INFO:nlmod.read.geotop:NAWOVE\n",
      "INFO:nlmod.read.geotop:NIBA\n",
      "INFO:nlmod.read.geotop:BXWISIKO\n",
      "INFO:nlmod.read.geotop:BX\n",
      "INFO:nlmod.read.geotop:KRBXDE\n",
      "INFO:nlmod.mdims.resample:resample regis data to structured modelgrid\n",
      "INFO:nlmod.read.regis:cut geotop layer based on regis holoceen\n",
      "INFO:nlmod.read.regis:regis holoceen snijdt door laag NAWO\n",
      "INFO:nlmod.read.regis:regis holoceen snijdt door laag NAWOVE\n",
      "INFO:nlmod.read.regis:regis holoceen snijdt door laag NIBA\n",
      "INFO:nlmod.read.regis:regis holoceen snijdt door laag BXWISIKO\n",
      "INFO:nlmod.read.regis:regis holoceen snijdt door laag BX\n",
      "INFO:nlmod.read.regis:regis holoceen snijdt door laag KRBXDE\n",
      "INFO:nlmod.read.regis:find active layers in raw layer model\n",
      "INFO:nlmod.read.regis:there are 40 active layers within the extent\n",
      "INFO:nlmod.read.regis:removing 40 nan layers from the model\n"
     ]
    }
   ],
   "source": [
    "# create model time dataset\n",
    "model_ds = nlmod.mdims.get_empty_model_ds(model_name, model_ws)\n",
    "model_ds = nlmod.mdims.set_model_ds_time(model_ds,\n",
    "                                         start_time,\n",
    "                                         steady_state,\n",
    "                                         steady_start=steady_start,\n",
    "                                         transient_timesteps=transient_timesteps,\n",
    "                                         perlen=perlen)\n",
    "\n",
    "# create modflow packages\n",
    "sim, gwf = nlmod.mfpackages.sim_tdis_gwf_ims_from_model_ds(model_ds)\n",
    "\n",
    "extent, nrow, ncol = nlmod.read.regis.fit_extent_to_regis(extent,\n",
    "                                                          delr,\n",
    "                                                          delc)\n",
    "\n",
    "# layer model\n",
    "layer_model = nlmod.read.regis.get_layer_models(extent, delr, delc,\n",
    "                                                use_regis=use_regis,\n",
    "                                                regis_botm_layer=regis_botm_layer,\n",
    "                                                use_geotop=use_geotop,\n",
    "                                                cachedir=model_ds.cachedir,\n",
    "                                                fname_netcdf='combined_layer_ds.nc',\n",
    "                                                use_cache=use_cache)"
   ]
  },
  {
   "cell_type": "markdown",
   "metadata": {},
   "source": [
    "### [2. Local grid refinement](#TOC)<a name=\"lgr\"></a>\n",
    "\n",
    "the code below applies a local grid refinement to the layer model. The local grid refinement is based on the shapefile 'planetenweg_ijmuiden.shp', which contains a line shape of the Planetenweg, and the levels, which is 2. This means that the model cells at the Planetenweg will get a size of 25 x 25m. "
   ]
  },
  {
   "cell_type": "code",
   "execution_count": 5,
   "metadata": {},
   "outputs": [
    {
     "name": "stderr",
     "output_type": "stream",
     "text": [
      "INFO:nlmod.mdims.mgrid:create unstructured grid using gridgen\n",
      "INFO:nlmod.mdims.mgrid:write cache for griddata data to model3\\cache\\gridprops.pklz\n",
      "INFO:nlmod.util:creating and caching dataset layer_model_unstr.nc\n",
      "\n",
      "INFO:nlmod.mdims.resample:resample regis data to unstructured modelgrid\n",
      "INFO:nlmod.mdims.mgrid:get active cells (idomain) from bottom DataArray\n",
      "INFO:nlmod.mdims.mgrid:get first active modellayer for each cell in idomain\n",
      "INFO:nlmod.mdims.mgrid:using top and bottom from model layers dataset for modflow model\n",
      "INFO:nlmod.mdims.mgrid:replace nan values for inactive layers with dummy value\n",
      "INFO:nlmod.mdims.mgrid:add kh and kv from model layer dataset to modflow model\n",
      "INFO:nlmod.mdims.mgrid:nan values at the northsea are filled using the bathymetry from jarkus\n",
      "INFO:nlmod.mfpackages.mfpackages:creating modflow SIM, TDIS, GWF and IMS\n",
      "INFO:nlmod.util:creating and caching dataset sea_model_ds.nc\n",
      "\n",
      "ERROR:fiona._env:PROJ: proj_identify: Cannot find proj.db\n",
      "INFO:fiona.ogrext:Failed to auto identify EPSG: 7\n",
      "INFO:nlmod.util:creating and caching dataset bathymetry_model_ds.nc\n",
      "\n",
      "INFO:nlmod.mdims.mgrid:get first active modellayer for each cell in idomain\n"
     ]
    }
   ],
   "source": [
    "# use gridgen to create unstructured grid\n",
    "model_ds.attrs['gridgen_ws'] = os.path.join(model_ws, 'gridgen')\n",
    "gridprops = nlmod.mdims.create_unstructured_grid(model_ds.gridgen_ws, model_name, gwf,\n",
    "                                                 [(refine_shp_fname, 'line', levels)],\n",
    "                                                 extent,\n",
    "                                                 layer_model.dims['layer'],\n",
    "                                                 nrow, ncol,\n",
    "                                                 delr, delc,\n",
    "                                                 cachedir=model_ds.cachedir, use_cache=use_cache)\n",
    "\n",
    "# add layer model to unstructured grid\n",
    "layer_model_unstr = nlmod.mdims.get_ml_layer_dataset_unstruc(raw_ds=layer_model,\n",
    "                                                             extent=extent,\n",
    "                                                             gridprops=gridprops,\n",
    "                                                             cachedir=model_ds.cachedir,\n",
    "                                                             fname_netcdf='layer_model_unstr.nc',\n",
    "                                                             use_cache=use_cache)\n",
    "\n",
    "# combine model time dataset with layer model dataset\n",
    "model_ds = nlmod.mdims.update_model_ds_from_ml_layer_ds(model_ds,\n",
    "                                                        layer_model_unstr,\n",
    "                                                        gridtype,\n",
    "                                                        keep_vars=['x', 'y'],\n",
    "                                                        gridprops=gridprops,\n",
    "                                                        add_northsea=add_northsea)\n",
    "\n",
    "# Create discretization\n",
    "disv = nlmod.mfpackages.disv_from_model_ds(model_ds, gwf, gridprops)"
   ]
  },
  {
   "cell_type": "code",
   "execution_count": 6,
   "metadata": {
    "scrolled": true
   },
   "outputs": [],
   "source": [
    "# create node property flow\n",
    "nlmod.mfpackages.npf_from_model_ds(model_ds, gwf)\n",
    "\n",
    "# Create the initial conditions package\n",
    "nlmod.mfpackages.ic_from_model_ds(model_ds, gwf, starting_head=starting_head)\n",
    "\n",
    "# Create the output control package\n",
    "oc = nlmod.mfpackages.oc_from_model_ds(model_ds, gwf)"
   ]
  },
  {
   "cell_type": "code",
   "execution_count": 7,
   "metadata": {},
   "outputs": [
    {
     "name": "stderr",
     "output_type": "stream",
     "text": [
      "INFO:nlmod.util:creating and caching dataset rws_oppwater.nc\n",
      "\n",
      "ERROR:fiona._env:PROJ: proj_identify: Cannot find proj.db\n",
      "INFO:fiona.ogrext:Failed to auto identify EPSG: 7\n",
      "INFO:nlmod.util:creating and caching dataset ahn_model_ds.nc\n",
      "\n",
      "INFO:nlmod.read.ahn:requested ahn raster width or height bigger than 4000.0\n",
      "            -> splitting extent into 3 * 2 tiles\n",
      "INFO:nlmod.read.ahn:downloading subextent [95000.0, 99000.0, 494000.0, 498000.0]\n",
      "INFO:nlmod.read.ahn:x_segment-0, y_segment-0\n",
      "INFO:nlmod.read.ahn:- from cache model3\\cache\\ahn_95000_99000_494000_498000_5000.tiff\n",
      "INFO:nlmod.read.ahn:downloading subextent [95000.0, 99000.0, 498000.0, 500000.0]\n",
      "INFO:nlmod.read.ahn:x_segment-0, y_segment-1\n",
      "INFO:nlmod.read.ahn:- from cache model3\\cache\\ahn_95000_99000_498000_500000_5000.tiff\n",
      "INFO:nlmod.read.ahn:downloading subextent [99000.0, 103000.0, 494000.0, 498000.0]\n",
      "INFO:nlmod.read.ahn:x_segment-1, y_segment-0\n",
      "INFO:nlmod.read.ahn:- from cache model3\\cache\\ahn_99000_103000_494000_498000_5000.tiff\n",
      "INFO:nlmod.read.ahn:downloading subextent [99000.0, 103000.0, 498000.0, 500000.0]\n",
      "INFO:nlmod.read.ahn:x_segment-1, y_segment-1\n",
      "INFO:nlmod.read.ahn:- from cache model3\\cache\\ahn_99000_103000_498000_500000_5000.tiff\n",
      "INFO:nlmod.read.ahn:downloading subextent [103000.0, 105000.0, 494000.0, 498000.0]\n",
      "INFO:nlmod.read.ahn:x_segment-2, y_segment-0\n",
      "INFO:nlmod.read.ahn:- from cache model3\\cache\\ahn_103000_105000_494000_498000_5000.tiff\n",
      "INFO:nlmod.read.ahn:downloading subextent [103000.0, 105000.0, 498000.0, 500000.0]\n",
      "INFO:nlmod.read.ahn:x_segment-2, y_segment-1\n",
      "INFO:nlmod.read.ahn:- from cache model3\\cache\\ahn_103000_105000_498000_500000_5000.tiff\n"
     ]
    }
   ],
   "source": [
    "# voeg grote oppervlaktewaterlichamen toe\n",
    "da_name = 'rws_oppwater'\n",
    "model_ds = nlmod.read.rws.get_sea_and_lakes(model_ds,\n",
    "                                            gwf.modelgrid,\n",
    "                                            da_name,\n",
    "                                            use_cache=use_cache)\n",
    "ghb = nlmod.mfpackages.ghb_from_model_ds(model_ds, gwf, da_name)\n",
    "\n",
    "# surface level drain\n",
    "model_ds = nlmod.read.ahn.get_ahn_dataset(model_ds, gridprops=gridprops,\n",
    "                                          use_cache=use_cache)\n",
    "\n",
    "drn = nlmod.mfpackages.surface_drain_from_model_ds(model_ds, gwf)\n",
    "\n",
    "\n",
    "# add constant head cells at model boundaries\n",
    "chd = nlmod.mfpackages.chd_at_model_edge_from_model_ds(\n",
    "    model_ds, gwf, head='starting_head')"
   ]
  },
  {
   "cell_type": "code",
   "execution_count": 8,
   "metadata": {},
   "outputs": [
    {
     "name": "stderr",
     "output_type": "stream",
     "text": [
      "INFO:nlmod.util:creating and caching dataset rch_model_ds.nc\n",
      "\n",
      "INFO:numexpr.utils:NumExpr defaulting to 8 threads.\n",
      "Building ts packages rch: 100%|██████████████████████████████████████████████████████████| 4/4 [00:00<00:00, 57.26it/s]\n"
     ]
    }
   ],
   "source": [
    "# add knmi recharge to the model datasets\n",
    "model_ds = nlmod.read.knmi.get_recharge(model_ds, use_cache=use_cache)\n",
    "\n",
    "# create recharge package\n",
    "rch = nlmod.mfpackages.rch_from_model_ds(model_ds, gwf)"
   ]
  },
  {
   "cell_type": "code",
   "execution_count": 9,
   "metadata": {},
   "outputs": [],
   "source": [
    "# save model_ds\n",
    "model_ds.to_netcdf(os.path.join(model_ds.cachedir, 'full_model_ds.nc'))"
   ]
  },
  {
   "cell_type": "markdown",
   "metadata": {},
   "source": [
    "### [3. Write and Run](#TOC)<a name=\"run\"></a>\n"
   ]
  },
  {
   "cell_type": "code",
   "execution_count": 10,
   "metadata": {},
   "outputs": [
    {
     "name": "stderr",
     "output_type": "stream",
     "text": [
      "INFO:nlmod.util:write script 2021081803_local_grid_refinement.ipynb to model workspace\n",
      "INFO:nlmod.util:write model dataset to cache\n",
      "INFO:nlmod.util:write modflow files to model workspace\n"
     ]
    },
    {
     "name": "stdout",
     "output_type": "stream",
     "text": [
      "writing simulation...\n",
      "  writing simulation name file...\n",
      "  writing simulation tdis package...\n",
      "  writing ims package ims...\n",
      "  writing model IJm_planeten...\n",
      "    writing model name file...\n",
      "    writing package disv...\n",
      "    writing package npf...\n",
      "    writing package ic...\n",
      "    writing package oc...\n",
      "    writing package ghb_0...\n",
      "    writing package drn_0...\n",
      "    writing package chd...\n",
      "    writing package rch...\n"
     ]
    },
    {
     "name": "stderr",
     "output_type": "stream",
     "text": [
      "INFO:nlmod.util:run model\n"
     ]
    },
    {
     "name": "stdout",
     "output_type": "stream",
     "text": [
      "    writing package ts_0...\n",
      "    writing package ts_1...\n",
      "    writing package ts_2...\n",
      "    writing package ts_3...\n",
      "FloPy is using the following  executable to run the model: c:\\users\\oebbe\\02_python\\nlmod\\nlmod\\mfpackages\\..\\..\\bin\\mf6.exe\n",
      "                                   MODFLOW 6\n",
      "                U.S. GEOLOGICAL SURVEY MODULAR HYDROLOGIC MODEL\n",
      "                            VERSION 6.2.1 02/18/2021\n",
      "\n",
      "   MODFLOW 6 compiled Feb 18 2021 21:14:51 with IFORT compiler (ver. 19.10.3)\n",
      "\n",
      "This software has been approved for release by the U.S. Geological \n",
      "Survey (USGS). Although the software has been subjected to rigorous \n",
      "review, the USGS reserves the right to update the software as needed \n",
      "pursuant to further analysis and review. No warranty, expressed or \n",
      "implied, is made by the USGS or the U.S. Government as to the \n",
      "functionality of the software and related material nor shall the \n",
      "fact of release constitute any such warranty. Furthermore, the \n",
      "software is released on condition that neither the USGS nor the U.S. \n",
      "Government shall be held liable for any damages resulting from its \n",
      "authorized or unauthorized use. Also refer to the USGS Water \n",
      "Resources Software User Rights Notice for complete use, copyright, \n",
      "and distribution information.\n",
      "\n",
      " \n",
      " Run start date and time (yyyy/mm/dd hh:mm:ss): 2021/08/18 12:24:12\n",
      " \n",
      " Writing simulation list file: mfsim.lst\n",
      " Using Simulation name file: mfsim.nam\n",
      " \n",
      "    Solving:  Stress period:     1    Time step:     1\n",
      "    Solving:  Stress period:     2    Time step:     1\n",
      "    Solving:  Stress period:     3    Time step:     1\n",
      "    Solving:  Stress period:     4    Time step:     1\n",
      "    Solving:  Stress period:     5    Time step:     1\n",
      "    Solving:  Stress period:     6    Time step:     1\n",
      " \n",
      " Run end date and time (yyyy/mm/dd hh:mm:ss): 2021/08/18 12:24:20\n",
      " Elapsed run time:  8.035 Seconds\n",
      " \n",
      " Normal termination of simulation.\n"
     ]
    }
   ],
   "source": [
    "nlmod.util.write_and_run_model(gwf, model_ds, write_model_ds=True, nb_path='03_local_grid_refinement.ipynb')"
   ]
  },
  {
   "cell_type": "markdown",
   "metadata": {},
   "source": [
    "### [4. Visualise](#TOC)<a name=\"visualise\"></a>\n",
    "\n",
    "Using the `model_ds` and `gwf` variables it is quite easy to visualise model data. Below the modelgrid together with the surface water is shown."
   ]
  },
  {
   "cell_type": "code",
   "execution_count": 11,
   "metadata": {},
   "outputs": [
    {
     "name": "stderr",
     "output_type": "stream",
     "text": [
      "ERROR:fiona._env:PROJ: proj_identify: Cannot find proj.db\n",
      "INFO:fiona.ogrext:Failed to auto identify EPSG: 7\n",
      "ERROR:fiona._env:PROJ: proj_identify: Cannot find proj.db\n",
      "INFO:fiona.ogrext:Failed to auto identify EPSG: 7\n"
     ]
    },
    {
     "ename": "NameError",
     "evalue": "name 'figdir' is not defined",
     "output_type": "error",
     "traceback": [
      "\u001b[1;31m---------------------------------------------------------------------------\u001b[0m",
      "\u001b[1;31mNameError\u001b[0m                                 Traceback (most recent call last)",
      "\u001b[1;32m<ipython-input-11-0874d14e2a66>\u001b[0m in \u001b[0;36m<module>\u001b[1;34m\u001b[0m\n\u001b[0;32m      5\u001b[0m \u001b[0mplan_weg_gdf\u001b[0m\u001b[1;33m.\u001b[0m\u001b[0mplot\u001b[0m\u001b[1;33m(\u001b[0m\u001b[0max\u001b[0m\u001b[1;33m=\u001b[0m\u001b[0max\u001b[0m\u001b[1;33m,\u001b[0m \u001b[0mcolor\u001b[0m\u001b[1;33m=\u001b[0m\u001b[1;34m'r'\u001b[0m\u001b[1;33m,\u001b[0m \u001b[0mlabel\u001b[0m\u001b[1;33m=\u001b[0m\u001b[1;34m'Planetenweg'\u001b[0m\u001b[1;33m)\u001b[0m\u001b[1;33m\u001b[0m\u001b[1;33m\u001b[0m\u001b[0m\n\u001b[0;32m      6\u001b[0m \u001b[0max\u001b[0m\u001b[1;33m.\u001b[0m\u001b[0mlegend\u001b[0m\u001b[1;33m(\u001b[0m\u001b[1;33m)\u001b[0m\u001b[1;33m\u001b[0m\u001b[1;33m\u001b[0m\u001b[0m\n\u001b[1;32m----> 7\u001b[1;33m \u001b[0max\u001b[0m\u001b[1;33m.\u001b[0m\u001b[0mget_figure\u001b[0m\u001b[1;33m(\u001b[0m\u001b[1;33m)\u001b[0m\u001b[1;33m.\u001b[0m\u001b[0msavefig\u001b[0m\u001b[1;33m(\u001b[0m\u001b[0mos\u001b[0m\u001b[1;33m.\u001b[0m\u001b[0mpath\u001b[0m\u001b[1;33m.\u001b[0m\u001b[0mjoin\u001b[0m\u001b[1;33m(\u001b[0m\u001b[0mfigdir\u001b[0m\u001b[1;33m,\u001b[0m \u001b[1;34m'mgrid_swater.png'\u001b[0m\u001b[1;33m)\u001b[0m\u001b[1;33m,\u001b[0m \u001b[0mbbox_inches\u001b[0m\u001b[1;33m=\u001b[0m\u001b[1;34m'tight'\u001b[0m\u001b[1;33m)\u001b[0m\u001b[1;33m\u001b[0m\u001b[1;33m\u001b[0m\u001b[0m\n\u001b[0m\u001b[0;32m      8\u001b[0m \u001b[1;33m\u001b[0m\u001b[0m\n\u001b[0;32m      9\u001b[0m \u001b[1;31m# plot zoomed modelgrid\u001b[0m\u001b[1;33m\u001b[0m\u001b[1;33m\u001b[0m\u001b[1;33m\u001b[0m\u001b[0m\n",
      "\u001b[1;31mNameError\u001b[0m: name 'figdir' is not defined"
     ]
    },
    {
     "data": {
      "image/png": "[encoded data removed]",
      "text/plain": [
       "<Figure size 720x720 with 1 Axes>"
      ]
     },
     "metadata": {
      "needs_background": "light"
     },
     "output_type": "display_data"
    }
   ],
   "source": [
    "plan_weg_gdf = gpd.read_file(refine_shp_fname+'.shp')\n",
    "\n",
    "# plot modelgrid\n",
    "ax = nlmod.plots.plot_modelgrid(model_ds, gwf)\n",
    "plan_weg_gdf.plot(ax=ax, color='r', label='Planetenweg')\n",
    "ax.legend()\n",
    "ax.get_figure().savefig(os.path.join(figdir, 'mgrid_swater.png'), bbox_inches='tight')\n",
    "\n",
    "# plot zoomed modelgrid\n",
    "ax = nlmod.plots.plot_modelgrid(model_ds, gwf)\n",
    "ax.set_title('Planetenweg')\n",
    "plan_weg_gdf.plot(ax=ax, color='r', label='Planetenweg')\n",
    "ax.set_xlim(100000, 103000)\n",
    "ax.set_ylim(495000, 497500)\n",
    "ax.legend()\n",
    "ax.get_figure().savefig(os.path.join(model_ds.figdir, 'Planetenweg.png'), bbox_inches='tight')"
   ]
  },
  {
   "cell_type": "markdown",
   "metadata": {},
   "source": [
    "The model dataset of an unstructured model differs from a structured model dataset. The data is stored relative to the cell-id instead of the row and column number. Therefore the model dataset has the dimension cid instead of the dimensions x and y. "
   ]
  },
  {
   "cell_type": "code",
   "execution_count": null,
   "metadata": {},
   "outputs": [],
   "source": [
    "model_ds"
   ]
  },
  {
   "cell_type": "markdown",
   "metadata": {},
   "source": [
    "To plot the same rasters as for the previous model we can use the `nlmod.plots.plot_array()` function."
   ]
  },
  {
   "cell_type": "code",
   "execution_count": null,
   "metadata": {},
   "outputs": [],
   "source": [
    "fig, axes = plt.subplots(nrows=2, ncols=2, figsize=(14, 11))\n",
    "nlmod.plots.plot_array(gwf, model_ds['ahn'], ax=axes[0][0])\n",
    "nlmod.plots.plot_array(gwf, model_ds['bot'][0], ax=axes[0][1])\n",
    "nlmod.plots.plot_array(gwf, model_ds['idomain'][0], ax=axes[1][0])\n",
    "nlmod.plots.plot_array(gwf, model_ds['chd'][0], ax=axes[1][1])\n",
    "for axes1 in axes:\n",
    "    for ax in axes1:\n",
    "        ax.axis('scaled')\n",
    "\n",
    "fig.savefig(os.path.join(model_ds.figdir, 'ahn_bot_idom_chd.png'), bbox_inches='tight')\n",
    "\n",
    "fig, axes = plt.subplots(nrows=2, ncols=2, figsize=(14, 11))\n",
    "nlmod.plots.plot_array(gwf, model_ds['bathymetry'], ax=axes[0][0])\n",
    "nlmod.plots.plot_array(gwf, model_ds['northsea'], ax=axes[0][1])\n",
    "nlmod.plots.plot_array(gwf, model_ds['kh'][1], ax=axes[1][0])\n",
    "nlmod.plots.plot_array(gwf, model_ds['recharge'][:, 0], ax=axes[1][1])\n",
    "\n",
    "for axes1 in axes:\n",
    "    for ax in axes1:\n",
    "        ax.axis('scaled')\n",
    "fig.savefig(os.path.join(model_ds.figdir, 'bath_nsea_kh_rch.png'), bbox_inches='tight')"
   ]
  },
  {
   "cell_type": "code",
   "execution_count": null,
   "metadata": {},
   "outputs": [],
   "source": []
  }
 ],
 "metadata": {
  "CodeCell": {
   "cm_config": {
    "lineWrapping": true
   }
  },
  "MarkdownCell": {
   "cm_config": {
    "lineWrapping": true
   }
  },
  "anaconda-cloud": {},
  "kernelspec": {
   "display_name": "nlmod",
   "language": "python",
   "name": "nlmod"
  },
  "language_info": {
   "codemirror_mode": {
    "name": "ipython",
    "version": 3
   },
   "file_extension": ".py",
   "mimetype": "text/x-python",
   "name": "python",
   "nbconvert_exporter": "python",
   "pygments_lexer": "ipython3",
   "version": "3.9.4"
  },
  "widgets": {
   "state": {},
   "version": "1.1.2"
  }
 },
 "nbformat": 4,
 "nbformat_minor": 4
}
