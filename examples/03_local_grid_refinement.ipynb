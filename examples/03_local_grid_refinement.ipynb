{
 "cells": [
  {
   "cell_type": "markdown",
   "metadata": {},
   "source": [
    "\n",
    "\n",
    "<figure>\n",
    "   <IMG SRC=\"https://avatars2.githubusercontent.com/u/31697400?s=400&u=a5a6fc31ec93c07853dd53835936fd90c44f7483&v=4\" WIDTH=125 ALIGN=\"right\">\n",
    "</figure>\n",
    "    \n",
    "# Local grid refinement   \n",
    "\n",
    "This notebook shows an example of an unstructured model create with the `nlmod` package."
   ]
  },
  {
   "cell_type": "markdown",
   "metadata": {},
   "source": [
    "### Table of contents\n",
    "1. [Create model](#create)\n",
    "2. [Run model](#run)\n",
    "3. [Visualise](#Visualise)"
   ]
  },
  {
   "cell_type": "code",
   "execution_count": 1,
   "metadata": {},
   "outputs": [
    {
     "name": "stdout",
     "output_type": "stream",
     "text": [
      "nlmod version: 0.0.1b\n"
     ]
    }
   ],
   "source": [
    "import matplotlib.pyplot as plt\n",
    "import flopy\n",
    "import os\n",
    "import geopandas as gpd\n",
    "\n",
    "import nlmod\n",
    "\n",
    "print(f'nlmod version: {nlmod.__version__}')"
   ]
  },
  {
   "cell_type": "markdown",
   "metadata": {},
   "source": [
    "### 1. Create model<a name=\"create\"></a>\n",
    "\n",
    "Modflow 6 makes it possible to use locally refined grids. In NLmod you can use a shapefile and a number of levels to specify where and how much you want to use local grid refinement. Below we use a shapefile of the Planetenweg in IJmuiden and set the refinement levels at 2. This well create a grid with cells of 100x100m except at the Planetenweg where the cells will be refined to 25x25m. See also figures below.\n",
    "\n",
    "Note: the `gen_model_unstructured` function also returns the `gridprops` dictionary. This contains data that is necesary to create some packages. It can be time consuming to generate this data."
   ]
  },
  {
   "cell_type": "code",
   "execution_count": 2,
   "metadata": {},
   "outputs": [],
   "source": [
    "# model settings unstructured\n",
    "model_ws = 'model2'\n",
    "model_name = 'IJm_planeten'\n",
    "refine_shp_fname = os.path.join(nlmod.nlmod_datadir, 'shapes', 'planetenweg_ijmuiden')\n",
    "levels=2\n",
    "use_cache=False\n",
    "extent=[95000., 105000., 494000., 500000.]\n",
    "delr=100.\n",
    "delc=100.\n",
    "steady_state=False\n",
    "steady_start=True\n",
    "transient_timesteps=5\n",
    "perlen=1.\n",
    "verbose=True\n",
    "start_time='2015-1-1'\n",
    "gridtype = 'unstructured'\n",
    "use_regis=True\n",
    "regis_botm_layer=b'MSz1'\n",
    "use_geotop=True\n",
    "add_northsea=True\n",
    "starting_head=1.0"
   ]
  },
  {
   "cell_type": "code",
   "execution_count": null,
   "metadata": {},
   "outputs": [
    {
     "name": "stdout",
     "output_type": "stream",
     "text": [
      "creating modflow SIM, TDIS, GWF and IMS\n",
      "redefining current extent: [95000.0, 105000.0, 494000.0, 500000.0], fit to regis raster\n",
      "new extent is [95000.0, 105000.0, 494000.0, 500000.0] model has 60 rows and 100 columns\n",
      "creating and caching dataset combined_layer_ds.nc\n",
      "\n"
     ]
    }
   ],
   "source": [
    "# Model directories\n",
    "figdir, cachedir, gridgen_ws = nlmod.util.get_model_dirs(model_ws, gridtype=gridtype)\n",
    "\n",
    "\n",
    "# create model time dataset\n",
    "model_ds = nlmod.mdims.get_model_ds_time(model_name, model_ws, start_time,\n",
    "                                         steady_state, steady_start=steady_start,\n",
    "                                         transient_timesteps=transient_timesteps,\n",
    "                                         perlen=perlen)\n",
    "\n",
    "# create modflow packages\n",
    "sim, gwf = nlmod.mfpackages.sim_tdis_gwf_ims_from_model_ds(model_ds,\n",
    "                                                           verbose=verbose)\n",
    "\n",
    "extent, nrow, ncol = nlmod.read.regis.fit_extent_to_regis(extent,\n",
    "                                                          delr,\n",
    "                                                          delc, verbose=verbose)\n",
    "\n",
    "# layer model\n",
    "layer_model = nlmod.read.regis.get_layer_models(extent, delr, delc,\n",
    "                                                use_regis=use_regis,\n",
    "                                                regis_botm_layer=regis_botm_layer,\n",
    "                                                use_geotop=use_geotop,\n",
    "                                                cachedir=cachedir,\n",
    "                                                fname_netcdf='combined_layer_ds.nc',\n",
    "                                                use_cache=use_cache,\n",
    "                                                verbose=verbose)\n"
   ]
  },
  {
   "cell_type": "markdown",
   "metadata": {},
   "source": [
    "### Local grid refinement\n",
    "\n",
    "the code below applies a local grid refinement to the layer model. The local grid refinement is based on the shapefile 'planetenweg_ijmuiden.shp', which contains a line shape of the Planetenweg, and the levels, which is 2. This means that the model cells at the Planetenweg will get a size of 25 x 25m. "
   ]
  },
  {
   "cell_type": "code",
   "execution_count": null,
   "metadata": {
    "scrolled": true
   },
   "outputs": [],
   "source": [
    "# use gridgen to create unstructured grid\n",
    "gridprops = nlmod.mdims.create_unstructured_grid(gridgen_ws, model_name, gwf,\n",
    "                                                 [(refine_shp_fname, 'line', levels)], \n",
    "                                                 extent,\n",
    "                                                 layer_model.dims['layer'],\n",
    "                                                 nrow, ncol,\n",
    "                                                 delr, delc,\n",
    "                                                 cachedir=cachedir, use_cache=use_cache,\n",
    "                                                 verbose=verbose)\n",
    "\n",
    "# add layer model to unstructured grid\n",
    "layer_model_unstr = nlmod.mdims.get_ml_layer_dataset_unstruc(raw_ds=layer_model,\n",
    "                                                            extent=extent,\n",
    "                                                            gridprops=gridprops,\n",
    "                                                            cachedir=cachedir,\n",
    "                                                            fname_netcdf='layer_model_unstr.nc',\n",
    "                                                            use_cache=use_cache,\n",
    "                                                            verbose=verbose)\n",
    "\n",
    "# combine model time dataset with layer model dataset\n",
    "model_ds = nlmod.mdims.update_model_ds_from_ml_layer_ds(model_ds,\n",
    "                                                          layer_model_unstr,\n",
    "                                                          gridtype,\n",
    "                                                          keep_vars=['x', 'y'],\n",
    "                                                          gridprops=gridprops,\n",
    "                                                          add_northsea=add_northsea,\n",
    "                                                          verbose=verbose)\n",
    "\n",
    "# Create discretization\n",
    "disv = nlmod.mfpackages.disv_from_model_ds(model_ds, gwf, gridprops)"
   ]
  },
  {
   "cell_type": "code",
   "execution_count": null,
   "metadata": {
    "scrolled": true
   },
   "outputs": [],
   "source": [
    "# create node property flow\n",
    "nlmod.mfpackages.npf_from_model_ds(model_ds, gwf)\n",
    "\n",
    "# Create the initial conditions package\n",
    "nlmod.mfpackages.ic_from_model_ds(model_ds, gwf, starting_head=starting_head)\n",
    "\n",
    "# Create the output control package\n",
    "oc = nlmod.mfpackages.oc_from_model_ds(model_ds, gwf)"
   ]
  },
  {
   "cell_type": "code",
   "execution_count": null,
   "metadata": {},
   "outputs": [],
   "source": [
    "# voeg grote oppervlaktewaterlichamen toe\n",
    "da_name = 'surface_water'\n",
    "model_ds = nlmod.mfpackages.surface_water.get_general_head_boundary(model_ds,\n",
    "                                                                    gwf.modelgrid,\n",
    "                                                                    da_name,\n",
    "                                                                    cachedir=cachedir,\n",
    "                                                                    use_cache=use_cache,\n",
    "                                                                    verbose=verbose)\n",
    "ghb = nlmod.mfpackages.ghb_from_model_ds(model_ds, gwf, da_name)\n",
    "\n",
    "# surface level drain\n",
    "model_ds = nlmod.read.ahn.get_ahn_dataset(model_ds, gridprops=gridprops,\n",
    "                                          use_cache=use_cache,\n",
    "                                           cachedir=cachedir, verbose=verbose)\n",
    "\n",
    "drn = nlmod.mfpackages.surface_drain_from_model_ds(model_ds, gwf)\n",
    "\n",
    "\n",
    "\n",
    "# add constant head cells at model boundaries\n",
    "chd = nlmod.mfpackages.chd_at_model_edge_from_model_ds(model_ds, gwf, head='starting_head')"
   ]
  },
  {
   "cell_type": "code",
   "execution_count": null,
   "metadata": {},
   "outputs": [],
   "source": [
    "# add knmi recharge to the model datasets\n",
    "model_ds = nlmod.read.knmi.get_recharge(model_ds,\n",
    "                                  verbose=verbose,\n",
    "                                  cachedir=cachedir,\n",
    "                                  use_cache=use_cache)\n",
    "# create recharge package\n",
    "rch = nlmod.mfpackages.rch_from_model_ds(model_ds, gwf)"
   ]
  },
  {
   "cell_type": "code",
   "execution_count": null,
   "metadata": {},
   "outputs": [],
   "source": [
    "# save model_ds\n",
    "model_ds.to_netcdf(os.path.join(cachedir, 'full_model_ds.nc'))"
   ]
  },
  {
   "cell_type": "markdown",
   "metadata": {},
   "source": [
    "### 2. Run<a name=\"run\"></a>\n",
    "The model that we've created has not been runned yet. When you want to save and run the model you can use the code below.\n",
    "\n",
    "Note: You always have to write the modflow data to the model workspace before you can run the model. "
   ]
  },
  {
   "cell_type": "code",
   "execution_count": null,
   "metadata": {},
   "outputs": [],
   "source": [
    "gwf.simulation.write_simulation()\n",
    "gwf.simulation.run_simulation()"
   ]
  },
  {
   "cell_type": "markdown",
   "metadata": {},
   "source": [
    "### 3. Visualise<a name=\"visualise\"></a>\n",
    "\n",
    "Using the `model_ds` and `gwf` variables it is quite easy to visualise model data. Below the modelgrid together with the surface water is shown."
   ]
  },
  {
   "cell_type": "code",
   "execution_count": null,
   "metadata": {},
   "outputs": [],
   "source": [
    "plan_weg_gdf= gpd.read_file(refine_shp_fname+'.shp')\n",
    "\n",
    "# plot modelgrid\n",
    "ax = nlmod.plots.plot_modelgrid(model_ds, gwf)\n",
    "plan_weg_gdf.plot(ax=ax, color='r', label='Planetenweg')\n",
    "ax.legend()\n",
    "ax.get_figure().savefig(os.path.join(figdir, 'mgrid_swater.png'), bbox_inches='tight')\n",
    "\n",
    "# plot zoomed modelgrid\n",
    "ax = nlmod.plots.plot_modelgrid(model_ds, gwf)\n",
    "ax.set_title('Planetenweg')\n",
    "plan_weg_gdf.plot(ax=ax, color='r', label='Planetenweg')\n",
    "ax.set_xlim(100000, 103000)\n",
    "ax.set_ylim(495000,497500)\n",
    "ax.legend()\n",
    "ax.get_figure().savefig(os.path.join(figdir, 'Planetenweg.png'), bbox_inches='tight')"
   ]
  },
  {
   "cell_type": "markdown",
   "metadata": {},
   "source": [
    "The model dataset of an unstructured model differs from a structured model dataset. The data is stored relative to the cell-id instead of the row and column number. Therefore the model dataset has the dimension cid instead of the dimensions x and y. "
   ]
  },
  {
   "cell_type": "code",
   "execution_count": null,
   "metadata": {},
   "outputs": [],
   "source": [
    "model_ds"
   ]
  },
  {
   "cell_type": "markdown",
   "metadata": {},
   "source": [
    "To plot the same rasters as for the previous model we can use the `nlmod.plots.plot_array()` function."
   ]
  },
  {
   "cell_type": "code",
   "execution_count": null,
   "metadata": {},
   "outputs": [],
   "source": [
    "fig, axes = plt.subplots(nrows=2, ncols=2, figsize=(14,11))\n",
    "nlmod.plots.plot_array(gwf, model_ds['ahn'], ax=axes[0][0])\n",
    "nlmod.plots.plot_array(gwf, model_ds['bot'][0],ax=axes[0][1])\n",
    "nlmod.plots.plot_array(gwf, model_ds['idomain'][0],ax=axes[1][0])\n",
    "nlmod.plots.plot_array(gwf, model_ds['chd'][0],ax=axes[1][1])\n",
    "for axes1 in axes:\n",
    "    for ax in axes1:\n",
    "        ax.axis('scaled')\n",
    "\n",
    "fig.savefig(os.path.join(figdir, 'ahn_bot_idom_chd.png'), bbox_inches='tight')        \n",
    "        \n",
    "fig, axes = plt.subplots(nrows=2, ncols=2, figsize=(14,11))\n",
    "nlmod.plots.plot_array(gwf, model_ds['bathymetry'],ax=axes[0][0])\n",
    "nlmod.plots.plot_array(gwf, model_ds['northsea'],ax=axes[0][1])\n",
    "nlmod.plots.plot_array(gwf, model_ds['kh'][1],ax=axes[1][0])\n",
    "nlmod.plots.plot_array(gwf, model_ds['recharge'][:,0],ax=axes[1][1])\n",
    "\n",
    "for axes1 in axes:\n",
    "    for ax in axes1:\n",
    "        ax.axis('scaled')\n",
    "fig.savefig(os.path.join(figdir, 'bath_nsea_kh_rch.png'), bbox_inches='tight')        "
   ]
  }
 ],
 "metadata": {
  "CodeCell": {
   "cm_config": {
    "lineWrapping": true
   }
  },
  "MarkdownCell": {
   "cm_config": {
    "lineWrapping": true
   }
  },
  "anaconda-cloud": {},
  "kernelspec": {
   "display_name": "nhflopy",
   "language": "python",
   "name": "nhflopy"
  },
  "language_info": {
   "codemirror_mode": {
    "name": "ipython",
    "version": 3
   },
   "file_extension": ".py",
   "mimetype": "text/x-python",
   "name": "python",
   "nbconvert_exporter": "python",
   "pygments_lexer": "ipython3",
   "version": "3.7.7"
  },
  "widgets": {
   "state": {},
   "version": "1.1.2"
  }
 },
 "nbformat": 4,
 "nbformat_minor": 4
}
