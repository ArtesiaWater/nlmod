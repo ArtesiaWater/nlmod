{
 "cells": [
  {
   "cell_type": "markdown",
   "id": "3a252814",
   "metadata": {},
   "source": [
    "<IMG SRC=\"https://avatars2.githubusercontent.com/u/31697400?s=400&u=a5a6fc31ec93c07853dd53835936fd90c44f7483&v=4\" WIDTH=125 ALIGN=\"right\">\n",
    "\n",
    "\n",
    "\n",
    "# Surface water example\n",
    "   \n",
    "*D.A. Brakenhoff, Artesia, 2020*\n",
    "\n",
    "This example notebook shows some how to add surface water defined in a shapefile to a MODFLOW model using the `nlmod` package.\n",
    "    \n",
    "    \n",
    "### Contents<a id='top'></a>\n",
    "\n",
    "1. [Load data](#1)\n",
    "2. [Build model](#2)\n",
    "3. [Add surface water](#3)\n",
    "    1. [Intersect surface water shape with grid](#3.1)\n",
    "    2. [Aggregate parameters per model cell](#3.2)\n",
    "    3. [Build stress period data](#3.3)\n",
    "    4. [Create RIV package](#3.4)\n",
    "4. [Write + run model](#4)\n",
    "5. [Visualize results](#5)\n",
    "\n",
    "### TODO:\n",
    "\n",
    "- Transient boundary conditions (i.e. functionality to use strings for parameters and write timeseries)"
   ]
  },
  {
   "cell_type": "code",
   "execution_count": null,
   "id": "a13eab81",
   "metadata": {},
   "outputs": [],
   "source": [
    "import os\n",
    "import numpy as np\n",
    "import matplotlib.pyplot as plt\n",
    "import geopandas as gpd\n",
    "import flopy\n",
    "import logging\n",
    "\n",
    "import nlmod"
   ]
  },
  {
   "cell_type": "code",
   "execution_count": null,
   "id": "be54846a",
   "metadata": {},
   "outputs": [],
   "source": [
    "print(f'nlmod version: {nlmod.__version__}')\n",
    "\n",
    "# toon informatie bij het aanroepen van functies\n",
    "logging.basicConfig(level=logging.INFO)"
   ]
  },
  {
   "cell_type": "markdown",
   "id": "60cd770c",
   "metadata": {},
   "source": [
    "## [1. Load data](#top)<a id='1'></a>\n",
    "Load shapefile with surface water features. "
   ]
  },
  {
   "cell_type": "code",
   "execution_count": null,
   "id": "411c7323",
   "metadata": {},
   "outputs": [],
   "source": [
    "sfw = gpd.read_file(\"../data/shapes/schnhvn_opp_water.shp\")\n",
    "# vervang peilvak_id met None door 'None'\n",
    "sfw.loc[sfw.peilvak_id.isna(), 'peilvak_id'] = 'None'"
   ]
  },
  {
   "cell_type": "markdown",
   "id": "6a0ac1f0",
   "metadata": {},
   "source": [
    "Take a look at the first few rows. For adding surface water features to a MODFLOW model the following attributes must be present:\n",
    "\n",
    "- **stage**: the water level (in m NAP)\n",
    "- **botm**: the bottom elevation (in m NAP)\n",
    "- **c0**: the bottom resistance (in days)\n",
    "\n",
    "The `stage` and the `botm` columns are present in our dataset. The bottom resistance `c0` is rarely known, and is usually estimated when building the model. We will add our estimate later on.\n",
    "\n",
    "*__Note__: the NaN's in the dataset indicate that not all parameters are known for each feature. This is not necessarily a problem but this will mean some features will not be converted to model input.*"
   ]
  },
  {
   "cell_type": "markdown",
   "id": "7ec5af83",
   "metadata": {},
   "source": [
    "Plot the surface water features using the column `peilvak_id` to color the features. "
   ]
  },
  {
   "cell_type": "code",
   "execution_count": null,
   "id": "7780e8fb",
   "metadata": {},
   "outputs": [],
   "source": [
    "fig, ax = plt.subplots(1, 1, figsize=(10, 8))\n",
    "ax.set_aspect(\"equal\", adjustable=\"box\")\n",
    "sfw.plot(ax=ax, column=\"peilvak_id\")\n",
    "ax.grid(b=True)\n",
    "ax.set_xlabel(\"X (m RD)\")\n",
    "ax.set_ylabel(\"Y (m RD)\")\n",
    "plt.yticks(rotation=90, va=\"center\")\n",
    "fig.tight_layout()"
   ]
  },
  {
   "cell_type": "markdown",
   "id": "f158267f",
   "metadata": {},
   "source": [
    "Now use `stage` as the column to color the data. Note the missing features caused by the fact that the stage is undefined (NaN)."
   ]
  },
  {
   "cell_type": "code",
   "execution_count": null,
   "id": "17d75fcb",
   "metadata": {},
   "outputs": [],
   "source": [
    "fig, ax = plt.subplots(1, 1, figsize=(10, 8))\n",
    "ax.set_aspect(\"equal\", adjustable=\"box\")\n",
    "sfw.plot(ax=ax, column=\"stage\", legend=True)\n",
    "ax.grid(b=True)\n",
    "ax.set_xlabel(\"X (m RD)\")\n",
    "ax.set_ylabel(\"Y (m RD)\")\n",
    "plt.yticks(rotation=90, va=\"center\")\n",
    "fig.tight_layout()"
   ]
  },
  {
   "cell_type": "markdown",
   "id": "03610316",
   "metadata": {},
   "source": [
    "## [2. Build model](#top)<a id='2'></a>\n",
    "\n",
    "The next step is to define a model grid and build a model (i.e. create a discretization and define flow parameters). First we define the extent of our model and subsequently input that information into the convenient methods in `nlmod` to download all the relevant data and create a Modflow6 model. "
   ]
  },
  {
   "cell_type": "code",
   "execution_count": null,
   "id": "34ff7b0a",
   "metadata": {},
   "outputs": [],
   "source": [
    "extent = [115900, 121000, 436600, 442000]  # Schoonhoven"
   ]
  },
  {
   "cell_type": "markdown",
   "id": "24523f79",
   "metadata": {},
   "source": [
    "Build the model. We're keeping the model as simple as possible."
   ]
  },
  {
   "cell_type": "code",
   "execution_count": null,
   "id": "9bc8b375",
   "metadata": {},
   "outputs": [],
   "source": [
    "use_cache = True\n",
    "model_name = \"model2\"\n",
    "model_ws = \"./model2\"\n",
    "\n",
    "delr = delc = 50.0\n",
    "start_time = \"2021-01-01\""
   ]
  },
  {
   "cell_type": "code",
   "execution_count": null,
   "id": "4b48338c",
   "metadata": {},
   "outputs": [],
   "source": [
    "# create model time dataset\n",
    "model_ds = nlmod.mdims.get_empty_model_ds(model_name, model_ws)\n",
    "model_ds = nlmod.mdims.set_model_ds_time(model_ds,\n",
    "                                         start_time=start_time,\n",
    "                                         steady_state=True)\n",
    "\n",
    "\n",
    "extent, nrow, ncol = nlmod.read.regis.fit_extent_to_regis(extent, delr, delc)\n",
    "\n",
    "# layer model\n",
    "layer_model = nlmod.read.regis.get_combined_layer_models(extent,\n",
    "                                                         delr, delc,\n",
    "                                                         use_regis=True,\n",
    "                                                         use_geotop=False,\n",
    "                                                         cachedir=model_ds.cachedir,\n",
    "                                                         cachename='combined_layer_ds.nc')\n",
    "\n",
    "# create modflow packages\n",
    "sim, gwf = nlmod.mfpackages.sim_tdis_gwf_ims_from_model_ds(model_ds)"
   ]
  },
  {
   "cell_type": "code",
   "execution_count": null,
   "id": "b35ea38e",
   "metadata": {},
   "outputs": [],
   "source": [
    "# update model_ds from layer model\n",
    "model_ds = nlmod.mdims.update_model_ds_from_ml_layer_ds(model_ds,\n",
    "                                                        layer_model,\n",
    "                                                        keep_vars=['x', 'y'],\n",
    "                                                        add_northsea=False,\n",
    "                                                        cachedir=model_ds.cachedir)\n",
    "\n",
    "# Create discretization\n",
    "dis = nlmod.mfpackages.dis_from_model_ds(model_ds, gwf)\n",
    "\n",
    "# create node property flow\n",
    "npf = nlmod.mfpackages.npf_from_model_ds(model_ds, gwf)\n",
    "\n",
    "# Create the initial conditions package\n",
    "ic = nlmod.mfpackages.ic_from_model_ds(model_ds, gwf, starting_head=1.0)\n",
    "\n",
    "# Create the output control package\n",
    "oc = nlmod.mfpackages.oc_from_model_ds(model_ds, gwf)"
   ]
  },
  {
   "cell_type": "markdown",
   "id": "0ef4321a",
   "metadata": {},
   "source": [
    "## [3. Add surface water](#top)<a id='3'></a>\n",
    "\n",
    "Now that we have a discretization (a grid, and layer tops and bottoms) we can start processing our surface water shapefile to add surface water features to our model. The method to add surface water starting from a shapefile is divided into the following steps:\n",
    "\n",
    "1. Intersect surface water shape with grid. This steps intersects every feature with the grid so we can determine the surface water features in each cell.\n",
    "2. Aggregate parameters per grid cell. Each feature within a cell has its own parameters. For MODFLOW it is often desirable to have one representative set of parameters per cell. These representative parameters are calculated in this step.\n",
    "3. Build stress period data. The results from the previous step are converted to stress period data (generally a list of cellids and representative parameters: `[(cellid), parameters]`) which is used by MODFLOW and flopy to define boundary conditions.\n",
    "4. Create the Modflow6 package\n",
    "\n",
    "The steps are illustrated below."
   ]
  },
  {
   "cell_type": "markdown",
   "id": "94f5845e",
   "metadata": {},
   "source": [
    "### [Intersect surface water shape with grid](#top)<a id='3.1'></a>\n",
    "\n",
    "The first step is to intersect the surface water shapefile with the grid."
   ]
  },
  {
   "cell_type": "code",
   "execution_count": null,
   "id": "9b4a90b5",
   "metadata": {},
   "outputs": [],
   "source": [
    "sfw_grid = nlmod.mdims.gdf2grid(sfw, gwf, method='vertex')"
   ]
  },
  {
   "cell_type": "markdown",
   "id": "7c19ad24",
   "metadata": {},
   "source": [
    "Plot the result and the model grid and color using `cellid`. It's perhaps a bit hard to see but each feature is cut by the gridlines. "
   ]
  },
  {
   "cell_type": "code",
   "execution_count": null,
   "id": "82a551e9",
   "metadata": {},
   "outputs": [],
   "source": [
    "fig, ax = plt.subplots(1, 1, figsize=(10, 8))\n",
    "ax.set_aspect(\"equal\", adjustable=\"box\")\n",
    "sfw_grid.plot(ax=ax, column=\"cellid\")\n",
    "gwf.modelgrid.plot(ax=ax, linewidth=0.5, color=\"k\")\n",
    "xmin, xmax, ymin, ymax = extent\n",
    "offset = 100\n",
    "ax.set_xlim(xmin-offset, xmax+offset)\n",
    "ax.set_ylim(ymin-offset, ymax+offset);\n",
    "fig.savefig(os.path.join(model_ds.figdir,'surface_water_Schoonhoven.png'))"
   ]
  },
  {
   "cell_type": "markdown",
   "id": "086237da",
   "metadata": {},
   "source": [
    "### [Aggregate parameters per model cell](#top)<a id='3.2'></a>\n",
    "\n",
    "The next step is to aggregate the parameters for all the features in one grid cell to obtain one representative set of parameters. First, let's take a look at a grid cell containing multiple features."
   ]
  },
  {
   "cell_type": "code",
   "execution_count": null,
   "id": "ded567ef",
   "metadata": {},
   "outputs": [],
   "source": [
    "cid = (107, 6)  # for 50 x 50 m grid\n",
    "# cid = (5, 45)  # for 100 x 100 m grid\n",
    "mask = sfw_grid.cellid == cid\n",
    "sfw_grid.loc[mask]"
   ]
  },
  {
   "cell_type": "markdown",
   "id": "49ab1d1e",
   "metadata": {},
   "source": [
    "We can also plot the features within that grid cell."
   ]
  },
  {
   "cell_type": "code",
   "execution_count": null,
   "id": "3628d275",
   "metadata": {},
   "outputs": [],
   "source": [
    "fig, ax = plt.subplots(1, 1, figsize=(10, 8))\n",
    "sfw_grid.loc[mask].plot(column=\"unique_id\", legend=True, ax=ax,\n",
    "                        legend_kwds={\"loc\": \"upper left\"})\n",
    "xlim = ax.get_xlim()\n",
    "ylim = ax.get_ylim()\n",
    "gwf.modelgrid.plot(ax=ax)\n",
    "ax.set_xlim(xlim[0], xlim[0]+model_ds.delr*1.1)\n",
    "ax.set_ylim(ylim)\n",
    "ax.set_title(f\"Surface water shapes in cell: {cid}\");\n",
    "fig.savefig(os.path.join(model_ds.figdir,'surface_water_detail.png'))"
   ]
  },
  {
   "cell_type": "markdown",
   "id": "4e768334",
   "metadata": {},
   "source": [
    "Now we want to aggregate the features in each cell to obtain a representative set of parameters (`stage`, `conductance`, `bottom elevation`) to use in the model. There are several aggregation methods. Note that the names of the methods are not representative of the aggregation applied to each parameter. For a full description see the following list:\n",
    "\n",
    "- `'area_weighted'`\n",
    "  - **stage**: area-weighted average of stage in cell\n",
    "  - **cond**: conductance is equal to area of surface water divided by bottom resistance\n",
    "  - **elev**: the lowest bottom elevation is representative for the cell\n",
    "- `'max_area'`\n",
    "  - **stage**: stage is determined by the largest surface water feature in a cell\n",
    "  - **cond**: conductance is equal to area of all surface water features divided by bottom resistance\n",
    "  - **elev**: the lowest bottom elevation is representative for the cell\n",
    "- `'de_lange'`\n",
    "  - **stage**: area-weighted average of stage in cell\n",
    "  - **cond**: conductance is calculated using the formulas derived by De Lange (1999).\n",
    "  - **elev**: the lowest bottom elevation is representative for the cell\n",
    "  \n",
    "Let's try using `area_weighted`. This means the stage is the area-weighted average of all the surface water features in a cell. The conductance is calculated by dividing the total area of surface water in a cell by the bottom resistance (`c0`). The representative bottom elevation is the lowest elevation present in the cell."
   ]
  },
  {
   "cell_type": "code",
   "execution_count": null,
   "id": "ffa7f59b",
   "metadata": {},
   "outputs": [],
   "source": [
    "try:\n",
    "    nlmod.mfpackages.surface_water.aggregate_surface_water(\n",
    "        sfw_grid, \"area_weighted\")\n",
    "except ValueError as e:\n",
    "    print(e)"
   ]
  },
  {
   "cell_type": "markdown",
   "id": "9da16e27",
   "metadata": {},
   "source": [
    "The function checks whether the requisite columns are defined in the DataFrame. We need to add a column containing the bottom resistance `c0`. Often a value of 1 day is used as an initial estimate."
   ]
  },
  {
   "cell_type": "code",
   "execution_count": null,
   "id": "572e51e5",
   "metadata": {},
   "outputs": [],
   "source": [
    "sfw_grid[\"c0\"] = 1.0  # days"
   ]
  },
  {
   "cell_type": "markdown",
   "id": "ce36efc0",
   "metadata": {},
   "source": [
    "Now aggregate the features."
   ]
  },
  {
   "cell_type": "code",
   "execution_count": null,
   "id": "03f980b9",
   "metadata": {},
   "outputs": [],
   "source": [
    "celldata = nlmod.mfpackages.surface_water.aggregate_surface_water(sfw_grid, \"area_weighted\")"
   ]
  },
  {
   "cell_type": "markdown",
   "id": "d1907bde",
   "metadata": {},
   "source": [
    "Let's take a look at the result. We now have a DataFrame with cell-id as the index and the three parameters we need for each cell `stage`, `cond` and `rbot`. The area is also given, but is not needed for the groundwater model. "
   ]
  },
  {
   "cell_type": "code",
   "execution_count": null,
   "id": "0f6b8d06",
   "metadata": {},
   "outputs": [],
   "source": [
    "celldata.head(10)"
   ]
  },
  {
   "cell_type": "markdown",
   "id": "5349cf12",
   "metadata": {},
   "source": [
    "### [Build stress period data](#top)<a id='3.3'></a>\n",
    "\n",
    "The next step is to take our cell-data and build convert it to 'stress period data' for MODFLOW. This is a data format that defines the parameters in each cell in the following format:\n",
    "\n",
    "```\n",
    "[[(cellid1), param1a, param1b, param1c],\n",
    " [(cellid2), param2a, param2b, param2c],\n",
    " ...]\n",
    "```\n",
    "\n",
    "The required parameters are defined by the MODFLOW-package used:\n",
    "\n",
    "- **RIV**: for the river package `(stage, cond, rbot)`\n",
    "- **DRN**: for the drain package `(stage, cond)`\n",
    "- **GHB**: for the general-head-boundary package `(stage, cond)`\n",
    "\n",
    "We're selecting the RIV package. We don't have a bottom (rbot) for each reach in celldata. Therefore we remove the reaches where rbot is nan (not a number)."
   ]
  },
  {
   "cell_type": "code",
   "execution_count": null,
   "id": "d927545f-83a4-4911-b884-37a306637ab4",
   "metadata": {},
   "outputs": [],
   "source": [
    "new_celldata = celldata.loc[~celldata.rbot.isna()]\n",
    "print(f'removed {len(celldata)-len(new_celldata)} reaches because rbot is nan')"
   ]
  },
  {
   "cell_type": "code",
   "execution_count": null,
   "id": "095b3323",
   "metadata": {},
   "outputs": [],
   "source": [
    "riv_spd = nlmod.mfpackages.surface_water.build_spd(new_celldata, \"RIV\", model_ds)"
   ]
  },
  {
   "cell_type": "markdown",
   "id": "fbc24c19",
   "metadata": {},
   "source": [
    "Take a look at the stress period data for the river package:"
   ]
  },
  {
   "cell_type": "code",
   "execution_count": null,
   "id": "37144d27",
   "metadata": {},
   "outputs": [],
   "source": [
    "riv_spd[:10]"
   ]
  },
  {
   "cell_type": "markdown",
   "id": "56e9694f",
   "metadata": {},
   "source": [
    "### [Create RIV package](#top)<a id='3.4'></a>\n",
    "\n",
    "The final step is to create the river package using flopy."
   ]
  },
  {
   "cell_type": "code",
   "execution_count": null,
   "id": "35478e93",
   "metadata": {},
   "outputs": [],
   "source": [
    "riv = flopy.mf6.ModflowGwfriv(gwf, stress_period_data=riv_spd)"
   ]
  },
  {
   "cell_type": "markdown",
   "id": "31274540",
   "metadata": {},
   "source": [
    "Plot the river boundary condition to see where rivers were added in the model"
   ]
  },
  {
   "cell_type": "code",
   "execution_count": null,
   "id": "11da46a0",
   "metadata": {},
   "outputs": [],
   "source": [
    "fig, ax = plt.subplots(1, 1, figsize=(10, 8), constrained_layout=True)\n",
    "mv = flopy.plot.PlotMapView(model=gwf, ax=ax, layer=0)\n",
    "mv.plot_bc(\"RIV\");"
   ]
  },
  {
   "cell_type": "markdown",
   "id": "f740f373",
   "metadata": {},
   "source": [
    "## [4. Write + run model](#top)<a id='4'></a>\n",
    "\n",
    "Now write the model simulation to disk, and run the simulation."
   ]
  },
  {
   "cell_type": "code",
   "execution_count": null,
   "id": "414f388f",
   "metadata": {},
   "outputs": [],
   "source": [
    "nlmod.util.write_and_run_model(gwf, model_ds, write_model_ds=True, nb_path='02_surface_water.ipynb')"
   ]
  },
  {
   "cell_type": "markdown",
   "id": "1612a416",
   "metadata": {},
   "source": [
    "## [5. Visualize results](#top)<a id='5'></a>\n",
    "\n",
    "To see whether our surface water was correctly added to the model, let's visualize the results. We'll load the calculated heads, and plot them."
   ]
  },
  {
   "cell_type": "code",
   "execution_count": null,
   "id": "8594c562",
   "metadata": {},
   "outputs": [],
   "source": [
    "hds_obj = flopy.utils.HeadFile(os.path.join(\n",
    "    model_ds.model_ws, model_ds.model_name) + \".hds\")"
   ]
  },
  {
   "cell_type": "markdown",
   "id": "8e18a702",
   "metadata": {},
   "source": [
    "Load the data, and set NODATA (often values of +1e30) to `np.nan`."
   ]
  },
  {
   "cell_type": "code",
   "execution_count": null,
   "id": "301690ff",
   "metadata": {},
   "outputs": [],
   "source": [
    "h = hds_obj.get_alldata()\n",
    "h[h > 1e20] = np.nan  # set NODATA to NaN"
   ]
  },
  {
   "cell_type": "markdown",
   "id": "ee8a6d94",
   "metadata": {},
   "source": [
    "Plot the heads in a specific model layer"
   ]
  },
  {
   "cell_type": "code",
   "execution_count": null,
   "id": "8b9e2c74",
   "metadata": {},
   "outputs": [],
   "source": [
    "ilay = 0\n",
    "fig, ax = plt.subplots(1, 1, figsize=(10, 8), constrained_layout=True)\n",
    "mv = flopy.plot.PlotMapView(model=gwf, ax=ax, layer=ilay)\n",
    "qm = mv.plot_array(h[-1], cmap=\"RdBu\")  # last timestep\n",
    "mv.plot_ibound()  # plot inactive cells in red\n",
    "fig.colorbar(qm, shrink=1.0)\n",
    "ax.set_title(f\"Heads top-view, layer {ilay}\");\n",
    "fig.savefig(os.path.join(model_ds.figdir,f'heads_layer{ilay}.png'))"
   ]
  },
  {
   "cell_type": "markdown",
   "id": "99dab419",
   "metadata": {},
   "source": [
    "In cross-section"
   ]
  },
  {
   "cell_type": "code",
   "execution_count": null,
   "id": "282abb74",
   "metadata": {},
   "outputs": [],
   "source": [
    "fig, ax = plt.subplots(1, 1, figsize=(10, 3), constrained_layout=True)\n",
    "xs = flopy.plot.PlotCrossSection(\n",
    "    model=gwf, ax=ax, line={\"row\": gwf.modelgrid.nrow // 2})\n",
    "qm = xs.plot_array(h[-1], cmap=\"RdBu\")  # last timestep\n",
    "xs.plot_ibound()  # plot inactive cells in red\n",
    "fig.colorbar(qm, shrink=1.0)\n",
    "row = gwf.modelgrid.nrow // 2\n",
    "ax.set_title(f\"Cross-section along row {row}\");\n",
    "fig.savefig(os.path.join(model_ds.figdir,f'heads_cross_section_along_row{row}.png'))"
   ]
  },
  {
   "cell_type": "code",
   "execution_count": null,
   "id": "b6951c0c",
   "metadata": {},
   "outputs": [],
   "source": []
  }
 ],
 "metadata": {
  "kernelspec": {
   "display_name": "Python 3 (ipykernel)",
   "language": "python",
   "name": "python3"
  },
  "language_info": {
   "codemirror_mode": {
    "name": "ipython",
    "version": 3
   },
   "file_extension": ".py",
   "mimetype": "text/x-python",
   "name": "python",
   "nbconvert_exporter": "python",
   "pygments_lexer": "ipython3",
   "version": "3.9.7"
  }
 },
 "nbformat": 4,
 "nbformat_minor": 5
}
