{
 "cells": [
  {
   "cell_type": "markdown",
   "id": "a326f97f",
   "metadata": {},
   "source": [
    "# Schoonhoven\n",
    "In this notebook we build a model for the area around Schoonhoven. We mainly focus on the surface water. There are three water boards in the model area, of which we download seasonal data about the stage of the surface water. For locations without a stage from the water board, we deliniate information from a Digital Terrain Model, to set a stage. Finally, for the river Lek, we build a river package with a fixed stage of 0.0 meter.\n",
    "\n",
    "## Import packages"
   ]
  },
  {
   "cell_type": "code",
   "execution_count": null,
   "id": "429d47d5",
   "metadata": {},
   "outputs": [],
   "source": [
    "import os\n",
    "import rioxarray\n",
    "import numpy as np\n",
    "import pandas as pd\n",
    "from rasterstats import zonal_stats\n",
    "from shapely.geometry import Point\n",
    "import flopy\n",
    "import logging\n",
    "import matplotlib\n",
    "import nlmod\n",
    "from nlmod.visualise.netcdf import DatasetCrossSection\n",
    "import matplotlib.pyplot as plt\n",
    "\n",
    "# set the log-level to INFO, so more information is shown (compared to the default setting of WARNING)\n",
    "logging.basicConfig(level=logging.INFO)"
   ]
  },
  {
   "cell_type": "markdown",
   "id": "26954c60",
   "metadata": {},
   "source": [
    "## Model settings\n",
    "We define some model settings, like the name, the directory of the model files, the model extent and the time"
   ]
  },
  {
   "cell_type": "code",
   "execution_count": null,
   "id": "3f8f9e3f",
   "metadata": {},
   "outputs": [],
   "source": [
    "model_name = \"Schoonhoven\"\n",
    "model_ws = \"model9\"\n",
    "figdir, cachedir = nlmod.util.get_model_dirs(model_ws)\n",
    "extent = [116500, 120000, 439000, 442000]\n",
    "time = pd.date_range(\"2015\", \"2022\", freq=\"MS\") # monthly timestep"
   ]
  },
  {
   "cell_type": "markdown",
   "id": "b7c5efff",
   "metadata": {},
   "source": [
    "## Download data\n",
    "### AHN\n",
    "Download the Digital Terrain model of the Netherlands (AHN) with a resolution of 0.5 meter."
   ]
  },
  {
   "cell_type": "code",
   "execution_count": null,
   "id": "a696b36a",
   "metadata": {},
   "outputs": [],
   "source": [
    "fname_ahn = os.path.join(cachedir, \"ahn.tif\")\n",
    "if not os.path.isfile(fname_ahn):\n",
    "    ahn = nlmod.read.ahn.get_ahn4(extent, identifier='AHN4_DTM_05m')\n",
    "    ahn.rio.to_raster(fname_ahn)"
   ]
  },
  {
   "cell_type": "markdown",
   "id": "9cf078d9",
   "metadata": {},
   "source": [
    "### layer 'waterdeel' from bgt\n",
    "As the source of the location of the surface water bodies we use the 'waterdeel' layer of the Basisregistratie Grootschalige Topografie (BGT). This data consists of detailed polygons, maintained by dutch government agencies (water boards, municipalities and Rijkswatrstaat)."
   ]
  },
  {
   "cell_type": "code",
   "execution_count": null,
   "id": "a94094ae",
   "metadata": {},
   "outputs": [],
   "source": [
    "bgt = nlmod.read.bgt.get_bgt(extent)"
   ]
  },
  {
   "cell_type": "markdown",
   "id": "e3963b46",
   "metadata": {},
   "source": [
    "#### Add mimimum surface height around surface water bodies\n",
    "Get the minimum surface level in 1 meter around surface water levels and add these data to the column 'ahn_min'."
   ]
  },
  {
   "cell_type": "code",
   "execution_count": null,
   "id": "8bc1197d",
   "metadata": {},
   "outputs": [],
   "source": [
    "stats = zonal_stats(bgt.geometry.buffer(1.0), fname_ahn, stats=\"min\")\n",
    "bgt[\"ahn_min\"] = [x[\"min\"] for x in stats]"
   ]
  },
  {
   "cell_type": "markdown",
   "id": "cfedf7ac",
   "metadata": {},
   "source": [
    "#### Plot 'bronhouder'\n",
    "We can plot the column 'bronhouder' from the GeoDataFrame bgt. We see there are three water boards in this area (with codes starting with 'W')."
   ]
  },
  {
   "cell_type": "code",
   "execution_count": null,
   "id": "af278f4e",
   "metadata": {},
   "outputs": [],
   "source": [
    "f, ax = nlmod.plot.get_map(extent)\n",
    "bgt.plot(\"bronhouder\", legend=True, ax=ax);"
   ]
  },
  {
   "cell_type": "markdown",
   "id": "e4c37612",
   "metadata": {},
   "source": [
    "### level areas\n",
    "For these three waterboards we download the level areas (peilgebieden): polygons with information about winter and summer stages."
   ]
  },
  {
   "cell_type": "code",
   "execution_count": null,
   "id": "4a65a136",
   "metadata": {},
   "outputs": [],
   "source": [
    "pg = nlmod.gwf.surface_water.download_level_areas(bgt, extent=extent)"
   ]
  },
  {
   "cell_type": "markdown",
   "id": "3816ec72",
   "metadata": {},
   "source": [
    "#### Plot summer stage\n",
    "The method download_level_areas() generates a dictionary with the name of the water boards as keys and GeoDataFrames as values. Each GeoDataFrame contains the columns summer_stage and winter_stage. Let's plot the summer stage, together with the location of the surface water bodies."
   ]
  },
  {
   "cell_type": "code",
   "execution_count": null,
   "id": "356091b5",
   "metadata": {},
   "outputs": [],
   "source": [
    "f, ax = nlmod.plot.get_map(extent)\n",
    "bgt.plot(color=\"k\", ax=ax)\n",
    "for wb in pg:\n",
    "    pg[wb].plot(\"summer_stage\", ax=ax, vmin=-3, vmax=1, zorder=0)"
   ]
  },
  {
   "cell_type": "markdown",
   "id": "11f8a372",
   "metadata": {},
   "source": [
    "#### Add stages to bgt-data\n",
    "We then add the information from these level areas to the surface water bodies."
   ]
  },
  {
   "cell_type": "code",
   "execution_count": null,
   "id": "4ba44c40",
   "metadata": {},
   "outputs": [],
   "source": [
    "bgt = nlmod.gwf.surface_water.add_stages_from_waterboards(bgt, pg=pg)"
   ]
  },
  {
   "cell_type": "markdown",
   "id": "c1eb9d06",
   "metadata": {},
   "source": [
    "#### Plot summer stage of surface water bodies\n",
    "We can plot the summer stage. There are some surface water bodies without a summer-stage, because the 'bronhouder' is not a water board. The main one is the river Lek, but there are also some surface water bodies without a summer stage more north."
   ]
  },
  {
   "cell_type": "code",
   "execution_count": null,
   "id": "3a328fb4",
   "metadata": {},
   "outputs": [],
   "source": [
    "f, ax = nlmod.plot.get_map(extent)\n",
    "norm = matplotlib.colors.Normalize(vmin=-3, vmax=1)\n",
    "cmap = 'viridis'\n",
    "bgt.plot(\"summer_stage\", ax=ax, norm=norm, cmap=cmap);\n",
    "nlmod.plot.colorbar_inside(norm=norm, cmap=cmap);"
   ]
  },
  {
   "cell_type": "markdown",
   "id": "4aea6ed8",
   "metadata": {},
   "source": [
    "If no information about the stage is available, a constant stage is set to the minimal height of the digital terrain model (AHN) near the surface water body. We can plot these values as well:"
   ]
  },
  {
   "cell_type": "code",
   "execution_count": null,
   "id": "e1e552e5",
   "metadata": {},
   "outputs": [],
   "source": [
    "f, ax = nlmod.plot.get_map(extent)\n",
    "bgt.plot(\"ahn_min\", ax=ax, norm=norm, cmap=cmap)\n",
    "nlmod.plot.colorbar_inside(norm=norm, cmap=cmap);"
   ]
  },
  {
   "cell_type": "markdown",
   "id": "fbf531fa",
   "metadata": {},
   "source": [
    "### REGIS\n",
    "For the schematisation of the subsurface we use REGIS. Let's download this data for the required extent."
   ]
  },
  {
   "cell_type": "code",
   "execution_count": null,
   "id": "22de3209",
   "metadata": {},
   "outputs": [],
   "source": [
    "regis = nlmod.read.get_regis(extent, cachedir=cachedir, cachename=\"regis.nc\")\n",
    "regis"
   ]
  },
  {
   "cell_type": "markdown",
   "id": "9f64d15e",
   "metadata": {},
   "source": [
    "We then create a regular grid, add nessecary variables (eg idomain) and fill nan's. For example, REGIS does not contain infomration about the hydraulic conductivity of the first layer ('HLc'). These NaN's are replaced by a default hydraulic conductivity (kh) of 1 m/d. This probably is not a good representation of the conductivity, but at least the model will run."
   ]
  },
  {
   "cell_type": "code",
   "execution_count": null,
   "id": "3ed4d540",
   "metadata": {},
   "outputs": [],
   "source": [
    "ds = nlmod.read.regis.to_model_ds(\n",
    "    regis, model_name, model_ws, delr=100.0, delc=100.0\n",
    ")\n",
    "ds"
   ]
  },
  {
   "cell_type": "markdown",
   "id": "363f0c3d",
   "metadata": {},
   "source": [
    "## Add grid refinement\n",
    "With the refine method, we can add grid refinement. The model will then use the disv-package instead of the dis-package. We can also test if the disv-package gives the same results as the dis-package by not specifying refinement_features: ds = nlmod.mgrid.refine(ds).\n",
    "\n",
    "This notebook can be run with or without running the cell below."
   ]
  },
  {
   "cell_type": "code",
   "execution_count": null,
   "id": "ed07f7df",
   "metadata": {},
   "outputs": [],
   "source": [
    "refinement_features = [(bgt[bgt[\"bronhouder\"] == \"L0002\"], 2)]\n",
    "ds = nlmod.mgrid.refine(ds, refinement_features=refinement_features)"
   ]
  },
  {
   "cell_type": "markdown",
   "id": "4a4923c9",
   "metadata": {},
   "source": [
    "## Add information about time"
   ]
  },
  {
   "cell_type": "code",
   "execution_count": null,
   "id": "d435d2b1",
   "metadata": {},
   "outputs": [],
   "source": [
    "ds = nlmod.mdims.set_ds_time(ds, time=time)"
   ]
  },
  {
   "cell_type": "markdown",
   "id": "3474fc22",
   "metadata": {},
   "source": [
    "## Add knmi recharge to the model dataset"
   ]
  },
  {
   "cell_type": "code",
   "execution_count": null,
   "id": "00699ba5",
   "metadata": {},
   "outputs": [],
   "source": [
    "knmi_ds = nlmod.read.knmi.get_recharge(\n",
    "    ds, cachedir=cachedir, cachename=\"recharge.nc\"\n",
    ")\n",
    "ds.update(knmi_ds)"
   ]
  },
  {
   "cell_type": "markdown",
   "id": "1447f11a",
   "metadata": {},
   "source": [
    "## Create a groundwater flow model\n",
    "Using the data from the xarray Dataset ds we generate a groundwater flow model."
   ]
  },
  {
   "cell_type": "code",
   "execution_count": null,
   "id": "99dfcca7",
   "metadata": {},
   "outputs": [],
   "source": [
    "# create simulation \n",
    "sim = nlmod.gwf.sim(ds)\n",
    "\n",
    "# create time discretisation\n",
    "tdis = nlmod.gwf.tdis(ds, sim)\n",
    "\n",
    "# create groundwater flow model\n",
    "gwf = nlmod.gwf.gwf(ds, sim)\n",
    "\n",
    "# create ims\n",
    "ims = nlmod.gwf.ims(sim)\n",
    "\n",
    "# Create discretization\n",
    "nlmod.gwf.dis(ds, gwf)\n",
    "\n",
    "# create node property flow\n",
    "nlmod.gwf.npf(ds, gwf, save_flows=True)\n",
    "\n",
    "# Create the initial conditions package\n",
    "nlmod.gwf.ic(ds, gwf, starting_head=0.0)\n",
    "\n",
    "# Create the output control package\n",
    "nlmod.gwf.oc(ds, gwf)\n",
    "\n",
    "# create recharge package\n",
    "rch = nlmod.gwf.rch(ds, gwf)\n",
    "\n",
    "# create storagee package\n",
    "sto = nlmod.gwf.sto(ds, gwf)"
   ]
  },
  {
   "cell_type": "markdown",
   "id": "f0d5d342",
   "metadata": {},
   "source": [
    "## Process surface water\n",
    "We cut the surface water bodies with the grid, set a default resistance of 1 day, and seperate the large river 'Lek' form the other surface water bodies."
   ]
  },
  {
   "cell_type": "code",
   "execution_count": null,
   "id": "d82c76c8",
   "metadata": {},
   "outputs": [],
   "source": [
    "mg = nlmod.mgrid.modelgrid_from_ds(ds)\n",
    "gi = flopy.utils.GridIntersect(mg, method=\"vertex\")\n",
    "bgt_grid = nlmod.mdims.gdf2grid(bgt, ix=gi).set_index(\"cellid\")\n",
    "bgt_grid[\"cond\"] = bgt_grid.area / 1.0\n",
    "mask = bgt_grid[\"bronhouder\"] == \"L0002\"\n",
    "lek = bgt_grid[mask]\n",
    "bgt_grid = bgt_grid[~mask]"
   ]
  },
  {
   "cell_type": "markdown",
   "id": "bd9adde9",
   "metadata": {},
   "source": [
    "### Lek as river\n",
    "Model the river Lek as a river with a fixed stage of 0.5 m NAP"
   ]
  },
  {
   "cell_type": "code",
   "execution_count": null,
   "id": "beff6f4f",
   "metadata": {},
   "outputs": [],
   "source": [
    "lek[\"stage\"] = 0.0\n",
    "lek[\"rbot\"] = -3.0\n",
    "spd = nlmod.gwf.surface_water.build_spd(lek, \"RIV\", ds)\n",
    "riv = flopy.mf6.ModflowGwfriv(gwf, stress_period_data={0: spd})"
   ]
  },
  {
   "cell_type": "markdown",
   "id": "8be299bd",
   "metadata": {},
   "source": [
    "### Other surface water as drains\n",
    "model the other surface water using the drain package, with a summer stage and a  winter stage"
   ]
  },
  {
   "cell_type": "code",
   "execution_count": null,
   "id": "5e5e0a96",
   "metadata": {},
   "outputs": [],
   "source": [
    "nlmod.gwf.surface_water.gdf_to_seasonal_pkg(bgt_grid, gwf, ds);"
   ]
  },
  {
   "cell_type": "markdown",
   "id": "1a7f416e",
   "metadata": {},
   "source": [
    "## Run the model"
   ]
  },
  {
   "cell_type": "code",
   "execution_count": null,
   "id": "3c53cee0",
   "metadata": {},
   "outputs": [],
   "source": [
    "nlmod.gwf.write_and_run_model(gwf, ds)"
   ]
  },
  {
   "cell_type": "markdown",
   "id": "712f7f16",
   "metadata": {},
   "source": [
    "## Post-processing\n",
    "### Get the simulated head"
   ]
  },
  {
   "cell_type": "code",
   "execution_count": null,
   "id": "470f49b6",
   "metadata": {},
   "outputs": [],
   "source": [
    "head = nlmod.util.get_heads_dataarray(ds)"
   ]
  },
  {
   "cell_type": "markdown",
   "id": "1c4b8ddb",
   "metadata": {},
   "source": [
    "### Plot the average head in the first layer on a map"
   ]
  },
  {
   "cell_type": "code",
   "execution_count": null,
   "id": "1ff0c79d",
   "metadata": {},
   "outputs": [],
   "source": [
    "f, ax = nlmod.plot.get_map(extent)\n",
    "norm = matplotlib.colors.Normalize(-2.5, 0.0)\n",
    "pc = nlmod.plot.da(head.sel(layer=\"HLc\").mean(\"time\"), ds=ds, edgecolor=\"k\", norm=norm)\n",
    "cbar = nlmod.plot.colorbar_inside(pc)\n",
    "for label in cbar.ax.yaxis.get_ticklabels():\n",
    "    label.set_bbox(dict(facecolor='w', alpha=0.5))\n",
    "bgt.plot(ax=ax, edgecolor=\"k\", facecolor=\"none\");"
   ]
  },
  {
   "cell_type": "markdown",
   "id": "bd9ddb76",
   "metadata": {},
   "source": [
    "### Plot the average head in a cross-section, from north to south"
   ]
  },
  {
   "cell_type": "code",
   "execution_count": null,
   "id": "59684fd8",
   "metadata": {},
   "outputs": [],
   "source": [
    "x = 118228.\n",
    "line = [(x, 439000), (x, 442000)]\n",
    "f, ax = plt.subplots(figsize=(10, 6))\n",
    "ax.grid()\n",
    "dcs = DatasetCrossSection(ds, line, ax=ax, zmin=-100., zmax=10.)\n",
    "pc = dcs.plot_array(head.mean(\"time\"), norm=norm, head=head.mean(\"time\"))\n",
    "# add labels with layer names\n",
    "cbar = nlmod.plot.colorbar_inside(pc, bounds=[0.05, 0.05, 0.02, 0.9])\n",
    "for label in cbar.ax.yaxis.get_ticklabels():\n",
    "    label.set_bbox(dict(facecolor='w', alpha=0.5))\n",
    "dcs.plot_grid()\n",
    "dcs.plot_layers(alpha=0.0, min_label_area=1000)\n",
    "f.tight_layout(pad=0.0)"
   ]
  },
  {
   "cell_type": "markdown",
   "id": "6d543af4",
   "metadata": {},
   "source": [
    "### plot a time series at a certain location"
   ]
  },
  {
   "cell_type": "code",
   "execution_count": null,
   "id": "94b00624",
   "metadata": {},
   "outputs": [],
   "source": [
    "x = 118228\n",
    "y = 439870\n",
    "if ds.gridtype == \"vertex\":\n",
    "    icelld2 = gi.intersect(Point(x, y))[\"cellids\"][0]\n",
    "    head_point = head[:, :, icelld2]\n",
    "else:\n",
    "    head_point = head.interp(x=x, y=y, method=\"nearest\")\n",
    "# only keep layers that are active at this location\n",
    "head_point = head_point[:, ~head_point.isnull().all('time')]\n",
    "head_point.plot.line(hue=\"layer\", size=(10));"
   ]
  },
  {
   "cell_type": "markdown",
   "id": "25b68351",
   "metadata": {},
   "source": [
    "### Plot some properties of the first layer\n",
    "We can plot some properties of the first layer, called HLc. As REGIS does not contain data about hydraulic conductivities for this layer, default values of 1 m/d for kh and 0.1 m/d for hv are used, which can be seen in the graphs below."
   ]
  },
  {
   "cell_type": "code",
   "execution_count": null,
   "id": "a8196852",
   "metadata": {},
   "outputs": [],
   "source": [
    "layer = \"HLc\"\n",
    "f, axes = nlmod.plot.get_map(extent, nrows=2, ncols=2)\n",
    "variables = ['top', 'kh', 'botm','kv']\n",
    "for i, variable in enumerate(variables):\n",
    "    ax = axes.ravel()[i]\n",
    "    if variable == 'top':\n",
    "        if layer == ds.layer[0]:\n",
    "            da = ds['top']\n",
    "        else:\n",
    "            da = ds['botm'][np.where(ds.layer == layer)[0][0]-1]\n",
    "    else:\n",
    "        da = ds[variable].sel(layer=layer)\n",
    "    pc = nlmod.plot.da(da, ds=ds, ax=ax)\n",
    "    nlmod.plot.colorbar_inside(pc, ax=ax)\n",
    "    ax.text(0.5, 0.98, f'{variable} in layer {layer}', ha='center', va='top', transform=ax.transAxes)"
   ]
  },
  {
   "cell_type": "markdown",
   "id": "312f74ed-459e-4ea3-afb0-18da3eb5639f",
   "metadata": {},
   "source": [
    "## Add pathlines\n",
    "\n",
    "We create a modpath model which calculates the pathlines. We calculate the pathlines that start in the center of the modflow cells with a river boundary condition (the cells in the \"Lek\" river)."
   ]
  },
  {
   "cell_type": "code",
   "execution_count": null,
   "id": "e0682c7a-d6a2-49c2-b883-9b587f14e59b",
   "metadata": {},
   "outputs": [],
   "source": [
    "# create a modpath model\n",
    "mpf = nlmod.modpath.mpf(gwf)\n",
    "\n",
    "# create the basic modpath package\n",
    "_mpfbas = nlmod.modpath.bas(mpf)\n",
    "\n",
    "# get the nodes from a package\n",
    "nodes = nlmod.modpath.package_to_nodes(gwf, 'RIV_0', mpf)\n",
    "\n",
    "# create a particle tracking group from cell centers\n",
    "pg = nlmod.modpath.pg_from_pd(nodes, localx=0.5, localy=0.5, localz=0.5)\n",
    "\n",
    "# create the modpath simulation file\n",
    "mpsim = nlmod.modpath.sim(mpf, pg, 'forward', gwf=gwf)"
   ]
  },
  {
   "cell_type": "code",
   "execution_count": null,
   "id": "c1d55129-bf37-4e81-ab15-8c318bd63ffb",
   "metadata": {},
   "outputs": [],
   "source": [
    "# run modpath model\n",
    "nlmod.modpath.write_and_run_model(mpf, nb_path='10_modpath.ipynb')"
   ]
  },
  {
   "cell_type": "code",
   "execution_count": null,
   "id": "acad9afd-346d-43b4-92f2-cf9978a54083",
   "metadata": {},
   "outputs": [],
   "source": [
    "pdata = nlmod.modpath.load_pathline_data(mpf)"
   ]
  },
  {
   "cell_type": "code",
   "execution_count": null,
   "id": "25df4e09-f584-4e15-bf71-bcb4788ed38a",
   "metadata": {},
   "outputs": [],
   "source": [
    "f, ax = nlmod.plot.get_map(extent)\n",
    "    \n",
    "for pid in np.unique(pdata['particleid']):\n",
    "    pf = pdata[pdata['particleid']==pid]\n",
    "    ax.plot(pf['x'],pf['y'], color=\"k\", linewidth=0.5)\n",
    "ax.plot(pf['x'],pf['y'], color=\"k\", linewidth=0.5, label='pathline')\n",
    "bgt.plot(ax=ax, edgecolor=\"blue\", facecolor=\"none\");\n"
   ]
  },
  {
   "cell_type": "code",
   "execution_count": null,
   "id": "0a3e8401-9504-47d9-99ef-f75d67182a9b",
   "metadata": {},
   "outputs": [],
   "source": [
    "x = 118228.\n",
    "line = [(x, 439000), (x, 442000)]\n",
    "f, ax = plt.subplots(figsize=(10, 6))\n",
    "ax.grid()\n",
    "dcs = DatasetCrossSection(ds, line, ax=ax, zmin=-100., zmax=10.)\n",
    "\n",
    "# add labels with layer names\n",
    "for label in ax.yaxis.get_ticklabels():\n",
    "    label.set_bbox(dict(facecolor='w', alpha=0.5))\n",
    "    \n",
    "for pid in np.unique(pdata['particleid']):\n",
    "    pf = pdata[pdata['particleid']==pid]\n",
    "    ax.plot(pf['y']- extent[2],pf['z'], color=\"k\", linewidth=0.5)\n",
    "    \n",
    "dcs.plot_grid()\n",
    "dcs.plot_layers(alpha=0.0, min_label_area=1000)\n",
    "f.tight_layout(pad=0.0)"
   ]
  },
  {
   "cell_type": "code",
   "execution_count": null,
   "id": "13bf1ae8-2440-42b5-9cf9-1eef75cffb7f",
   "metadata": {},
   "outputs": [],
   "source": []
  }
 ],
 "metadata": {
  "kernelspec": {
   "display_name": "Python 3 (ipykernel)",
   "language": "python",
   "name": "python3"
  },
  "language_info": {
   "codemirror_mode": {
    "name": "ipython",
    "version": 3
   },
   "file_extension": ".py",
   "mimetype": "text/x-python",
   "name": "python",
   "nbconvert_exporter": "python",
   "pygments_lexer": "ipython3",
   "version": "3.9.4"
  }
 },
 "nbformat": 4,
 "nbformat_minor": 5
}
